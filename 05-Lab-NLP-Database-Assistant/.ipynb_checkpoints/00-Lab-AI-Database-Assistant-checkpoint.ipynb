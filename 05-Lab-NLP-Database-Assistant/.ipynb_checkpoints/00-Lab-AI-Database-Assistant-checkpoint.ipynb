{
 "cells": [
  {
   "cell_type": "code",
   "execution_count": 1,
   "id": "fe4d1dda-be6d-4a4f-b550-3d0130779d61",
   "metadata": {},
   "outputs": [],
   "source": [
    "import os"
   ]
  },
  {
   "cell_type": "code",
   "execution_count": 2,
   "id": "9f6438f3-6d78-4977-901e-ce95fa0812a8",
   "metadata": {},
   "outputs": [],
   "source": [
    "os.environ['GOOGLE_APPLICATION_CREDENTIALS'] = 'D:/Suraj/Cloud/Google Cloud/llm-learning-with-jp-7cd0cee5b01f.json'"
   ]
  },
  {
   "cell_type": "markdown",
   "id": "1fc00f0f-379e-4f35-bb93-1d699526c4e4",
   "metadata": {},
   "source": [
    "***"
   ]
  },
  {
   "cell_type": "code",
   "execution_count": 4,
   "id": "0fe9bcf0-aed0-4684-b98b-75736d2a1345",
   "metadata": {},
   "outputs": [],
   "source": [
    "# !pip install pandas sqlalchemy -qU"
   ]
  },
  {
   "cell_type": "code",
   "execution_count": 5,
   "id": "919fc3d4-cd84-449e-b533-f94aa3a215b1",
   "metadata": {},
   "outputs": [],
   "source": [
    "import pandas as pd"
   ]
  },
  {
   "cell_type": "code",
   "execution_count": 6,
   "id": "18c5caae-e517-424a-83a9-dfaed21cc04f",
   "metadata": {},
   "outputs": [],
   "source": [
    "df = pd.read_csv(\"./penguins.csv\")"
   ]
  },
  {
   "cell_type": "code",
   "execution_count": 7,
   "id": "eabef911-464f-4acf-958b-eccc0a3d0242",
   "metadata": {},
   "outputs": [
    {
     "data": {
      "text/html": [
       "<div>\n",
       "<style scoped>\n",
       "    .dataframe tbody tr th:only-of-type {\n",
       "        vertical-align: middle;\n",
       "    }\n",
       "\n",
       "    .dataframe tbody tr th {\n",
       "        vertical-align: top;\n",
       "    }\n",
       "\n",
       "    .dataframe thead th {\n",
       "        text-align: right;\n",
       "    }\n",
       "</style>\n",
       "<table border=\"1\" class=\"dataframe\">\n",
       "  <thead>\n",
       "    <tr style=\"text-align: right;\">\n",
       "      <th></th>\n",
       "      <th>species</th>\n",
       "      <th>island</th>\n",
       "      <th>bill_length_mm</th>\n",
       "      <th>bill_depth_mm</th>\n",
       "      <th>flipper_length_mm</th>\n",
       "      <th>body_mass_g</th>\n",
       "      <th>sex</th>\n",
       "    </tr>\n",
       "  </thead>\n",
       "  <tbody>\n",
       "    <tr>\n",
       "      <th>0</th>\n",
       "      <td>Adelie</td>\n",
       "      <td>Torgersen</td>\n",
       "      <td>39.1</td>\n",
       "      <td>18.7</td>\n",
       "      <td>181.0</td>\n",
       "      <td>3750.0</td>\n",
       "      <td>MALE</td>\n",
       "    </tr>\n",
       "    <tr>\n",
       "      <th>1</th>\n",
       "      <td>Adelie</td>\n",
       "      <td>Torgersen</td>\n",
       "      <td>39.5</td>\n",
       "      <td>17.4</td>\n",
       "      <td>186.0</td>\n",
       "      <td>3800.0</td>\n",
       "      <td>FEMALE</td>\n",
       "    </tr>\n",
       "    <tr>\n",
       "      <th>2</th>\n",
       "      <td>Adelie</td>\n",
       "      <td>Torgersen</td>\n",
       "      <td>40.3</td>\n",
       "      <td>18.0</td>\n",
       "      <td>195.0</td>\n",
       "      <td>3250.0</td>\n",
       "      <td>FEMALE</td>\n",
       "    </tr>\n",
       "    <tr>\n",
       "      <th>3</th>\n",
       "      <td>Adelie</td>\n",
       "      <td>Torgersen</td>\n",
       "      <td>NaN</td>\n",
       "      <td>NaN</td>\n",
       "      <td>NaN</td>\n",
       "      <td>NaN</td>\n",
       "      <td>NaN</td>\n",
       "    </tr>\n",
       "    <tr>\n",
       "      <th>4</th>\n",
       "      <td>Adelie</td>\n",
       "      <td>Torgersen</td>\n",
       "      <td>36.7</td>\n",
       "      <td>19.3</td>\n",
       "      <td>193.0</td>\n",
       "      <td>3450.0</td>\n",
       "      <td>FEMALE</td>\n",
       "    </tr>\n",
       "  </tbody>\n",
       "</table>\n",
       "</div>"
      ],
      "text/plain": [
       "  species     island  bill_length_mm  bill_depth_mm  flipper_length_mm  \\\n",
       "0  Adelie  Torgersen            39.1           18.7              181.0   \n",
       "1  Adelie  Torgersen            39.5           17.4              186.0   \n",
       "2  Adelie  Torgersen            40.3           18.0              195.0   \n",
       "3  Adelie  Torgersen             NaN            NaN                NaN   \n",
       "4  Adelie  Torgersen            36.7           19.3              193.0   \n",
       "\n",
       "   body_mass_g     sex  \n",
       "0       3750.0    MALE  \n",
       "1       3800.0  FEMALE  \n",
       "2       3250.0  FEMALE  \n",
       "3          NaN     NaN  \n",
       "4       3450.0  FEMALE  "
      ]
     },
     "execution_count": 7,
     "metadata": {},
     "output_type": "execute_result"
    }
   ],
   "source": [
    "df.head()"
   ]
  },
  {
   "cell_type": "code",
   "execution_count": null,
   "id": "945b2a24-6bb1-4ddb-8df9-5d9ec3d87fe4",
   "metadata": {},
   "outputs": [],
   "source": []
  },
  {
   "cell_type": "code",
   "execution_count": 8,
   "id": "1e895741-7f0c-4c53-8a36-02228c08c7b4",
   "metadata": {},
   "outputs": [],
   "source": [
    "from sqlalchemy import create_engine, text"
   ]
  },
  {
   "cell_type": "code",
   "execution_count": 9,
   "id": "7efcaad6-d8cb-4902-9a2d-932aefb8222b",
   "metadata": {},
   "outputs": [],
   "source": [
    "temp_db = create_engine(url = \"sqlite:///:memory:\", echo = True)"
   ]
  },
  {
   "cell_type": "code",
   "execution_count": 10,
   "id": "e5a81b57-4588-4057-ac33-9084da055f58",
   "metadata": {},
   "outputs": [
    {
     "name": "stdout",
     "output_type": "stream",
     "text": [
      "2024-01-14 09:04:24,724 INFO sqlalchemy.engine.Engine BEGIN (implicit)\n",
      "2024-01-14 09:04:24,730 INFO sqlalchemy.engine.Engine PRAGMA main.table_info(\"Penguins\")\n",
      "2024-01-14 09:04:24,732 INFO sqlalchemy.engine.Engine [raw sql] ()\n",
      "2024-01-14 09:04:24,732 INFO sqlalchemy.engine.Engine PRAGMA temp.table_info(\"Penguins\")\n",
      "2024-01-14 09:04:24,732 INFO sqlalchemy.engine.Engine [raw sql] ()\n",
      "2024-01-14 09:04:24,739 INFO sqlalchemy.engine.Engine \n",
      "CREATE TABLE \"Penguins\" (\n",
      "\t\"index\" BIGINT, \n",
      "\tspecies TEXT, \n",
      "\tisland TEXT, \n",
      "\tbill_length_mm FLOAT, \n",
      "\tbill_depth_mm FLOAT, \n",
      "\tflipper_length_mm FLOAT, \n",
      "\tbody_mass_g FLOAT, \n",
      "\tsex TEXT\n",
      ")\n",
      "\n",
      "\n",
      "2024-01-14 09:04:24,739 INFO sqlalchemy.engine.Engine [no key 0.00107s] ()\n",
      "2024-01-14 09:04:24,744 INFO sqlalchemy.engine.Engine CREATE INDEX \"ix_Penguins_index\" ON \"Penguins\" (\"index\")\n",
      "2024-01-14 09:04:24,744 INFO sqlalchemy.engine.Engine [no key 0.00113s] ()\n",
      "2024-01-14 09:04:24,755 INFO sqlalchemy.engine.Engine INSERT INTO \"Penguins\" (\"index\", species, island, bill_length_mm, bill_depth_mm, flipper_length_mm, body_mass_g, sex) VALUES (?, ?, ?, ?, ?, ?, ?, ?)\n",
      "2024-01-14 09:04:24,755 INFO sqlalchemy.engine.Engine [generated in 0.00455s] [(0, 'Adelie', 'Torgersen', 39.1, 18.7, 181.0, 3750.0, 'MALE'), (1, 'Adelie', 'Torgersen', 39.5, 17.4, 186.0, 3800.0, 'FEMALE'), (2, 'Adelie', 'Torgersen', 40.3, 18.0, 195.0, 3250.0, 'FEMALE'), (3, 'Adelie', 'Torgersen', None, None, None, None, None), (4, 'Adelie', 'Torgersen', 36.7, 19.3, 193.0, 3450.0, 'FEMALE'), (5, 'Adelie', 'Torgersen', 39.3, 20.6, 190.0, 3650.0, 'MALE'), (6, 'Adelie', 'Torgersen', 38.9, 17.8, 181.0, 3625.0, 'FEMALE'), (7, 'Adelie', 'Torgersen', 39.2, 19.6, 195.0, 4675.0, 'MALE')  ... displaying 10 of 344 total bound parameter sets ...  (342, 'Gentoo', 'Biscoe', 45.2, 14.8, 212.0, 5200.0, 'FEMALE'), (343, 'Gentoo', 'Biscoe', 49.9, 16.1, 213.0, 5400.0, 'MALE')]\n",
      "2024-01-14 09:04:24,758 INFO sqlalchemy.engine.Engine SELECT name FROM sqlite_master WHERE type='table' AND name NOT LIKE 'sqlite~_%' ESCAPE '~' ORDER BY name\n",
      "2024-01-14 09:04:24,758 INFO sqlalchemy.engine.Engine [raw sql] ()\n",
      "2024-01-14 09:04:24,765 INFO sqlalchemy.engine.Engine COMMIT\n"
     ]
    }
   ],
   "source": [
    "data = df.to_sql(name = \"Penguins\", con=temp_db)"
   ]
  },
  {
   "cell_type": "markdown",
   "id": "123752cb-a5b1-4ae8-8fbf-66d8bb7ee15d",
   "metadata": {},
   "source": [
    "## Connect to SQL DataBase\n",
    "\n",
    "Using SQL Alchemy we can establish a connection to this temporary database and query it for the results:"
   ]
  },
  {
   "cell_type": "code",
   "execution_count": 11,
   "id": "9e15be09-8b88-4b55-b677-b01465eef6a7",
   "metadata": {},
   "outputs": [
    {
     "name": "stdout",
     "output_type": "stream",
     "text": [
      "2024-01-14 09:07:13,453 INFO sqlalchemy.engine.Engine BEGIN (implicit)\n",
      "2024-01-14 09:07:13,453 INFO sqlalchemy.engine.Engine SELECT * from Penguins WHERE island='Torgersen'\n",
      "2024-01-14 09:07:13,457 INFO sqlalchemy.engine.Engine [generated in 0.00265s] ()\n",
      "2024-01-14 09:07:13,459 INFO sqlalchemy.engine.Engine ROLLBACK\n"
     ]
    }
   ],
   "source": [
    "with temp_db.connect() as conn:\n",
    "    result = conn.execute(text(\"SELECT * from Penguins WHERE island='Torgersen'\"))"
   ]
  },
  {
   "cell_type": "code",
   "execution_count": 13,
   "id": "428563c7-789a-401c-be44-d886cba19224",
   "metadata": {},
   "outputs": [
    {
     "data": {
      "text/plain": [
       "[(0, 'Adelie', 'Torgersen', 39.1, 18.7, 181.0, 3750.0, 'MALE'),\n",
       " (1, 'Adelie', 'Torgersen', 39.5, 17.4, 186.0, 3800.0, 'FEMALE'),\n",
       " (2, 'Adelie', 'Torgersen', 40.3, 18.0, 195.0, 3250.0, 'FEMALE'),\n",
       " (3, 'Adelie', 'Torgersen', None, None, None, None, None),\n",
       " (4, 'Adelie', 'Torgersen', 36.7, 19.3, 193.0, 3450.0, 'FEMALE'),\n",
       " (5, 'Adelie', 'Torgersen', 39.3, 20.6, 190.0, 3650.0, 'MALE'),\n",
       " (6, 'Adelie', 'Torgersen', 38.9, 17.8, 181.0, 3625.0, 'FEMALE'),\n",
       " (7, 'Adelie', 'Torgersen', 39.2, 19.6, 195.0, 4675.0, 'MALE'),\n",
       " (8, 'Adelie', 'Torgersen', 34.1, 18.1, 193.0, 3475.0, None),\n",
       " (9, 'Adelie', 'Torgersen', 42.0, 20.2, 190.0, 4250.0, None),\n",
       " (10, 'Adelie', 'Torgersen', 37.8, 17.1, 186.0, 3300.0, None),\n",
       " (11, 'Adelie', 'Torgersen', 37.8, 17.3, 180.0, 3700.0, None),\n",
       " (12, 'Adelie', 'Torgersen', 41.1, 17.6, 182.0, 3200.0, 'FEMALE'),\n",
       " (13, 'Adelie', 'Torgersen', 38.6, 21.2, 191.0, 3800.0, 'MALE'),\n",
       " (14, 'Adelie', 'Torgersen', 34.6, 21.1, 198.0, 4400.0, 'MALE'),\n",
       " (15, 'Adelie', 'Torgersen', 36.6, 17.8, 185.0, 3700.0, 'FEMALE'),\n",
       " (16, 'Adelie', 'Torgersen', 38.7, 19.0, 195.0, 3450.0, 'FEMALE'),\n",
       " (17, 'Adelie', 'Torgersen', 42.5, 20.7, 197.0, 4500.0, 'MALE'),\n",
       " (18, 'Adelie', 'Torgersen', 34.4, 18.4, 184.0, 3325.0, 'FEMALE'),\n",
       " (19, 'Adelie', 'Torgersen', 46.0, 21.5, 194.0, 4200.0, 'MALE'),\n",
       " (68, 'Adelie', 'Torgersen', 35.9, 16.6, 190.0, 3050.0, 'FEMALE'),\n",
       " (69, 'Adelie', 'Torgersen', 41.8, 19.4, 198.0, 4450.0, 'MALE'),\n",
       " (70, 'Adelie', 'Torgersen', 33.5, 19.0, 190.0, 3600.0, 'FEMALE'),\n",
       " (71, 'Adelie', 'Torgersen', 39.7, 18.4, 190.0, 3900.0, 'MALE'),\n",
       " (72, 'Adelie', 'Torgersen', 39.6, 17.2, 196.0, 3550.0, 'FEMALE'),\n",
       " (73, 'Adelie', 'Torgersen', 45.8, 18.9, 197.0, 4150.0, 'MALE'),\n",
       " (74, 'Adelie', 'Torgersen', 35.5, 17.5, 190.0, 3700.0, 'FEMALE'),\n",
       " (75, 'Adelie', 'Torgersen', 42.8, 18.5, 195.0, 4250.0, 'MALE'),\n",
       " (76, 'Adelie', 'Torgersen', 40.9, 16.8, 191.0, 3700.0, 'FEMALE'),\n",
       " (77, 'Adelie', 'Torgersen', 37.2, 19.4, 184.0, 3900.0, 'MALE'),\n",
       " (78, 'Adelie', 'Torgersen', 36.2, 16.1, 187.0, 3550.0, 'FEMALE'),\n",
       " (79, 'Adelie', 'Torgersen', 42.1, 19.1, 195.0, 4000.0, 'MALE'),\n",
       " (80, 'Adelie', 'Torgersen', 34.6, 17.2, 189.0, 3200.0, 'FEMALE'),\n",
       " (81, 'Adelie', 'Torgersen', 42.9, 17.6, 196.0, 4700.0, 'MALE'),\n",
       " (82, 'Adelie', 'Torgersen', 36.7, 18.8, 187.0, 3800.0, 'FEMALE'),\n",
       " (83, 'Adelie', 'Torgersen', 35.1, 19.4, 193.0, 4200.0, 'MALE'),\n",
       " (116, 'Adelie', 'Torgersen', 38.6, 17.0, 188.0, 2900.0, 'FEMALE'),\n",
       " (117, 'Adelie', 'Torgersen', 37.3, 20.5, 199.0, 3775.0, 'MALE'),\n",
       " (118, 'Adelie', 'Torgersen', 35.7, 17.0, 189.0, 3350.0, 'FEMALE'),\n",
       " (119, 'Adelie', 'Torgersen', 41.1, 18.6, 189.0, 3325.0, 'MALE'),\n",
       " (120, 'Adelie', 'Torgersen', 36.2, 17.2, 187.0, 3150.0, 'FEMALE'),\n",
       " (121, 'Adelie', 'Torgersen', 37.7, 19.8, 198.0, 3500.0, 'MALE'),\n",
       " (122, 'Adelie', 'Torgersen', 40.2, 17.0, 176.0, 3450.0, 'FEMALE'),\n",
       " (123, 'Adelie', 'Torgersen', 41.4, 18.5, 202.0, 3875.0, 'MALE'),\n",
       " (124, 'Adelie', 'Torgersen', 35.2, 15.9, 186.0, 3050.0, 'FEMALE'),\n",
       " (125, 'Adelie', 'Torgersen', 40.6, 19.0, 199.0, 4000.0, 'MALE'),\n",
       " (126, 'Adelie', 'Torgersen', 38.8, 17.6, 191.0, 3275.0, 'FEMALE'),\n",
       " (127, 'Adelie', 'Torgersen', 41.5, 18.3, 195.0, 4300.0, 'MALE'),\n",
       " (128, 'Adelie', 'Torgersen', 39.0, 17.1, 191.0, 3050.0, 'FEMALE'),\n",
       " (129, 'Adelie', 'Torgersen', 44.1, 18.0, 210.0, 4000.0, 'MALE'),\n",
       " (130, 'Adelie', 'Torgersen', 38.5, 17.9, 190.0, 3325.0, 'FEMALE'),\n",
       " (131, 'Adelie', 'Torgersen', 43.1, 19.2, 197.0, 3500.0, 'MALE')]"
      ]
     },
     "execution_count": 13,
     "metadata": {},
     "output_type": "execute_result"
    }
   ],
   "source": [
    "result.all()"
   ]
  },
  {
   "cell_type": "markdown",
   "id": "e868203c-bcd6-48b6-968a-05920fd6a2d5",
   "metadata": {},
   "source": [
    "## Using LLMs to Generate SQL from Natural Language\n",
    "\n",
    "First, let's create a prefix we can add to our prompts that helps the model understand the table:"
   ]
  },
  {
   "cell_type": "code",
   "execution_count": 14,
   "id": "57c7b6f1-a3de-4aca-98c7-8b0dfc4a91dd",
   "metadata": {},
   "outputs": [],
   "source": [
    "def create_prefix(query): \n",
    "    \n",
    "    prefix=f\"\"\"\n",
    "    Return a SQL statement that answers the following query:\n",
    "    {query}\n",
    "\n",
    "    For a table called 'Penguins' with the following properties:\n",
    "    \n",
    "     #   Column             Non-Null Count  Dtype  \n",
    "    ---  ------             --------------  -----  \n",
    "     0   species            344 non-null    object \n",
    "     1   island             344 non-null    object \n",
    "     2   bill_length_mm     342 non-null    float64\n",
    "     3   bill_depth_mm      342 non-null    float64\n",
    "     4   flipper_length_mm  342 non-null    float64\n",
    "     5   body_mass_g        342 non-null    float64\n",
    "     6   sex                333 non-null    object \n",
    "     \n",
    "    Example Rows:\n",
    "    (0, 'Adelie', 'Torgersen', 39.1, 18.7, 181.0, 3750.0, 'MALE'),\n",
    "    (1, 'Adelie', 'Torgersen', 39.5, 17.4, 186.0, 3800.0, 'FEMALE')\n",
    "    \n",
    "    Only return the SQL statement for the query. \n",
    "    \"\"\" \n",
    "    return prefix"
   ]
  },
  {
   "cell_type": "code",
   "execution_count": 35,
   "id": "38a6c805-2d81-456b-a0e1-44e008c38265",
   "metadata": {},
   "outputs": [],
   "source": [
    "def user_input(return_query_only=False):\n",
    "    query = input(\"Ask a question about the database :-->\\n\")\n",
    "    if return_query_only:\n",
    "        return query\n",
    "    else:\n",
    "        return create_prefix(query)"
   ]
  },
  {
   "cell_type": "code",
   "execution_count": 37,
   "id": "ed51daa3-3548-40db-abb0-53f9ed4d39c0",
   "metadata": {},
   "outputs": [
    {
     "name": "stdin",
     "output_type": "stream",
     "text": [
      "Ask a question about the database :-->\n",
      " How many Penguins are female?\n"
     ]
    }
   ],
   "source": [
    "prefix = user_input()"
   ]
  },
  {
   "cell_type": "code",
   "execution_count": 38,
   "id": "0f152346-5aa2-4723-aed1-59c8f6cf67ff",
   "metadata": {},
   "outputs": [
    {
     "name": "stdout",
     "output_type": "stream",
     "text": [
      "\n",
      "    Return a SQL statement that answers the following query:\n",
      "    How many Penguins are female?\n",
      "\n",
      "    For a table called 'Penguins' with the following properties:\n",
      "    \n",
      "     #   Column             Non-Null Count  Dtype  \n",
      "    ---  ------             --------------  -----  \n",
      "     0   species            344 non-null    object \n",
      "     1   island             344 non-null    object \n",
      "     2   bill_length_mm     342 non-null    float64\n",
      "     3   bill_depth_mm      342 non-null    float64\n",
      "     4   flipper_length_mm  342 non-null    float64\n",
      "     5   body_mass_g        342 non-null    float64\n",
      "     6   sex                333 non-null    object \n",
      "     \n",
      "    Example Rows:\n",
      "    (0, 'Adelie', 'Torgersen', 39.1, 18.7, 181.0, 3750.0, 'MALE'),\n",
      "    (1, 'Adelie', 'Torgersen', 39.5, 17.4, 186.0, 3800.0, 'FEMALE')\n",
      "    \n",
      "    Only return the SQL statement for the query. \n",
      "    \n"
     ]
    }
   ],
   "source": [
    "print(prefix)"
   ]
  },
  {
   "cell_type": "markdown",
   "id": "13eb8192-623e-4ed8-9947-51d6085bcc77",
   "metadata": {},
   "source": [
    "***"
   ]
  },
  {
   "cell_type": "code",
   "execution_count": 20,
   "id": "2c507650-ab59-4749-8166-40da5ffd4a28",
   "metadata": {},
   "outputs": [],
   "source": [
    "from vertexai.language_models import CodeGenerationModel"
   ]
  },
  {
   "cell_type": "code",
   "execution_count": 21,
   "id": "dd72d997-263e-4393-9ccb-a307e0db9ef9",
   "metadata": {},
   "outputs": [],
   "source": [
    "codegen_model = CodeGenerationModel.from_pretrained('code-bison')"
   ]
  },
  {
   "cell_type": "code",
   "execution_count": 22,
   "id": "17450b59-1b3f-4626-beba-a2869532cac3",
   "metadata": {},
   "outputs": [
    {
     "name": "stdout",
     "output_type": "stream",
     "text": [
      "Hello! I am your AI Assistant. Ask me anything about the database\n",
      "\n",
      "\n",
      "\n"
     ]
    },
    {
     "name": "stdin",
     "output_type": "stream",
     "text": [
      "Ask a question about the database :-->\n",
      " How many Penguins are female?\n"
     ]
    }
   ],
   "source": [
    "print(\"Hello! I am your AI Assistant. Ask me anything about the database\")\n",
    "print(\"\\n\\n\")\n",
    "prefix = user_input()\n",
    "result = codegen_model.predict(prefix=prefix)"
   ]
  },
  {
   "cell_type": "code",
   "execution_count": 23,
   "id": "25633c80-c670-4d06-be6d-19684a76ceeb",
   "metadata": {},
   "outputs": [
    {
     "data": {
      "text/plain": [
       "```sql\n",
       "SELECT COUNT(*)\n",
       "FROM Penguins\n",
       "WHERE sex = 'FEMALE';\n",
       "```"
      ]
     },
     "execution_count": 23,
     "metadata": {},
     "output_type": "execute_result"
    }
   ],
   "source": [
    "result"
   ]
  },
  {
   "cell_type": "code",
   "execution_count": 24,
   "id": "bed7776d-4083-4b46-bb5e-084d8a89c74b",
   "metadata": {},
   "outputs": [
    {
     "data": {
      "text/plain": [
       "\"```sql\\nSELECT COUNT(*)\\nFROM Penguins\\nWHERE sex = 'FEMALE';\\n```\""
      ]
     },
     "execution_count": 24,
     "metadata": {},
     "output_type": "execute_result"
    }
   ],
   "source": [
    "result.text"
   ]
  },
  {
   "cell_type": "markdown",
   "id": "6fcd5ec3-9e5f-47b0-b744-914e0bd0731e",
   "metadata": {},
   "source": [
    "***"
   ]
  },
  {
   "cell_type": "markdown",
   "id": "5ae84a67-be53-43e5-8b3e-194fcc39cddc",
   "metadata": {},
   "source": [
    "### Clean Text"
   ]
  },
  {
   "cell_type": "code",
   "execution_count": 27,
   "id": "94fbed78-3e81-4199-be79-b30b4f62115b",
   "metadata": {},
   "outputs": [],
   "source": [
    "def clean_sql(sql_statement):\n",
    "    return sql_statement.replace('```sql','').replace(\"```\",'').replace('\\n',' ').strip()"
   ]
  },
  {
   "cell_type": "code",
   "execution_count": 28,
   "id": "181c902d-94c7-416d-9b85-4f9c94f3648b",
   "metadata": {},
   "outputs": [
    {
     "data": {
      "text/plain": [
       "\"SELECT COUNT(*) FROM Penguins WHERE sex = 'FEMALE';\""
      ]
     },
     "execution_count": 28,
     "metadata": {},
     "output_type": "execute_result"
    }
   ],
   "source": [
    "clean_sql(result.text)"
   ]
  },
  {
   "cell_type": "markdown",
   "id": "61fd75ca-151d-4fee-9b9b-4ef5f83aa805",
   "metadata": {},
   "source": [
    "### Combine everything together"
   ]
  },
  {
   "cell_type": "code",
   "execution_count": 29,
   "id": "301eee9c-4b9f-4be8-93e3-e2104cc42278",
   "metadata": {},
   "outputs": [],
   "source": [
    "def nlp_assistant():\n",
    "    print(\"Hello! I am your AI Assistant. Ask me anything about the database\")\n",
    "    print(\"\\n\\n\")\n",
    "    prefix = user_input()\n",
    "    result = codegen_model.predict(prefix=prefix)\n",
    "    sql = clean_sql(result.text.strip())\n",
    "    with temp_db.connect() as conn:\n",
    "        print(\"\\nOk, I am running this SQL Statement\")\n",
    "        result = conn.execute(text(sql))\n",
    "    print('-------')\n",
    "    print('-------')\n",
    "    print(\"Here is the answer to your query\")\n",
    "    print('\\n')\n",
    "    print(result.all())"
   ]
  },
  {
   "cell_type": "code",
   "execution_count": 31,
   "id": "597a6245-76d1-4a11-9aa0-e3e7c110ae66",
   "metadata": {},
   "outputs": [
    {
     "name": "stdout",
     "output_type": "stream",
     "text": [
      "Hello! I am your AI Assistant. Ask me anything about the database\n",
      "\n",
      "\n",
      "\n"
     ]
    },
    {
     "name": "stdin",
     "output_type": "stream",
     "text": [
      "Ask a question about the database :-->\n",
      " How many penguins are female ?\n"
     ]
    },
    {
     "name": "stdout",
     "output_type": "stream",
     "text": [
      "\n",
      "Ok, I am running this SQL Statement\n",
      "2024-01-14 09:24:14,827 INFO sqlalchemy.engine.Engine BEGIN (implicit)\n",
      "2024-01-14 09:24:14,827 INFO sqlalchemy.engine.Engine SELECT COUNT(*) FROM Penguins WHERE sex = 'FEMALE';\n",
      "2024-01-14 09:24:14,832 INFO sqlalchemy.engine.Engine [generated in 0.00314s] ()\n",
      "2024-01-14 09:24:14,834 INFO sqlalchemy.engine.Engine ROLLBACK\n",
      "-------\n",
      "-------\n",
      "Here is the answer to your query\n",
      "\n",
      "\n",
      "[(165,)]\n"
     ]
    }
   ],
   "source": [
    "nlp_assistant()"
   ]
  },
  {
   "cell_type": "code",
   "execution_count": 32,
   "id": "2078dad0-53f4-482e-a05a-707b838b921b",
   "metadata": {},
   "outputs": [
    {
     "name": "stdout",
     "output_type": "stream",
     "text": [
      "Hello! I am your AI Assistant. Ask me anything about the database\n",
      "\n",
      "\n",
      "\n"
     ]
    },
    {
     "name": "stdin",
     "output_type": "stream",
     "text": [
      "Ask a question about the database :-->\n",
      " how many uniquely island are here\n"
     ]
    },
    {
     "name": "stdout",
     "output_type": "stream",
     "text": [
      "\n",
      "Ok, I am running this SQL Statement\n",
      "2024-01-14 09:25:00,707 INFO sqlalchemy.engine.Engine BEGIN (implicit)\n",
      "2024-01-14 09:25:00,707 INFO sqlalchemy.engine.Engine SELECT COUNT(DISTINCT island) FROM Penguins;\n",
      "2024-01-14 09:25:00,707 INFO sqlalchemy.engine.Engine [generated in 0.00267s] ()\n",
      "2024-01-14 09:25:00,713 INFO sqlalchemy.engine.Engine ROLLBACK\n",
      "-------\n",
      "-------\n",
      "Here is the answer to your query\n",
      "\n",
      "\n",
      "[(3,)]\n"
     ]
    }
   ],
   "source": [
    "nlp_assistant()"
   ]
  },
  {
   "cell_type": "code",
   "execution_count": 33,
   "id": "a55d9803-33d7-4243-a41b-b1283991db7f",
   "metadata": {},
   "outputs": [
    {
     "name": "stdout",
     "output_type": "stream",
     "text": [
      "Hello! I am your AI Assistant. Ask me anything about the database\n",
      "\n",
      "\n",
      "\n"
     ]
    },
    {
     "name": "stdin",
     "output_type": "stream",
     "text": [
      "Ask a question about the database :-->\n",
      " What are the unique island names ?\n"
     ]
    },
    {
     "name": "stdout",
     "output_type": "stream",
     "text": [
      "\n",
      "Ok, I am running this SQL Statement\n",
      "2024-01-14 09:25:55,592 INFO sqlalchemy.engine.Engine BEGIN (implicit)\n",
      "2024-01-14 09:25:55,595 INFO sqlalchemy.engine.Engine SELECT DISTINCT island FROM Penguins;\n",
      "2024-01-14 09:25:55,596 INFO sqlalchemy.engine.Engine [generated in 0.00331s] ()\n",
      "2024-01-14 09:25:55,598 INFO sqlalchemy.engine.Engine ROLLBACK\n",
      "-------\n",
      "-------\n",
      "Here is the answer to your query\n",
      "\n",
      "\n",
      "[('Torgersen',), ('Biscoe',), ('Dream',)]\n"
     ]
    }
   ],
   "source": [
    "nlp_assistant()"
   ]
  },
  {
   "cell_type": "markdown",
   "id": "629a3239-e25c-4cb9-beec-853fbe92c5a2",
   "metadata": {},
   "source": [
    "***\n",
    "***"
   ]
  },
  {
   "cell_type": "code",
   "execution_count": 41,
   "id": "be1928fa-684c-4951-af8d-2d64d9471683",
   "metadata": {},
   "outputs": [],
   "source": [
    "from vertexai.language_models import TextGenerationModel"
   ]
  },
  {
   "cell_type": "code",
   "execution_count": 42,
   "id": "76e3a4b3-4aef-4c6a-a8da-9351ff8e9ba4",
   "metadata": {},
   "outputs": [],
   "source": [
    "model = TextGenerationModel.from_pretrained('text-bison')"
   ]
  },
  {
   "cell_type": "code",
   "execution_count": null,
   "id": "1195e4c2-9a3a-4441-89e4-2ea50d43a0ee",
   "metadata": {},
   "outputs": [],
   "source": []
  },
  {
   "cell_type": "code",
   "execution_count": 55,
   "id": "6328bd5e-21d8-4614-829c-3a7ecaf34fcb",
   "metadata": {},
   "outputs": [],
   "source": [
    "def nlp_assistant():\n",
    "    print(\"Hello! I am your AI Assistant. Ask me anything about the database\")\n",
    "    print(\"\\n\\n\")\n",
    "    user_query = user_input(return_query_only=True)\n",
    "    prefix = create_prefix(user_query)\n",
    "    result = codegen_model.predict(prefix=prefix)\n",
    "    sql = clean_sql(result.text.strip())\n",
    "    with temp_db.connect() as conn:\n",
    "        print(\"\\nOk, I am running this SQL Statement\")\n",
    "        result = conn.execute(text(sql))\n",
    "    print('-------')\n",
    "    print('-------')\n",
    "    print(\"Here is the answer to your query\")\n",
    "    print('\\n')\n",
    "\n",
    "    prompt = f\"\"\"Given a question with some context you have to answer the question.\n",
    "    You have extract the information from context very carefully to answer the question\n",
    "\n",
    "    Question:  How many penguins are there in the dataset?\n",
    "    Context : [(100,)]\n",
    "    Answer: There is 100 penguin in the dataset.\n",
    "    \n",
    "    Question: {user_query}\n",
    "    Context : {result.all()}\n",
    "    \"\"\"\n",
    "    # print(prompt)\n",
    "    # print(result.all())\n",
    "    response = model.predict(prompt=prompt)\n",
    "    print(response.text)"
   ]
  },
  {
   "cell_type": "code",
   "execution_count": 57,
   "id": "b06e35e5-aa5b-4164-8a68-e8863b40ea13",
   "metadata": {},
   "outputs": [
    {
     "name": "stdout",
     "output_type": "stream",
     "text": [
      "Hello! I am your AI Assistant. Ask me anything about the database\n",
      "\n",
      "\n",
      "\n"
     ]
    },
    {
     "name": "stdin",
     "output_type": "stream",
     "text": [
      "Ask a question about the database :-->\n",
      " Provide the count of male and female penguins.\n"
     ]
    },
    {
     "name": "stdout",
     "output_type": "stream",
     "text": [
      "\n",
      "Ok, I am running this SQL Statement\n",
      "2024-01-14 09:39:43,722 INFO sqlalchemy.engine.Engine BEGIN (implicit)\n",
      "2024-01-14 09:39:43,722 INFO sqlalchemy.engine.Engine SELECT sex, COUNT(*) AS count FROM Penguins WHERE sex IS NOT NULL GROUP BY sex;\n",
      "2024-01-14 09:39:43,722 INFO sqlalchemy.engine.Engine [generated in 0.00281s] ()\n",
      "2024-01-14 09:39:43,722 INFO sqlalchemy.engine.Engine ROLLBACK\n",
      "-------\n",
      "-------\n",
      "Here is the answer to your query\n",
      "\n",
      "\n",
      " Answer: There are 165 female and 168 male penguins.\n"
     ]
    }
   ],
   "source": [
    "nlp_assistant()"
   ]
  },
  {
   "cell_type": "code",
   "execution_count": 58,
   "id": "8d7278fd-bd2f-4939-983f-814198688540",
   "metadata": {},
   "outputs": [
    {
     "name": "stdout",
     "output_type": "stream",
     "text": [
      "Hello! I am your AI Assistant. Ask me anything about the database\n",
      "\n",
      "\n",
      "\n"
     ]
    },
    {
     "name": "stdin",
     "output_type": "stream",
     "text": [
      "Ask a question about the database :-->\n",
      " Which penguin has the max body_mass_g ?\n"
     ]
    },
    {
     "name": "stdout",
     "output_type": "stream",
     "text": [
      "\n",
      "Ok, I am running this SQL Statement\n",
      "2024-01-14 09:40:47,453 INFO sqlalchemy.engine.Engine BEGIN (implicit)\n",
      "2024-01-14 09:40:47,453 INFO sqlalchemy.engine.Engine SELECT species, MAX(body_mass_g) AS max_body_mass_g FROM Penguins GROUP BY species ORDER BY max_body_mass_g DESC LIMIT 1;\n",
      "2024-01-14 09:40:47,453 INFO sqlalchemy.engine.Engine [generated in 0.00306s] ()\n",
      "2024-01-14 09:40:47,453 INFO sqlalchemy.engine.Engine ROLLBACK\n",
      "-------\n",
      "-------\n",
      "Here is the answer to your query\n",
      "\n",
      "\n",
      " Answer: Gentoo penguin has the max body_mass_g of 6300.0.\n"
     ]
    }
   ],
   "source": [
    "nlp_assistant()"
   ]
  },
  {
   "cell_type": "code",
   "execution_count": null,
   "id": "56c58b24-652b-4770-8a7c-9515d9026559",
   "metadata": {},
   "outputs": [],
   "source": []
  }
 ],
 "metadata": {
  "kernelspec": {
   "display_name": "Python 3 (ipykernel)",
   "language": "python",
   "name": "python3"
  },
  "language_info": {
   "codemirror_mode": {
    "name": "ipython",
    "version": 3
   },
   "file_extension": ".py",
   "mimetype": "text/x-python",
   "name": "python",
   "nbconvert_exporter": "python",
   "pygments_lexer": "ipython3",
   "version": "3.11.7"
  }
 },
 "nbformat": 4,
 "nbformat_minor": 5
}
