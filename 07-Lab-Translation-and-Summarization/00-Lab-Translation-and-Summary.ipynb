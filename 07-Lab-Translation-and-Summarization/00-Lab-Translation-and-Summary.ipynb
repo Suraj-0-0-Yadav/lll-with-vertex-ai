{
 "cells": [
  {
   "cell_type": "code",
   "execution_count": 1,
   "id": "d74ff325-ce64-4165-92c9-88d9b5372469",
   "metadata": {},
   "outputs": [],
   "source": [
    "import os"
   ]
  },
  {
   "cell_type": "code",
   "execution_count": 2,
   "id": "869bdd8d-7a82-43a3-800b-9b3ba55acd89",
   "metadata": {},
   "outputs": [],
   "source": [
    "os.environ['GOOGLE_APPLICATION_CREDENTIALS'] = 'D:/Suraj/Cloud/Google Cloud/llm-learning-with-jp-7cd0cee5b01f.json'"
   ]
  },
  {
   "cell_type": "markdown",
   "id": "b5678e59-a07d-4899-9a6b-3c0274d11bbf",
   "metadata": {},
   "source": [
    "***"
   ]
  },
  {
   "cell_type": "code",
   "execution_count": 3,
   "id": "13ff9435-0f03-479a-af68-c8c329473220",
   "metadata": {},
   "outputs": [],
   "source": [
    "with open(\"spanish-customer-support-email.txt\",'r') as f:\n",
    "    spanish_email = f.read()"
   ]
  },
  {
   "cell_type": "code",
   "execution_count": 5,
   "id": "83080942-9d0a-4b0b-b4b5-537de9474571",
   "metadata": {},
   "outputs": [
    {
     "name": "stdout",
     "output_type": "stream",
     "text": [
      "Asunto: Reporte de Problemas TÃ©cnicos - Funcionalidad del Panel SAAS\n",
      "\n",
      "Estimado Equipo de Soporte al Cliente,\n",
      "\n",
      "Espero que este mensaje les encuentre bien. Les escribo para informarles sobre un problema tÃ©cnico que he encontrado mientras utilizo su producto de panel SAAS. Como cliente leal, aprecio el valor que su producto aporta a mi negocio, pero actualmente me enfrento a un desafÃ­o que requiere su experiencia.\n",
      "\n",
      "Me gustarÃ­a describir detalladamente el problema que estoy experimentando:\n",
      "\n",
      "1. Problema GrÃ¡fico: Al iniciar sesiÃ³n en el panel SAAS, he notado que los grÃ¡ficos y las tablas en la pÃ¡gina principal del panel no se renderizan correctamente. Los puntos de datos aparecen distorsionados y algunos elementos se superponen, lo que dificulta la interpretaciÃ³n precisa de la informaciÃ³n.\n",
      "\n",
      "2. Fallo en la FunciÃ³n de ExportaciÃ³n: AdemÃ¡s, no he podido exportar informes y datos desde el panel. Cada vez que intento exportar un informe en formato CSV o PDF, recibo un mensaje de error que indica que la exportaciÃ³n ha fallado. Esta funcionalidad es crucial para compartir informaciÃ³n con mi equipo y partes interesadas externas, por lo que es imperativo que se resuelva rÃ¡pidamente.\n",
      "\n",
      "3. Lentitud en la Carga: Durante la Ãºltima semana, he notado una disminuciÃ³n significativa en la velocidad de carga del panel SAAS. Las pÃ¡ginas tardan un tiempo inusualmente largo en cargarse, lo que afecta mi productividad y genera frustraciÃ³n. Tengo una conexiÃ³n a internet confiable, por lo que creo que el problema radica en el panel mismo.\n",
      "\n",
      "Ya he realizado los siguientes pasos para solucionar el problema:\n",
      "\n",
      "1. Limpieza de Cache: LimpiÃ© la memoria cachÃ© y las cookies de mi navegador para asegurarme de que los datos desactualizados no estÃ©n causando conflictos. Sin embargo, los problemas persisten incluso despuÃ©s de realizar esta acciÃ³n.\n",
      "\n",
      "2. Varios Navegadores: ProbÃ© el panel SAAS en diferentes navegadores web (Chrome, Firefox y Safari) para determinar si el problema era especÃ­fico del navegador. Desafortunadamente, los problemas grÃ¡ficos, los fallos en la exportaciÃ³n y la lentitud en la carga persistieron en todos los navegadores.\n",
      "\n",
      "Les solicito amablemente su ayuda para resolver estos problemas, ya que estÃ¡n obstaculizando mi capacidad de aprovechar todo el potencial de su panel SAAS. AquÃ­ estÃ¡n las acciones especÃ­ficas que agradecerÃ­a:\n",
      "\n",
      "1. SoluciÃ³n para Problemas GrÃ¡ficos: Por favor, investiguen y corrijan los problemas grÃ¡ficos presentes en la pÃ¡gina principal del panel para garantizar una visualizaciÃ³n precisa de los datos.\n",
      "\n",
      "2. SoluciÃ³n para la FunciÃ³n de ExportaciÃ³n: Identifiquen y solucionen el problema con la exportaciÃ³n de informes en formatos CSV y PDF, permitiÃ©ndome compartir datos con mi equipo y partes interesadas de manera fluida.\n",
      "\n",
      "3. OptimizaciÃ³n del Rendimiento: Por favor, aborden la lentitud en la carga del panel SAAS para mejorar la experiencia general del usuario y aumentar la productividad.\n",
      "\n",
      "Entiendo que los problemas tÃ©cnicos pueden surgir de vez en cuando y aprecio su pronta atenciÃ³n a este asunto. Si requieren informaciÃ³n adicional o ayuda de mi parte, no duden en contactarme. Espero su pronta respuesta y una pronta resoluciÃ³n a estos desafÃ­os.\n",
      "\n",
      "Gracias por su comprensiÃ³n y apoyo.\n",
      "\n",
      "Atentamente,\n",
      "\n",
      "MarÃ­a RodrÃ­guez\n",
      "ID de Cliente: 123456789\n",
      "InformaciÃ³n de la Cuenta: Empresa Ejemplo S.A.\n"
     ]
    }
   ],
   "source": [
    "print(spanish_email)"
   ]
  },
  {
   "cell_type": "code",
   "execution_count": 6,
   "id": "5320f1a2-3fd4-41c0-8f10-c17b506d2907",
   "metadata": {},
   "outputs": [],
   "source": [
    "from vertexai.language_models import TextGenerationModel"
   ]
  },
  {
   "cell_type": "code",
   "execution_count": 7,
   "id": "ef152ffe-430e-4b86-80a8-48f0cfd95660",
   "metadata": {},
   "outputs": [],
   "source": [
    "model = TextGenerationModel.from_pretrained('text-bison')"
   ]
  },
  {
   "cell_type": "code",
   "execution_count": 10,
   "id": "5fdd11a0-fb60-40dd-9f4b-0db8315105af",
   "metadata": {},
   "outputs": [],
   "source": [
    "prompt = f\"Return the English translation of this email:\\n\\n```{spanish_email}```\""
   ]
  },
  {
   "cell_type": "code",
   "execution_count": 11,
   "id": "dc5cb2a7-3f00-4a7f-8cd4-b088daa9c957",
   "metadata": {},
   "outputs": [
    {
     "name": "stdout",
     "output_type": "stream",
     "text": [
      "Return the English translation of this email:\n",
      "\n",
      "```Asunto: Reporte de Problemas TÃ©cnicos - Funcionalidad del Panel SAAS\n",
      "\n",
      "Estimado Equipo de Soporte al Cliente,\n",
      "\n",
      "Espero que este mensaje les encuentre bien. Les escribo para informarles sobre un problema tÃ©cnico que he encontrado mientras utilizo su producto de panel SAAS. Como cliente leal, aprecio el valor que su producto aporta a mi negocio, pero actualmente me enfrento a un desafÃ­o que requiere su experiencia.\n",
      "\n",
      "Me gustarÃ­a describir detalladamente el problema que estoy experimentando:\n",
      "\n",
      "1. Problema GrÃ¡fico: Al iniciar sesiÃ³n en el panel SAAS, he notado que los grÃ¡ficos y las tablas en la pÃ¡gina principal del panel no se renderizan correctamente. Los puntos de datos aparecen distorsionados y algunos elementos se superponen, lo que dificulta la interpretaciÃ³n precisa de la informaciÃ³n.\n",
      "\n",
      "2. Fallo en la FunciÃ³n de ExportaciÃ³n: AdemÃ¡s, no he podido exportar informes y datos desde el panel. Cada vez que intento exportar un informe en formato CSV o PDF, recibo un mensaje de error que indica que la exportaciÃ³n ha fallado. Esta funcionalidad es crucial para compartir informaciÃ³n con mi equipo y partes interesadas externas, por lo que es imperativo que se resuelva rÃ¡pidamente.\n",
      "\n",
      "3. Lentitud en la Carga: Durante la Ãºltima semana, he notado una disminuciÃ³n significativa en la velocidad de carga del panel SAAS. Las pÃ¡ginas tardan un tiempo inusualmente largo en cargarse, lo que afecta mi productividad y genera frustraciÃ³n. Tengo una conexiÃ³n a internet confiable, por lo que creo que el problema radica en el panel mismo.\n",
      "\n",
      "Ya he realizado los siguientes pasos para solucionar el problema:\n",
      "\n",
      "1. Limpieza de Cache: LimpiÃ© la memoria cachÃ© y las cookies de mi navegador para asegurarme de que los datos desactualizados no estÃ©n causando conflictos. Sin embargo, los problemas persisten incluso despuÃ©s de realizar esta acciÃ³n.\n",
      "\n",
      "2. Varios Navegadores: ProbÃ© el panel SAAS en diferentes navegadores web (Chrome, Firefox y Safari) para determinar si el problema era especÃ­fico del navegador. Desafortunadamente, los problemas grÃ¡ficos, los fallos en la exportaciÃ³n y la lentitud en la carga persistieron en todos los navegadores.\n",
      "\n",
      "Les solicito amablemente su ayuda para resolver estos problemas, ya que estÃ¡n obstaculizando mi capacidad de aprovechar todo el potencial de su panel SAAS. AquÃ­ estÃ¡n las acciones especÃ­ficas que agradecerÃ­a:\n",
      "\n",
      "1. SoluciÃ³n para Problemas GrÃ¡ficos: Por favor, investiguen y corrijan los problemas grÃ¡ficos presentes en la pÃ¡gina principal del panel para garantizar una visualizaciÃ³n precisa de los datos.\n",
      "\n",
      "2. SoluciÃ³n para la FunciÃ³n de ExportaciÃ³n: Identifiquen y solucionen el problema con la exportaciÃ³n de informes en formatos CSV y PDF, permitiÃ©ndome compartir datos con mi equipo y partes interesadas de manera fluida.\n",
      "\n",
      "3. OptimizaciÃ³n del Rendimiento: Por favor, aborden la lentitud en la carga del panel SAAS para mejorar la experiencia general del usuario y aumentar la productividad.\n",
      "\n",
      "Entiendo que los problemas tÃ©cnicos pueden surgir de vez en cuando y aprecio su pronta atenciÃ³n a este asunto. Si requieren informaciÃ³n adicional o ayuda de mi parte, no duden en contactarme. Espero su pronta respuesta y una pronta resoluciÃ³n a estos desafÃ­os.\n",
      "\n",
      "Gracias por su comprensiÃ³n y apoyo.\n",
      "\n",
      "Atentamente,\n",
      "\n",
      "MarÃ­a RodrÃ­guez\n",
      "ID de Cliente: 123456789\n",
      "InformaciÃ³n de la Cuenta: Empresa Ejemplo S.A.```\n"
     ]
    }
   ],
   "source": [
    "print(prompt)"
   ]
  },
  {
   "cell_type": "markdown",
   "id": "9ef1fc18-5888-467a-8a73-714d8e3ec737",
   "metadata": {},
   "source": [
    "### Step 1: Translate"
   ]
  },
  {
   "cell_type": "code",
   "execution_count": 12,
   "id": "19a03d2b-3b87-478a-b2db-a66f60ecb319",
   "metadata": {},
   "outputs": [],
   "source": [
    "english_translation = model.predict(prompt=prompt, \n",
    "                                    max_output_tokens=2048,\n",
    "                                    temperature=0)"
   ]
  },
  {
   "cell_type": "code",
   "execution_count": 13,
   "id": "6c5ea179-ff7d-4da0-9e87-422348f5347d",
   "metadata": {},
   "outputs": [
    {
     "name": "stdout",
     "output_type": "stream",
     "text": [
      " Subject: Technical Issue Report - SAAS Dashboard Functionality\n",
      "\n",
      "Dear Customer Support Team,\n",
      "\n",
      "I hope this message finds you well. I am writing to bring to your attention a technical issue that I have encountered while using your SAAS dashboard product. As a loyal customer, I appreciate the value that your product brings to my business, but I am currently facing a challenge that requires your expertise.\n",
      "\n",
      "I would like to describe in detail the issues I am experiencing:\n",
      "\n",
      "1. Graphical Issue: Upon logging into the SAAS dashboard, I have noticed that the graphs and charts on the dashboard's main page are not rendering properly. Data points appear distorted, and some elements overlap, making it difficult to accurately interpret the information.\n",
      "\n",
      "2. Export Function Failure: Additionally, I have been unable to export reports and data from the dashboard. Every time I attempt to export a report in CSV or PDF format, I receive an error message indicating that the export has failed. This functionality is crucial for sharing information with my team and external stakeholders, so it is imperative that it is resolved promptly.\n",
      "\n",
      "3. Slow Loading Speed: Over the past week, I have noticed a significant decrease in the loading speed of the SAAS dashboard. Pages are taking an unusually long time to load, which affects my productivity and causes frustration. I have a reliable internet connection, so I believe the issue lies within the dashboard itself.\n",
      "\n",
      "I have already taken the following steps to troubleshoot the issue:\n",
      "\n",
      "1. Cache Clearing: I cleared my browser's cache and cookies to ensure that outdated data is not causing conflicts. However, the issues persist even after performing this action.\n",
      "\n",
      "2. Multiple Browsers: I tested the SAAS dashboard on different web browsers (Chrome, Firefox, and Safari) to determine if the problem was browser-specific. Unfortunately, the graphical issues, export failures, and slow loading persisted across all browsers.\n",
      "\n",
      "I kindly request your assistance in resolving these issues, as they are hindering my ability to fully utilize the potential of your SAAS dashboard. Here are the specific actions I would appreciate:\n",
      "\n",
      "1. Graphical Issue Resolution: Please investigate and rectify the graphical issues present on the dashboard's main page to ensure accurate data visualization.\n",
      "\n",
      "2. Export Function Resolution: Identify and fix the problem with exporting reports in CSV and PDF formats, allowing me to seamlessly share data with my team and stakeholders.\n",
      "\n",
      "3. Performance Optimization: Kindly address the slow loading speed of the SAAS dashboard to improve the overall user experience and enhance productivity.\n",
      "\n",
      "I understand that technical issues can arise from time to time, and I appreciate your prompt attention to this matter. Should you require any additional information or assistance from my end, please do not hesitate to contact me. I look forward to your prompt response and a swift resolution to these challenges.\n",
      "\n",
      "Thank you for your understanding and support.\n",
      "\n",
      "Sincerely,\n",
      "\n",
      "Maria Rodriguez\n",
      "Customer ID: 123456789\n",
      "Account Information: Example Company Inc.\n"
     ]
    }
   ],
   "source": [
    "print(english_translation.text)"
   ]
  },
  {
   "cell_type": "markdown",
   "id": "07f45864-061b-4ea5-a52a-b738157f58a6",
   "metadata": {},
   "source": [
    "### Step 2: Create Recommended Next Steps"
   ]
  },
  {
   "cell_type": "code",
   "execution_count": 14,
   "id": "53db2f78-38f6-483d-849d-71717ddf2039",
   "metadata": {},
   "outputs": [],
   "source": [
    "get_suggestions_prompt = f\"Please give a list of suggestions to address the issues presented in this email:\\n {english_translation.text}\""
   ]
  },
  {
   "cell_type": "code",
   "execution_count": 15,
   "id": "cdb66a7f-e5c9-414b-89c0-f477300964dd",
   "metadata": {},
   "outputs": [],
   "source": [
    "suggestions = model.predict(prompt=get_suggestions_prompt, \n",
    "                            max_output_tokens=2048,\n",
    "                            temperature=0.1)"
   ]
  },
  {
   "cell_type": "code",
   "execution_count": 16,
   "id": "0e3c0e48-5e6f-4604-bc29-c1ed9f6bd0bc",
   "metadata": {},
   "outputs": [
    {
     "data": {
      "text/plain": [
       " **Suggestions to address the issues presented in the email:**\n",
       "\n",
       "1. **Graphical Issue Resolution:**\n",
       "   - The support team should investigate the root cause of the graphical issues, such as data formatting errors or rendering problems.\n",
       "   - They can update the dashboard's code or modify the data presentation to ensure proper rendering of graphs and charts.\n",
       "   - The team should conduct thorough testing to verify that the graphical issues are resolved across different browsers and devices.\n",
       "\n",
       "2. **Export Function Resolution:**\n",
       "   - The support team should identify the specific error causing the export failure. This could involve checking server logs, examining file permissions, or testing the export functionality.\n",
       "   - Once the error is identified, they should implement a fix to ensure that reports can be successfully exported in CSV and PDF formats.\n",
       "   - The team should perform comprehensive testing to confirm that the export function works correctly for various report types and data sets.\n",
       "\n",
       "3. **Performance Optimization:**\n",
       "   - The support team should analyze the SAAS dashboard's performance using profiling tools or performance monitoring software.\n",
       "   - They can optimize the code, reduce server load, or implement caching mechanisms to improve the loading speed of the dashboard.\n",
       "   - The team should conduct performance testing to measure the improvements and ensure that the dashboard loads quickly and efficiently.\n",
       "\n",
       "4. **Communication and Transparency:**\n",
       "   - The support team should keep the customer informed about the progress of the issue resolution.\n",
       "   - They can provide regular updates, estimated timelines for fixes, and any additional information required from the customer.\n",
       "   - Transparent communication helps build trust and reassures the customer that their concerns are being addressed promptly.\n",
       "\n",
       "5. **Follow-up and Verification:**\n",
       "   - Once the issues are resolved, the support team should follow up with the customer to ensure that the fixes have been effective.\n",
       "   - They can request feedback, conduct additional testing, or provide further assistance if needed.\n",
       "   - This follow-up process ensures customer satisfaction and demonstrates the commitment to resolving technical issues efficiently."
      ]
     },
     "execution_count": 16,
     "metadata": {},
     "output_type": "execute_result"
    }
   ],
   "source": [
    "suggestions"
   ]
  },
  {
   "cell_type": "code",
   "execution_count": null,
   "id": "83920a4e-0127-4b1a-9cc6-d11b05bb5008",
   "metadata": {},
   "outputs": [],
   "source": []
  },
  {
   "cell_type": "code",
   "execution_count": 17,
   "id": "e36eb511-654f-4258-ae6a-12e2fcf6daed",
   "metadata": {},
   "outputs": [
    {
     "data": {
      "text/plain": [
       " **Customer:** Maria Rodriguez\n",
       "\n",
       "**Product:** SAAS dashboard\n",
       "\n",
       "**Issues:**\n",
       "\n",
       "1. Graphical issue: Graphs and charts on the dashboard's main page are not rendering properly, making it difficult to interpret the information.\n",
       "\n",
       "2. Export function failure: Unable to export reports and data from the dashboard in CSV or PDF format.\n",
       "\n",
       "3. Slow loading speed: Pages are taking an unusually long time to load, affecting productivity.\n",
       "\n",
       "**Troubleshooting steps taken by the customer:**\n",
       "\n",
       "1. Cleared browser cache and cookies.\n",
       "\n",
       "2. Tested the dashboard on different web browsers (Chrome, Firefox, and Safari).\n",
       "\n",
       "**Actions requested from customer support:**\n",
       "\n",
       "1. Investigate and rectify the graphical issues on the dashboard's main page.\n",
       "\n",
       "2. Identify and fix the problem with exporting reports in CSV and PDF formats.\n",
       "\n",
       "3. Address the slow loading speed of the SAAS dashboard."
      ]
     },
     "execution_count": 17,
     "metadata": {},
     "output_type": "execute_result"
    }
   ],
   "source": [
    "summary_prompt = f\"Create a summary of this customer email:\\n\\n {english_translation}\"\n",
    "\n",
    "summary = model.predict(prompt=summary_prompt,\n",
    "                        max_output_tokens=2048,\n",
    "                        temperature=0.1)\n",
    "\n",
    "summary"
   ]
  },
  {
   "cell_type": "markdown",
   "id": "391cd2c4-67ac-4b9c-ad32-c1ca69fa18df",
   "metadata": {},
   "source": [
    "***"
   ]
  },
  {
   "cell_type": "code",
   "execution_count": 20,
   "id": "557caad8-ddbf-433e-94fa-2bb89952b725",
   "metadata": {},
   "outputs": [],
   "source": [
    "def customer_support_helper(non_english_email):\n",
    "    prompt = f\"Return the English translation of this email:\\n\\n{non_english_email}\"\n",
    "    english_translation = model.predict(max_output_tokens=2048,temperature=0,prompt=prompt)\n",
    "    \n",
    "    get_suggestions_prompt = f\"Please give a list of suggestions to address the issues presented in this email:\\n {english_translation.text}\"\n",
    "    suggestions = model.predict(max_output_tokens=2048,temperature=0.1,prompt=get_suggestions_prompt)\n",
    "    \n",
    "    summary_prompt = f\"Create a summary of this customer email:\\n\\n {english_translation}\"\n",
    "    summary = model.predict(max_output_tokens=2048,temperature=0.1,prompt=summary_prompt)\n",
    "    \n",
    "    print(\"Hello, we have recieved a new non-English email, here is a summary and some suggestions:\\n\\n\")\n",
    "    print(f\"Summary:\\n\\n{summary.text}\")\n",
    "    print(f\"Suggestions:\\n\\n{suggestions.text}\")"
   ]
  },
  {
   "cell_type": "code",
   "execution_count": 21,
   "id": "5b6a49cb-842d-4501-809f-53892f08ee3f",
   "metadata": {},
   "outputs": [
    {
     "name": "stdout",
     "output_type": "stream",
     "text": [
      "Hello, we have recieved a new non-English email, here is a summary and some suggestions:\n",
      "\n",
      "\n",
      "Summary:\n",
      "\n",
      " **Customer:** Maria Rodriguez\n",
      "\n",
      "**Product:** SAAS Dashboard\n",
      "\n",
      "**Issue:**\n",
      "\n",
      "1. Graphical Issue: Graphs and charts on the dashboard's main page are not rendering properly, causing difficulty in interpreting data.\n",
      "\n",
      "2. Export Function Failure: Unable to export reports and data in CSV or PDF format, hindering information sharing.\n",
      "\n",
      "3. Slow Loading Speed: Significant decrease in loading speed, affecting productivity.\n",
      "\n",
      "**Troubleshooting Steps Taken:**\n",
      "\n",
      "1. Cleared browser cache and cookies.\n",
      "\n",
      "2. Tested on different web browsers (Chrome, Firefox, Safari).\n",
      "\n",
      "**Request:**\n",
      "\n",
      "1. Graphical Issue Resolution: Investigate and rectify the graphical issues to ensure accurate data visualization.\n",
      "\n",
      "2. Export Function Resolution: Identify and fix the problem to enable seamless data sharing.\n",
      "\n",
      "3. Performance Optimization: Address the slow loading speed to improve user experience and productivity.\n",
      "\n",
      "**Additional Information:**\n",
      "\n",
      "- Customer ID: 123456789\n",
      "\n",
      "- Account Information: Example Company Inc.\n",
      "Suggestions:\n",
      "\n",
      " **Suggestions to address the issues presented in the email:**\n",
      "\n",
      "1. **Graphical Issue Resolution:**\n",
      "   - Investigate the cause of the distorted data points and overlapping elements in the graphs and charts.\n",
      "   - Update or replace the graphing library or tool used to ensure proper rendering.\n",
      "   - Conduct thorough testing to verify that the graphs and charts are displaying accurately across different devices and browsers.\n",
      "\n",
      "2. **Export Function Resolution:**\n",
      "   - Identify the root cause of the export failure, whether it's a server-side issue, a data formatting problem, or a browser compatibility issue.\n",
      "   - Implement necessary fixes to ensure that reports can be exported successfully in CSV and PDF formats.\n",
      "   - Test the export functionality thoroughly to ensure that it works consistently across different data sets and user accounts.\n",
      "\n",
      "3. **Performance Optimization:**\n",
      "   - Analyze the performance of the SAAS dashboard using profiling tools to identify bottlenecks and slow-loading components.\n",
      "   - Optimize database queries and server-side processes to improve data retrieval and processing speed.\n",
      "   - Implement caching mechanisms to reduce the load on the server and improve page load times.\n",
      "   - Consider upgrading hardware resources if necessary to handle increased traffic or data volume.\n",
      "\n",
      "4. **Additional Recommendations:**\n",
      "   - Provide clear error messages and instructions to users when issues occur, guiding them on how to resolve the problems or contact support.\n",
      "   - Establish a monitoring system to proactively detect and address technical issues before they impact users.\n",
      "   - Regularly update the SAAS dashboard with security patches and performance enhancements to ensure optimal functionality.\n",
      "   - Offer user training and documentation to help customers understand and use the dashboard effectively, reducing the likelihood of user-related issues.\n"
     ]
    }
   ],
   "source": [
    "customer_support_helper(spanish_email)"
   ]
  },
  {
   "cell_type": "code",
   "execution_count": null,
   "id": "f0c42cb1-62ab-401b-bcb7-9f6a3b815392",
   "metadata": {},
   "outputs": [],
   "source": []
  },
  {
   "cell_type": "code",
   "execution_count": null,
   "id": "dd07d3c8-f8dc-45e5-af02-a254f8397cab",
   "metadata": {},
   "outputs": [],
   "source": []
  },
  {
   "cell_type": "code",
   "execution_count": null,
   "id": "d08bf851-3d2b-4632-bc03-fe8ede431267",
   "metadata": {},
   "outputs": [],
   "source": []
  },
  {
   "cell_type": "code",
   "execution_count": null,
   "id": "8c467369-3d7f-48dc-a53d-8d604215e702",
   "metadata": {},
   "outputs": [],
   "source": []
  },
  {
   "cell_type": "code",
   "execution_count": null,
   "id": "e0f3f42f-18a9-4dc7-88be-bbe5c6592b1e",
   "metadata": {},
   "outputs": [],
   "source": []
  },
  {
   "cell_type": "code",
   "execution_count": null,
   "id": "243e144d-857c-46e9-9a39-a212d3762222",
   "metadata": {},
   "outputs": [],
   "source": []
  },
  {
   "cell_type": "code",
   "execution_count": null,
   "id": "95dffdea-6c2c-45bd-b877-64de1bb093c4",
   "metadata": {},
   "outputs": [],
   "source": []
  }
 ],
 "metadata": {
  "kernelspec": {
   "display_name": "Python 3 (ipykernel)",
   "language": "python",
   "name": "python3"
  },
  "language_info": {
   "codemirror_mode": {
    "name": "ipython",
    "version": 3
   },
   "file_extension": ".py",
   "mimetype": "text/x-python",
   "name": "python",
   "nbconvert_exporter": "python",
   "pygments_lexer": "ipython3",
   "version": "3.11.7"
  }
 },
 "nbformat": 4,
 "nbformat_minor": 5
}
