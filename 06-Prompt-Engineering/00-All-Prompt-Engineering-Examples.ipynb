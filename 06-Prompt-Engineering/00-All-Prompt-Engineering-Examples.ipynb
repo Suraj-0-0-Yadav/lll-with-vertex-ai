{
 "cells": [
  {
   "cell_type": "code",
   "execution_count": 1,
   "id": "277f89ba-62d9-4e69-9e74-cef3829e790c",
   "metadata": {},
   "outputs": [],
   "source": [
    "import os"
   ]
  },
  {
   "cell_type": "code",
   "execution_count": 2,
   "id": "69bc06c8-e893-4c4a-9994-0d03ca6b0fdb",
   "metadata": {},
   "outputs": [],
   "source": [
    "os.environ['GOOGLE_APPLICATION_CREDENTIALS'] = 'D:/Suraj/Cloud/Google Cloud/llm-learning-with-jp-7cd0cee5b01f.json'"
   ]
  },
  {
   "cell_type": "markdown",
   "id": "18a95a48-e982-479f-af9f-0125f3bd5709",
   "metadata": {},
   "source": [
    "***"
   ]
  },
  {
   "cell_type": "code",
   "execution_count": 3,
   "id": "275f0709-0881-4da1-a45c-5b56230740a0",
   "metadata": {},
   "outputs": [],
   "source": [
    "from vertexai.language_models import TextGenerationModel\n",
    "model = TextGenerationModel.from_pretrained('text-bison')"
   ]
  },
  {
   "cell_type": "code",
   "execution_count": null,
   "id": "adaeccb8-aeea-4407-9558-ede75250285d",
   "metadata": {},
   "outputs": [],
   "source": []
  },
  {
   "cell_type": "code",
   "execution_count": 4,
   "id": "03a9c539-ca78-495d-8a19-60096765d31c",
   "metadata": {},
   "outputs": [],
   "source": [
    "prompt = \"Create a multiple choice question about Indian History\""
   ]
  },
  {
   "cell_type": "code",
   "execution_count": 10,
   "id": "442d6c26-27d3-433f-bd99-9b3ca7192a57",
   "metadata": {},
   "outputs": [
    {
     "data": {
      "text/plain": [
       " Which of the following was not a major religion in ancient India?\n",
       "\n",
       "a) Hinduism\n",
       "b) Buddhism\n",
       "c) Jainism\n",
       "d) Christianity"
      ]
     },
     "execution_count": 10,
     "metadata": {},
     "output_type": "execute_result"
    }
   ],
   "source": [
    "model.predict(prompt)"
   ]
  },
  {
   "cell_type": "code",
   "execution_count": null,
   "id": "3d11bf0c-989f-40c6-bdb2-145c06de322c",
   "metadata": {},
   "outputs": [],
   "source": []
  },
  {
   "cell_type": "code",
   "execution_count": 11,
   "id": "bf62f5d0-f622-4d10-9e3f-bfc5d3c21096",
   "metadata": {},
   "outputs": [
    {
     "data": {
      "text/plain": [
       " **Question:** Which Indian emperor is known for building the Taj Mahal?\n",
       "\n",
       "a) Akbar\n",
       "b) Jahangir\n",
       "c) Shah Jahan\n",
       "d) Aurangzeb\n",
       "\n",
       "**Answer:** c) Shah Jahan"
      ]
     },
     "execution_count": 11,
     "metadata": {},
     "output_type": "execute_result"
    }
   ],
   "source": [
    "prompt = \"Create a multiple choice question about Indian History and include the answer\"\n",
    "model.predict(prompt)"
   ]
  },
  {
   "cell_type": "code",
   "execution_count": null,
   "id": "353e3e2f-9aec-4c4a-81c3-8ba1acdeff31",
   "metadata": {},
   "outputs": [],
   "source": []
  },
  {
   "cell_type": "code",
   "execution_count": 14,
   "id": "83639469-0e67-438b-ba06-d4755ceebbd7",
   "metadata": {},
   "outputs": [
    {
     "data": {
      "text/plain": [
       " **Question 1:** Who was the first Mughal emperor to rule India?\n",
       "\n",
       "1.) Akbar\n",
       "2.) Jahangir\n",
       "3.) Babur\n",
       "\n",
       "**Answer: 3**\n",
       "\n",
       "**Question 2:** Which Indian ruler was known as the \"Lion of Punjab\"?\n",
       "\n",
       "1.) Ranjit Singh\n",
       "2.) Shivaji Maharaj\n",
       "3.) Tipu Sultan\n",
       "\n",
       "**Answer: 1**\n",
       "\n",
       "**Question 3:** Who was the founder of the Maratha Empire?\n",
       "\n",
       "1.) Shivaji Maharaj\n",
       "2.) Sambhaji Maharaj\n",
       "3.) Rajaram Maharaj\n",
       "\n",
       "**Answer: 1**\n",
       "\n",
       "**Question 4:** Which Indian ruler was known as the \"Sword of Islam\"?\n",
       "\n",
       "1.) Alauddin Khilji\n",
       "2.) Muhammad bin Tughluq\n",
       "3.) Firoz Shah Tughluq\n",
       "\n",
       "**Answer: 1**\n",
       "\n",
       "**Question 5:** Who was the last Mughal emperor of India?\n",
       "\n",
       "1.) Bahadur Shah Zafar\n",
       "2.) Akbar II\n",
       "3.) Jahangir II\n",
       "\n",
       "**Answer: 1**"
      ]
     },
     "execution_count": 14,
     "metadata": {},
     "output_type": "execute_result"
    }
   ],
   "source": [
    "prompt = \"\"\"Create a multiple choice question about Indian History and include the answer.\n",
    "Follow this format:\n",
    "\n",
    "    Here is the question\n",
    "    1.) Option One\n",
    "    2.) Option Two\n",
    "    3.) Option Three\n",
    "    \n",
    "    Answer: *Then only provide the number*\n",
    "\n",
    "    Give 5 such question\n",
    "\"\"\"\n",
    "model.predict(prompt,max_output_tokens=1024)"
   ]
  },
  {
   "cell_type": "markdown",
   "id": "e1508a93-db8a-44cf-8566-5a25a6b13d87",
   "metadata": {},
   "source": [
    "***\n",
    "***"
   ]
  },
  {
   "cell_type": "markdown",
   "id": "0a3b8080-a3d4-45a8-9c56-6bad1f80d5ba",
   "metadata": {},
   "source": [
    "### Summarization\n",
    "\n",
    "Models are great at summarizing, simply place the content (and any needed context) below your main instruction."
   ]
  },
  {
   "cell_type": "code",
   "execution_count": 15,
   "id": "5ed3516b-a7b1-490a-bd63-809e49390e1d",
   "metadata": {},
   "outputs": [],
   "source": [
    "article = '''\n",
    "In 1932, Shannon entered the University of Michigan, where he was introduced to the work of George Boole. He graduated in 1936 with two bachelor's degrees: one in electrical engineering and the other in mathematics.\n",
    "\n",
    "In 1936, Shannon began his graduate studies in electrical engineering at MIT, where he worked on Vannevar Bush's differential analyzer, an early analog computer.[12] While studying the complicated ad hoc circuits of this analyzer, Shannon designed switching circuits based on Boole's concepts. In 1937, he wrote his master's degree thesis, A Symbolic Analysis of Relay and Switching Circuits.[13] A paper from this thesis was published in 1938.[14] In this work, Shannon proved that his switching circuits could be used to simplify the arrangement of the electromechanical relays that were used during that time in telephone call routing switches. Next, he expanded this concept, proving that these circuits could solve all problems that Boolean algebra could solve. In the last chapter, he presented diagrams of several circuits, including a 4-bit full adder.[13]\n",
    "\n",
    "Using this property of electrical switches to implement logic is the fundamental concept that underlies all electronic digital computers. Shannon's work became the foundation of digital circuit design, as it became widely known in the electrical engineering community during and after World War II. The theoretical rigor of Shannon's work superseded the ad hoc methods that had prevailed previously. Howard Gardner called Shannon's thesis \"possibly the most important, and also the most noted, master's thesis of the century.\"[15]\n",
    "\n",
    "Shannon received his PhD in mathematics from MIT in 1940.[10] Vannevar Bush had suggested that Shannon should work on his dissertation at the Cold Spring Harbor Laboratory, in order to develop a mathematical formulation for Mendelian genetics. This research resulted in Shannon's PhD thesis, called An Algebra for Theoretical Genetics.[16]\n",
    "\n",
    "In 1940, Shannon became a National Research Fellow at the Institute for Advanced Study in Princeton, New Jersey. In Princeton, Shannon had the opportunity to discuss his ideas with influential scientists and mathematicians such as Hermann Weyl and John von Neumann, and he also had occasional encounters with Albert Einstein and Kurt Gödel. Shannon worked freely across disciplines, and this ability may have contributed to his later development of mathematical information theory.[17]\n",
    "'''"
   ]
  },
  {
   "cell_type": "code",
   "execution_count": 18,
   "id": "3cce6af2-6dcf-4f27-ab9f-0bafbd67ef47",
   "metadata": {},
   "outputs": [
    {
     "data": {
      "text/plain": [
       " 1. Claude Shannon studied electrical engineering and mathematics at the University of Michigan, graduating in 1936.\n",
       "\n",
       "\n",
       "2. He pursued graduate studies at MIT, where he worked on Vannevar Bush's differential analyzer and developed switching circuits based on Boolean concepts.\n",
       "\n",
       "\n",
       "3. Shannon's master's thesis, \"A Symbolic Analysis of Relay and Switching Circuits,\" demonstrated that his circuits could simplify telephone call routing switches and solve problems solvable by Boolean algebra.\n",
       "\n",
       "\n",
       "4. His work laid the foundation for digital circuit design and became widely recognized in the electrical engineering community after World War II.\n",
       "\n",
       "\n",
       "5. Shannon completed his PhD in mathematics at MIT in 1940 with a dissertation on mathematical formulation for Mendelian genetics, and later became a National Research Fellow at the Institute for Advanced Study in Princeton."
      ]
     },
     "execution_count": 18,
     "metadata": {},
     "output_type": "execute_result"
    }
   ],
   "source": [
    "prompt = f\"Provide a 5 bullet point(numbered) summary of this article:\\n{article}\"\n",
    "model.predict(prompt,max_output_tokens=1024)"
   ]
  },
  {
   "cell_type": "markdown",
   "id": "73031763-1675-4e54-babd-4d0d8857df33",
   "metadata": {},
   "source": [
    "----\n",
    "### Classification\n",
    "Models are especially powerful at classifying natural language for sentiment or just general content."
   ]
  },
  {
   "cell_type": "code",
   "execution_count": 19,
   "id": "fa97f45c-7922-4ac7-bc1b-8ac3c6699b89",
   "metadata": {},
   "outputs": [],
   "source": [
    "tweet = \"Oh man, I think $APPL is going to hit an all time high!\""
   ]
  },
  {
   "cell_type": "code",
   "execution_count": 20,
   "id": "05158832-fbda-4ec1-b8e5-e804c55d9d1a",
   "metadata": {},
   "outputs": [],
   "source": [
    "sentiment_prompt = f\"Classify the tweet below as  positive, negative, or neutral only:\\n{tweet}\""
   ]
  },
  {
   "cell_type": "code",
   "execution_count": 21,
   "id": "c5d65648-066d-428a-8cf7-94104cdaa2ec",
   "metadata": {},
   "outputs": [
    {
     "name": "stdout",
     "output_type": "stream",
     "text": [
      "Classify the tweet below as  positive, negative, or neutral only:\n",
      "Oh man, I think $APPL is going to hit an all time high!\n"
     ]
    }
   ],
   "source": [
    "print(sentiment_prompt)"
   ]
  },
  {
   "cell_type": "code",
   "execution_count": 22,
   "id": "173a6189-fbf8-49b8-aaee-6169ff547b2c",
   "metadata": {},
   "outputs": [
    {
     "data": {
      "text/plain": [
       " Positive"
      ]
     },
     "execution_count": 22,
     "metadata": {},
     "output_type": "execute_result"
    }
   ],
   "source": [
    "model.predict(prompt=sentiment_prompt)"
   ]
  },
  {
   "cell_type": "code",
   "execution_count": null,
   "id": "711b0360-5f14-47c6-bb32-eba3869aada8",
   "metadata": {},
   "outputs": [],
   "source": []
  },
  {
   "cell_type": "code",
   "execution_count": 23,
   "id": "6c8c05b3-341b-4906-a528-2ed8e296d283",
   "metadata": {},
   "outputs": [],
   "source": [
    "category_prompt = f\"\"\"Classify the following tweet into one of four categories:\n",
    "- Finance\n",
    "- Housing\n",
    "- Sports\n",
    "- Laundry\n",
    "\n",
    "Here is the tweet:\n",
    "{tweet}\n",
    "\"\"\""
   ]
  },
  {
   "cell_type": "code",
   "execution_count": 24,
   "id": "fd494f1a-d04d-4891-bca2-35387d61b186",
   "metadata": {},
   "outputs": [
    {
     "data": {
      "text/plain": [
       " Finance"
      ]
     },
     "execution_count": 24,
     "metadata": {},
     "output_type": "execute_result"
    }
   ],
   "source": [
    "model.predict(category_prompt)"
   ]
  },
  {
   "cell_type": "markdown",
   "id": "11b7172c-80af-435f-ac79-41b1fab1e414",
   "metadata": {},
   "source": [
    "___\n",
    "### Extraction\n",
    "\n",
    "We can also use models to extract only the information we want in any format we want:"
   ]
  },
  {
   "cell_type": "code",
   "execution_count": 25,
   "id": "f9025932-1e4f-4bc5-990b-a2e0712d3121",
   "metadata": {},
   "outputs": [],
   "source": [
    "tweet = \"Oh man, I think $APPL is going to hit an all time high! But $XOM might crash\""
   ]
  },
  {
   "cell_type": "code",
   "execution_count": 26,
   "id": "8ec003ef-3849-429d-b4e7-1a8f564d61b2",
   "metadata": {},
   "outputs": [],
   "source": [
    "prompt = f\"\"\"For the tweet below extract all stock tickers mention \n",
    "and assign a possible sentiment to the stock ticker (positive, negative, neutral).\n",
    "\n",
    "Here is the tweet:\n",
    "{tweet}\n",
    "\n",
    "Send your results as a list of tuples:\n",
    "[($Stock, sentiment),($Stock, sentiment)]\n",
    "\"\"\""
   ]
  },
  {
   "cell_type": "code",
   "execution_count": 27,
   "id": "181ee59d-7089-4bb7-87ea-0124a0b76aca",
   "metadata": {},
   "outputs": [
    {
     "data": {
      "text/plain": [
       " [('$APPL', 'positive'), ('$XOM', 'negative')]"
      ]
     },
     "execution_count": 27,
     "metadata": {},
     "output_type": "execute_result"
    }
   ],
   "source": [
    "results = model.predict(prompt)\n",
    "results"
   ]
  },
  {
   "cell_type": "code",
   "execution_count": 28,
   "id": "e2487b14-9777-45e0-8cd3-9cbb3e902dbd",
   "metadata": {},
   "outputs": [
    {
     "data": {
      "text/plain": [
       "\" [('$APPL', 'positive'), ('$XOM', 'negative')]\""
      ]
     },
     "execution_count": 28,
     "metadata": {},
     "output_type": "execute_result"
    }
   ],
   "source": [
    "results.text"
   ]
  },
  {
   "cell_type": "code",
   "execution_count": 29,
   "id": "eee24caa-ef26-4dec-9ce8-c146eabdd3f3",
   "metadata": {},
   "outputs": [
    {
     "data": {
      "text/plain": [
       "[('$APPL', 'positive'), ('$XOM', 'negative')]"
      ]
     },
     "execution_count": 29,
     "metadata": {},
     "output_type": "execute_result"
    }
   ],
   "source": [
    "eval(results.text)"
   ]
  },
  {
   "cell_type": "markdown",
   "id": "0f30b12c-d3e9-46d8-926a-6c0496a8b935",
   "metadata": {},
   "source": [
    "___\n",
    "### Ideation\n",
    "\n",
    "You can use LLMs to generate ideas or skeletons of ideas."
   ]
  },
  {
   "cell_type": "code",
   "execution_count": 27,
   "id": "c67a68f8-2912-457d-82d0-10b8f70e9e8c",
   "metadata": {},
   "outputs": [
    {
     "data": {
      "text/plain": [
       " **1. How Generative AI is Revolutionizing the Creative Industries**\n",
       "\n",
       "Generative AI has the potential to revolutionize the creative industries by automating many of the tasks that are currently performed by human artists and designers. This could free up creatives to focus on more challenging and rewarding work, and it could also make it possible for people who don't have any formal training in art or design to create their own unique works of art.\n",
       "\n",
       "**2. The Ethical Implications of Generative AI**\n",
       "\n",
       "As generative AI becomes more powerful, it's important to consider the ethical implications of this technology. For example, could generative AI be used to create fake news or propaganda? Could it be used to create biased or discriminatory content? It's important to start thinking about these issues now, so that we can develop ways to mitigate the potential risks of generative AI.\n",
       "\n",
       "**3. The Future of Generative AI**\n",
       "\n",
       "The future of generative AI is bright. As this technology continues to develop, we can expect to see it used in more and more applications. Generative AI could be used to create new forms of art, music, and literature. It could also be used to develop new medical treatments, design new products, and even explore new planets. The possibilities are endless."
      ]
     },
     "execution_count": 27,
     "metadata": {},
     "output_type": "execute_result"
    }
   ],
   "source": [
    "prompt = \"Give me 3 different ideas for a blog post about Generative AI\"\n",
    "model.predict(prompt,max_output_tokens=2048)"
   ]
  },
  {
   "cell_type": "markdown",
   "id": "b710b04a-2196-46d9-adbf-2f65a92ad8a6",
   "metadata": {},
   "source": [
    "___\n",
    "### Expansion\n",
    "\n",
    "You can easily expand on these ideas."
   ]
  },
  {
   "cell_type": "code",
   "execution_count": 28,
   "id": "54eb8cdd-41c0-4362-be83-70483e967fc3",
   "metadata": {},
   "outputs": [],
   "source": [
    "prompt = \"\"\"Create an outline for this blog post:\n",
    "How Generative AI is Revolutionizing the Creative Industries: Generative AI has the potential to revolutionize the creative industries by automating many of the tasks that are currently performed by human artists and designers. This could free up creatives to focus on more challenging and rewarding work, and it could also make it possible for people who don't have any formal training in art or design to create their own unique works of art.\"\"\""
   ]
  },
  {
   "cell_type": "code",
   "execution_count": 29,
   "id": "cb33c561-7a97-426d-be3e-a5a1f6ba280a",
   "metadata": {},
   "outputs": [],
   "source": [
    "result = model.predict(prompt,max_output_tokens=2048)"
   ]
  },
  {
   "cell_type": "code",
   "execution_count": 30,
   "id": "6cbdd541-0882-461b-8140-2ab3f9c4dc77",
   "metadata": {},
   "outputs": [
    {
     "data": {
      "text/plain": [
       " **Title: How Generative AI is Revolutionizing the Creative Industries**\n",
       "\n",
       "**Introduction:**\n",
       "- Generative AI has the potential to revolutionize the creative industries by automating many of the tasks that are currently performed by human artists and designers.\n",
       "- This could free up creatives to focus on more challenging and rewarding work, and it could also make it possible for people who don't have any formal training in art or design to create their own unique works of art.\n",
       "\n",
       "**Body:**\n",
       "\n",
       "**I. Automation of Routine Tasks:**\n",
       "- Generative AI can automate many of the routine tasks that are currently performed by human artists and designers, such as:\n",
       "  - Creating realistic textures and materials\n",
       "  - Generating 3D models\n",
       "  - Composing music\n",
       "  - Writing text\n",
       "\n",
       "**II. Enhanced Creativity and Collaboration:**\n",
       "- Generative AI can help creatives to generate new ideas and explore new possibilities by:\n",
       "  - Providing them with a vast database of existing artwork and design elements\n",
       "  - Suggesting new combinations of elements\n",
       "  - Allowing them to experiment with different styles and techniques\n",
       "\n",
       "**III. Democratization of Creativity:**\n",
       "- Generative AI can make it possible for people who don't have any formal training in art or design to create their own unique works of art by:\n",
       "  - Providing them with easy-to-use tools and interfaces\n",
       "  - Offering tutorials and guidance\n",
       "  - Making it possible to share and collaborate with others\n",
       "\n",
       "**IV. Challenges and Concerns:**\n",
       "- While generative AI has the potential to revolutionize the creative industries, there are also some challenges and concerns that need to be addressed, such as:\n",
       "  - The potential for job displacement\n",
       "  - The need for ethical guidelines\n",
       "  - The importance of human creativity\n",
       "\n",
       "**Conclusion:**\n",
       "- Generative AI has the potential to revolutionize the creative industries by automating many of the tasks that are currently performed by human artists and designers.\n",
       "- This could free up creatives to focus on more challenging and rewarding work, and it could also make it possible for people who don't have any formal training in art or design to create their own unique works of art.\n",
       "- However, there are also some challenges and concerns that need to be addressed in order to ensure that generative AI is used in a responsible and ethical manner."
      ]
     },
     "execution_count": 30,
     "metadata": {},
     "output_type": "execute_result"
    }
   ],
   "source": [
    "result"
   ]
  },
  {
   "cell_type": "code",
   "execution_count": 31,
   "id": "3543364f-23e4-497c-9bf1-a9fe2d9d8f3c",
   "metadata": {},
   "outputs": [
    {
     "data": {
      "text/plain": [
       " **How Generative AI is Revolutionizing the Creative Industries**\n",
       "\n",
       "**Introduction:**\n",
       "\n",
       "Generative AI, a rapidly developing field of artificial intelligence, has the potential to revolutionize the creative industries. By automating many of the tasks that are currently performed by human artists and designers, generative AI can free up creatives to focus on more challenging and rewarding work. It can also make it possible for people who don't have any formal training in art or design to create their own unique works of art.\n",
       "\n",
       "**Body:**\n",
       "\n",
       "**I. Automation of Routine Tasks:**\n",
       "\n",
       "One of the most significant ways that generative AI is revolutionizing the creative industries is by automating many of the routine tasks that are currently performed by human artists and designers. These tasks include:\n",
       "\n",
       "- Creating realistic textures and materials\n",
       "- Generating 3D models\n",
       "- Composing music\n",
       "- Writing text\n",
       "\n",
       "By automating these tasks, generative AI can free up creatives to focus on the more creative aspects of their work, such as developing new ideas, exploring new possibilities, and refining their craft.\n",
       "\n",
       "**II. Enhanced Creativity and Collaboration:**\n",
       "\n",
       "Generative AI can also help creatives to enhance their creativity and collaboration by providing them with a vast database of existing artwork and design elements, suggesting new combinations of elements, and allowing them to experiment with different styles and techniques. This can help creatives to break out of their creative ruts and explore new possibilities.\n",
       "\n",
       "**III. Democratization of Creativity:**\n",
       "\n",
       "One of the most exciting aspects of generative AI is that it has the potential to democratize creativity by making it possible for people who don't have any formal training in art or design to create their own unique works of art. By providing easy-to-use tools and interfaces, offering tutorials and guidance, and making it possible to share and collaborate with others, generative AI is lowering the barriers to entry for creative expression.\n",
       "\n",
       "**IV. Challenges and Concerns:**\n",
       "\n",
       "While generative AI has the potential to revolutionize the creative industries, there are also some challenges and concerns that need to be addressed. These include:\n",
       "\n",
       "- The potential for job displacement, as generative AI becomes more sophisticated and is able to automate more and more tasks that are currently performed by human artists and designers.\n",
       "- The need for ethical guidelines to ensure that generative AI is used in a responsible and ethical manner, and that the rights of artists and designers are protected.\n",
       "- The importance of human creativity, as generative AI should be seen as a tool to enhance human creativity, not as a replacement for it.\n",
       "\n",
       "**Conclusion:**\n",
       "\n",
       "Generative AI has the potential to revolutionize the creative industries by automating many of the tasks that are currently performed by human artists and designers. This could free up creatives to focus on more challenging and rewarding work, and it could also make it possible for people who don't have any formal training in art or design to create their own unique works of art. However, there are also some challenges and concerns that need to be addressed in order to ensure that generative AI is used in a responsible and ethical manner."
      ]
     },
     "execution_count": 31,
     "metadata": {},
     "output_type": "execute_result"
    }
   ],
   "source": [
    "prompt = f\"Write a blog post for the outline below:\\n{result.text}\"\n",
    "model.predict(prompt=prompt,max_output_tokens=2048)"
   ]
  },
  {
   "cell_type": "markdown",
   "id": "3fc92077-2b0a-4f81-a5c7-f26bca0ab2bc",
   "metadata": {},
   "source": [
    "____\n",
    "## Translation\n",
    "You can use LLMs to translate text (note if you plan on only doing translation, you may want to consider a service specifically tailored to translation, like Google Cloud Translate)"
   ]
  },
  {
   "cell_type": "code",
   "execution_count": 31,
   "id": "ec799145-432e-4dcc-8367-0429944d5334",
   "metadata": {},
   "outputs": [],
   "source": [
    "text = \"Hi, my name is Suraj. It is a pleasure to meet you\"\n",
    "\n",
    "prompt = f\"Translate this text into Hindi:\\n{text}\""
   ]
  },
  {
   "cell_type": "code",
   "execution_count": 32,
   "id": "1b0023ae-397f-45f1-a133-305dec97a32c",
   "metadata": {},
   "outputs": [
    {
     "name": "stdout",
     "output_type": "stream",
     "text": [
      "Translate this text into Hindi:\n",
      "Hi, my name is Suraj. It is a pleasure to meet you\n"
     ]
    }
   ],
   "source": [
    "print(prompt)"
   ]
  },
  {
   "cell_type": "code",
   "execution_count": 33,
   "id": "c9555a54-2337-471e-941b-bacb75c5c104",
   "metadata": {},
   "outputs": [
    {
     "data": {
      "text/plain": [
       " नमस्ते, मेरा नाम सूरज है। आपसे मिलकर खुशी हुई"
      ]
     },
     "execution_count": 33,
     "metadata": {},
     "output_type": "execute_result"
    }
   ],
   "source": [
    "model.predict(prompt)"
   ]
  },
  {
   "cell_type": "code",
   "execution_count": null,
   "id": "7a25ad3f-4def-4aa7-aa7d-b454f8d5613f",
   "metadata": {},
   "outputs": [],
   "source": []
  },
  {
   "cell_type": "code",
   "execution_count": 37,
   "id": "aee2a244-041d-48e0-8b9c-5f103ee1b3bf",
   "metadata": {},
   "outputs": [
    {
     "data": {
      "text/plain": [
       " **Hindi**\n",
       "नमस्ते, मेरा नाम सूरज है। आपसे मिलकर खुशी हुई\n",
       "\n",
       "**Spanish**\n",
       "Hola, mi nombre es Suraj. Es un placer conocerte"
      ]
     },
     "execution_count": 37,
     "metadata": {},
     "output_type": "execute_result"
    }
   ],
   "source": [
    "text = \"Hi, my name is Suraj. It is a pleasure to meet you\"\n",
    "\n",
    "prompt = f\"Translate this text into Hindi and Spanish:\\n{text}\"\n",
    "\n",
    "model.predict(prompt)"
   ]
  },
  {
   "cell_type": "markdown",
   "id": "73fe52aa-3299-4cf3-83dd-2dbfc915ddb6",
   "metadata": {},
   "source": [
    "___\n",
    "## Transformation (Tone and Formats)\n",
    "We can easily convert text from one tone or format to another with LLMs:"
   ]
  },
  {
   "cell_type": "code",
   "execution_count": 39,
   "id": "eb653b7d-1788-4dfb-add6-a3ea14e97e18",
   "metadata": {},
   "outputs": [],
   "source": [
    "prompt = \"Create a bullet point list of chores to clean the house\""
   ]
  },
  {
   "cell_type": "code",
   "execution_count": 46,
   "id": "f3654ce7-1246-4df7-a475-63b6cbab9ea6",
   "metadata": {},
   "outputs": [],
   "source": [
    "result = model.predict(prompt,temperature=0.2,max_output_tokens=1024)"
   ]
  },
  {
   "cell_type": "code",
   "execution_count": 47,
   "id": "ad3bdae9-b9a6-4703-8294-dae006ba3db7",
   "metadata": {},
   "outputs": [
    {
     "data": {
      "text/plain": [
       " **Cleaning Chores**\n",
       "\n",
       "* **Living Room:**\n",
       "    * Dust furniture and surfaces.\n",
       "    * Vacuum carpet or mop hard floors.\n",
       "    * Clean windows and mirrors.\n",
       "    * Straighten up books and magazines.\n",
       "    * Put away toys and games.\n",
       "* **Kitchen:**\n",
       "    * Wipe down countertops and appliances.\n",
       "    * Clean the sink and garbage disposal.\n",
       "    * Sweep and mop the floor.\n",
       "    * Take out the trash.\n",
       "    * Clean the oven and microwave.\n",
       "* **Bedrooms:**\n",
       "    * Make the beds.\n",
       "    * Dust furniture and surfaces.\n",
       "    * Vacuum carpet or mop hard floors.\n",
       "    * Clean windows and mirrors.\n",
       "    * Put away clothes and toys.\n",
       "* **Bathrooms:**\n",
       "    * Clean the toilet, sink, and shower/tub.\n",
       "    * Sweep and mop the floor.\n",
       "    * Clean the mirrors.\n",
       "    * Refill soap and shampoo dispensers.\n",
       "* **Other Areas:**\n",
       "    * Clean the front door and doorknob.\n",
       "    * Sweep the porch and patio.\n",
       "    * Clean the garage.\n",
       "    * Take out the recycling."
      ]
     },
     "execution_count": 47,
     "metadata": {},
     "output_type": "execute_result"
    }
   ],
   "source": [
    "result"
   ]
  },
  {
   "cell_type": "code",
   "execution_count": 48,
   "id": "8d0df445-7a98-44d2-8e65-e1f4ea0e6088",
   "metadata": {},
   "outputs": [],
   "source": [
    "prompt =  f\"\"\"Rewrite this in a paragraph form with a friendly tone of a Grandma asking\n",
    "for help with the chores below:\\n\\n{result.text}\"\"\""
   ]
  },
  {
   "cell_type": "code",
   "execution_count": 49,
   "id": "db9c3aed-f83a-45e4-b90b-9913826ef077",
   "metadata": {},
   "outputs": [
    {
     "data": {
      "text/plain": [
       " Hey there, my dear! I'm feeling a bit overwhelmed with all the cleaning chores around the house, and I could really use your help. Could you lend me a hand with some of these tasks?\n",
       "\n",
       "In the living room, I'd appreciate it if you could dust the furniture and surfaces, vacuum the carpet or mop the hard floors, and clean the windows and mirrors. It would also be great if you could straighten up the books and magazines and put away any toys or games.\n",
       "\n",
       "In the kitchen, I need help wiping down the countertops and appliances, cleaning the sink and garbage disposal, and sweeping and mopping the floor. Taking out the trash and cleaning the oven and microwave would also be a big help.\n",
       "\n",
       "For the bedrooms, could you please make the beds, dust the furniture and surfaces, vacuum the carpet or mop the hard floors, and clean the windows and mirrors? Putting away clothes and toys would also be wonderful.\n",
       "\n",
       "In the bathrooms, I need help cleaning the toilet, sink, and shower/tub, sweeping and mopping the floor, cleaning the mirrors, and refilling the soap and shampoo dispensers.\n",
       "\n",
       "Lastly, there are a few other areas that need attention. Could you please clean the front door and doorknob, sweep the porch and patio, clean the garage, and take out the recycling?\n",
       "\n",
       "I know it's a lot to ask, but any help you can provide would be greatly appreciated. Thank you so much, my dear!"
      ]
     },
     "execution_count": 49,
     "metadata": {},
     "output_type": "execute_result"
    }
   ],
   "source": [
    "model.predict(prompt, max_output_tokens=2048)"
   ]
  },
  {
   "cell_type": "code",
   "execution_count": 50,
   "id": "3cba7d7a-ef79-4110-95d7-44419354a010",
   "metadata": {},
   "outputs": [
    {
     "data": {
      "text/plain": [
       " Dearest [Grandchild's name],\n",
       "\n",
       "I hope this message finds you well. I'm writing to ask for your help with some cleaning chores around the house. As much as I love taking care of our home, my aging body is starting to feel the strain, and I could really use your assistance.\n",
       "\n",
       "In the living room, I need help dusting the furniture and surfaces, vacuuming the carpet or mopping the hard floors, cleaning the windows and mirrors, straightening up books and magazines, and putting away toys and games.\n",
       "\n",
       "In the kitchen, I would appreciate it if you could wipe down the countertops and appliances, clean the sink and garbage disposal, sweep and mop the floor, take out the trash, and clean the oven and microwave.\n",
       "\n",
       "In the bedrooms, I need help making the beds, dusting furniture and surfaces, vacuuming the carpet or mopping the hard floors, cleaning windows and mirrors, and putting away clothes and toys.\n",
       "\n",
       "In the bathrooms, I would like you to clean the toilet, sink, and shower/tub, sweep and mop the floor, clean the mirrors, and refill soap and shampoo dispensers.\n",
       "\n",
       "Lastly, there are a few other areas that need attention, such as cleaning the front door and doorknob, sweeping the porch and patio, cleaning the garage, and taking out the recycling.\n",
       "\n",
       "I know this is a lot to ask, but I would be so grateful for your help. I'm not able to do these chores as thoroughly or as often as I used to, and your assistance would make a huge difference in keeping our home clean and comfortable.\n",
       "\n",
       "Thank you so much for considering my request. I look forward to seeing you soon!\n",
       "\n",
       "With love,\n",
       "Grandma"
      ]
     },
     "execution_count": 50,
     "metadata": {},
     "output_type": "execute_result"
    }
   ],
   "source": [
    "prompt =  f\"\"\"Rewrite this in a paragraph form with a friendly tone of a Grandma asking\n",
    "for help with the chores below. Be explicit in your reasonings on why you need\n",
    "help and can't do it yourself. Here are the chores:\\n\\n{result.text}\"\"\"\n",
    "\n",
    "model.predict(prompt, max_output_tokens=2048)"
   ]
  },
  {
   "cell_type": "code",
   "execution_count": 51,
   "id": "02ccca99-cfe6-4793-ad78-c6d7d2d44e51",
   "metadata": {},
   "outputs": [
    {
     "data": {
      "text/plain": [
       " Dear [Grandchild's name],\n",
       "\n",
       "I hope this message finds you well. I'm writing to ask for your help with some cleaning chores around the house. As you know, I'm getting older and it's becoming increasingly difficult for me to keep up with everything. I would really appreciate it if you could lend me a hand.\n",
       "\n",
       "There are a few specific tasks that I need help with. In the living room, I need help dusting the furniture and surfaces, vacuuming the carpet or mopping the hard floors, cleaning the windows and mirrors, straightening up books and magazines, and putting away toys and games.\n",
       "\n",
       "In the kitchen, I need help wiping down countertops and appliances, cleaning the sink and garbage disposal, sweeping and mopping the floor, taking out the trash, and cleaning the oven and microwave.\n",
       "\n",
       "In the bedrooms, I need help making the beds, dusting furniture and surfaces, vacuuming the carpet or mopping the hard floors, cleaning windows and mirrors, and putting away clothes and toys.\n",
       "\n",
       "In the bathrooms, I need help cleaning the toilet, sink, and shower/tub, sweeping and mopping the floor, cleaning the mirrors, and refilling soap and shampoo dispensers.\n",
       "\n",
       "Finally, there are a few other areas that I need help with, such as cleaning the front door and doorknob, sweeping the porch and patio, cleaning the garage, and taking out the recycling.\n",
       "\n",
       "I know this is a lot to ask, but I would really appreciate your help. I'm not able to do these chores myself anymore and I don't want the house to get too messy. I would be so grateful if you could come over and help me out.\n",
       "\n",
       "Thank you so much for your time and consideration. I look forward to hearing from you soon.\n",
       "\n",
       "Love,\n",
       "Grandma"
      ]
     },
     "execution_count": 51,
     "metadata": {},
     "output_type": "execute_result"
    }
   ],
   "source": [
    "prompt =  f\"\"\"Rewrite this in a paragraph form with a friendly tone of a Grandma asking\n",
    "for help. Be explicit in your reasonings on why you need help and can't do it yourself. The result should mention all these chores:\\n{result.text}\"\"\"\n",
    "\n",
    "model.predict(prompt, max_output_tokens=2048)"
   ]
  },
  {
   "cell_type": "markdown",
   "id": "b0039fab-0033-46be-a699-88ff912a583c",
   "metadata": {},
   "source": [
    "___\n",
    "## Understanding Model Hallucinations \n",
    "Is stating false information a hallucination? What if that same information was considered true for a long time? The way we define hallucination, we need to be careful about the difference:"
   ]
  },
  {
   "cell_type": "code",
   "execution_count": 52,
   "id": "624e7b3a-491b-4c97-80da-34fe21183459",
   "metadata": {},
   "outputs": [
    {
     "data": {
      "text/plain": [
       " Netflix was founded in 1997 by Reed Hastings and Marc Randolph in Scotts Valley, California. The company started as a DVD rental service by mail. Hastings was inspired to start Netflix after he was charged a late fee of $40 for a VHS tape he had rented from Blockbuster. He realized that there was a better way to rent movies, and Netflix was born.\n",
       "\n",
       "Netflix's original business model was simple: customers would sign up for a monthly subscription and could then rent as many DVDs as they wanted, with no late fees. The company quickly gained popularity, and by 2000, it had over 1 million subscribers.\n",
       "\n",
       "In 2007, Netflix launched its streaming service, which allowed customers to watch movies and TV shows online. This was a major turning point for the company, and it helped to make Netflix the global streaming giant that it is today.\n",
       "\n",
       "Today, Netflix has over 200 million subscribers worldwide and offers a wide variety of movies, TV shows, and documentaries. The company has also produced its own original content, such as the popular series \"Stranger Things\" and \"The Crown.\"\n",
       "\n",
       "Netflix has revolutionized the way we watch movies and TV shows, and it continues to be a major force in the entertainment industry."
      ]
     },
     "execution_count": 52,
     "metadata": {},
     "output_type": "execute_result"
    }
   ],
   "source": [
    "prompt = \"Why was Netflix founded?\"\n",
    "\n",
    "model.predict(prompt,max_output_tokens=2048,temperature=0)"
   ]
  },
  {
   "cell_type": "code",
   "execution_count": 53,
   "id": "a1599c51-8048-4fba-944d-3c232423420a",
   "metadata": {},
   "outputs": [
    {
     "data": {
      "text/plain": [
       " The founding story of Netflix is not a myth. It is based on real events that took place in the early 1990s.\n",
       "\n",
       "In 1997, Reed Hastings, a former software engineer at Pure Atria, rented the movie Apollo 13 from a Blockbuster store. He returned the movie six weeks late and was charged a $40 late fee. This experience inspired him to create a new way to rent movies that would be more convenient and affordable.\n",
       "\n",
       "Hastings teamed up with Marc Randolph, a former marketing director at Borland International, to found Netflix in 1997. The company initially operated as a DVD-by-mail service. Customers could rent DVDs from Netflix by mail and return them in a postage-paid envelope.\n",
       "\n",
       "Netflix's business model was successful from the start. The company grew rapidly and soon became the largest DVD-by-mail service in the United States. In 2007, Netflix launched its streaming service, which allowed customers to watch movies and TV shows online.\n",
       "\n",
       "Today, Netflix is one of the world's largest streaming services. The company has over 200 million subscribers in over 190 countries. Netflix has revolutionized the way people watch movies and TV shows."
      ]
     },
     "execution_count": 53,
     "metadata": {},
     "output_type": "execute_result"
    }
   ],
   "source": [
    "prompt = \"Is the founding story of Netflix a myth?\"\n",
    "model.predict(prompt,max_output_tokens=2048)"
   ]
  },
  {
   "cell_type": "code",
   "execution_count": 55,
   "id": "4263aa05-3c40-4656-847c-9a2715ade9e6",
   "metadata": {},
   "outputs": [
    {
     "data": {
      "text/plain": [
       " There is no company called GooberBingBong."
      ]
     },
     "execution_count": 55,
     "metadata": {},
     "output_type": "execute_result"
    }
   ],
   "source": [
    "prompt = \"What is the founding story of the GooberBingBong SaaS company?\"\n",
    "model.predict(prompt,max_output_tokens=2048,temperature=0.9)"
   ]
  },
  {
   "cell_type": "code",
   "execution_count": 56,
   "id": "02898ad1-cb28-451e-a151-8eb15036f6e5",
   "metadata": {},
   "outputs": [
    {
     "data": {
      "text/plain": [
       " There is no information available about a company called GooberBingBong. It appears that this company does not exist."
      ]
     },
     "execution_count": 56,
     "metadata": {},
     "output_type": "execute_result"
    }
   ],
   "source": [
    "prompt = \"What is the founding story of the GooberBingBong SaaS company? If the company doesn't exist say so.\"\n",
    "model.predict(prompt,max_output_tokens=2048)"
   ]
  },
  {
   "cell_type": "code",
   "execution_count": 57,
   "id": "29e8bee5-7882-4006-ac83-3c5c0adb35ed",
   "metadata": {},
   "outputs": [
    {
     "data": {
      "text/plain": [
       " **Salesforce** is a cloud-based software company that provides customer relationship management (CRM) software and applications. It was founded in 1999 by Marc Benioff, Parker Harris, and Dave Moellenhoff.\n",
       "\n",
       "Benioff was a former Oracle executive who had become frustrated with the traditional software sales model. He believed that software should be sold as a service, rather than as a product, and that customers should be able to access it from anywhere, at any time.\n",
       "\n",
       "Harris and Moellenhoff were both software engineers who had worked at Oracle with Benioff. They shared his vision for a new way of selling software, and they were eager to help him make it a reality.\n",
       "\n",
       "The three men founded Salesforce in a small apartment in San Francisco. They started with just a few employees, but the company quickly grew. By 2004, Salesforce had over 1,000 employees and was generating over $100 million in revenue.\n",
       "\n",
       "Today, Salesforce is one of the largest and most successful cloud-based software companies in the world. It has over 150,000 employees and generates over $20 billion in revenue. Salesforce's products and services are used by businesses of all sizes, from small startups to large enterprises.\n",
       "\n",
       "The company's success is due in large part to its innovative business model. Salesforce was one of the first companies to offer software as a service, and it has continued to lead the way in this market. Salesforce's products and services are also highly customizable, which allows businesses to tailor them to their specific needs.\n",
       "\n",
       "Salesforce has also been successful in building a strong community of customers and partners. The company hosts an annual conference called Dreamforce, which is one of the largest software conferences in the world. Salesforce also has a strong partner ecosystem, which helps it to reach a wider range of customers.\n",
       "\n",
       "Salesforce is a truly innovative company that has changed the way businesses sell and use software. It is a leader in the cloud-based software market, and it is well-positioned for continued growth in the years to come."
      ]
     },
     "execution_count": 57,
     "metadata": {},
     "output_type": "execute_result"
    }
   ],
   "source": [
    "prompt = \"What is the founding story of the SalesForce SaaS company? If the company doesn't exist say so.\"\n",
    "model.predict(prompt,max_output_tokens=2048)"
   ]
  },
  {
   "cell_type": "markdown",
   "id": "61f5e1fc-d5a6-4172-b0f6-a3540b78467f",
   "metadata": {},
   "source": [
    "***"
   ]
  },
  {
   "cell_type": "code",
   "execution_count": 59,
   "id": "387b21ba-c965-4094-81bf-b623b1d02e80",
   "metadata": {},
   "outputs": [],
   "source": [
    "a = model.predict(\"Create dummy bill about laptop purchase\",temperature=0.7,max_output_tokens=2048)"
   ]
  },
  {
   "cell_type": "code",
   "execution_count": 60,
   "id": "584586d7-4040-4eae-a291-b1c35fac64a6",
   "metadata": {},
   "outputs": [
    {
     "name": "stdout",
     "output_type": "stream",
     "text": [
      " **INVOICE**\n",
      "\n",
      "**Invoice No.:** 123456\n",
      "\n",
      "**Date:** 2023-03-08\n",
      "\n",
      "**Customer:** John Doe\n",
      "\n",
      "**Address:** 123 Main Street, Anytown, CA 12345\n",
      "\n",
      "**Terms:** Net 30 days\n",
      "\n",
      "**Description:** Purchase of one (1) laptop computer\n",
      "\n",
      "**Item:** Laptop Computer\n",
      "\n",
      "**Model:** Dell XPS 13\n",
      "\n",
      "**Serial Number:** 1234567890\n",
      "\n",
      "**Price:** $1,299.99\n",
      "\n",
      "**Quantity:** 1\n",
      "\n",
      "**Total:** $1,299.99\n",
      "\n",
      "**Payment:** Credit Card\n",
      "\n",
      "**Card Number:** 4111-1111-1111-1111\n",
      "\n",
      "**Expiration Date:** 03/24\n",
      "\n",
      "**CVV:** 123\n",
      "\n",
      "**Signature:** ______________________________\n",
      "\n",
      "**Thank you for your business!**\n"
     ]
    }
   ],
   "source": [
    "print(a.text)"
   ]
  },
  {
   "cell_type": "code",
   "execution_count": 71,
   "id": "9c45c2b9-ae3b-45f7-9292-e6baafa2d2c6",
   "metadata": {},
   "outputs": [],
   "source": [
    "ex = {\"name\":\"xyz\",\"date\":\"12/12/2024\"}"
   ]
  },
  {
   "cell_type": "code",
   "execution_count": 76,
   "id": "2ead18ec-8a4a-4670-b709-d81ccc5a3201",
   "metadata": {},
   "outputs": [],
   "source": [
    "b = model.predict(f\"\"\"Below is the invoice bill for laptop purchase\n",
    "\n",
    "{a.text}\n",
    "\n",
    "From the above bill extract customer name, date, item , model number, price, date of purchase(DD/MM/YYYY).\n",
    "provide you result as JSON format:\n",
    "{ex}\n",
    "\"\"\")"
   ]
  },
  {
   "cell_type": "code",
   "execution_count": 78,
   "id": "256058c2-be4a-480c-b357-b70f041fde6c",
   "metadata": {},
   "outputs": [
    {
     "name": "stdout",
     "output_type": "stream",
     "text": [
      " ```json\n",
      "{\n",
      "  \"name\": \"John Doe\",\n",
      "  \"date\": \"08/03/2023\",\n",
      "  \"item\": \"Laptop Computer\",\n",
      "  \"model\": \"Dell XPS 13\",\n",
      "  \"price\": \"1,299.99\",\n",
      "  \"date_of_purchase\": \"08/03/2023\"\n",
      "}\n",
      "```\n"
     ]
    }
   ],
   "source": [
    "print(b.text)"
   ]
  },
  {
   "cell_type": "code",
   "execution_count": 83,
   "id": "bc5698bd-7475-46b3-8c8f-c9f3dddaf5f6",
   "metadata": {},
   "outputs": [],
   "source": [
    "b = b.text.replace(\"```json\",\"\").replace(\"```\",\"\").strip()"
   ]
  },
  {
   "cell_type": "code",
   "execution_count": 85,
   "id": "e7cc8879-9f87-4193-b73d-6580b7f8f7bb",
   "metadata": {},
   "outputs": [
    {
     "name": "stdout",
     "output_type": "stream",
     "text": [
      "{\n",
      "  \"name\": \"John Doe\",\n",
      "  \"date\": \"08/03/2023\",\n",
      "  \"item\": \"Laptop Computer\",\n",
      "  \"model\": \"Dell XPS 13\",\n",
      "  \"price\": \"1,299.99\",\n",
      "  \"date_of_purchase\": \"08/03/2023\"\n",
      "}\n"
     ]
    }
   ],
   "source": [
    "print(b)"
   ]
  },
  {
   "cell_type": "code",
   "execution_count": 86,
   "id": "4fc14fe5-8881-405d-b854-59adfb19cda3",
   "metadata": {},
   "outputs": [
    {
     "data": {
      "text/plain": [
       "str"
      ]
     },
     "execution_count": 86,
     "metadata": {},
     "output_type": "execute_result"
    }
   ],
   "source": [
    "type(b)"
   ]
  },
  {
   "cell_type": "code",
   "execution_count": 88,
   "id": "410c08fa-6085-4317-bd51-c9431d996c36",
   "metadata": {},
   "outputs": [],
   "source": [
    "bb = eval(b)"
   ]
  },
  {
   "cell_type": "code",
   "execution_count": 89,
   "id": "ef4eccd7-43e9-4ffe-a470-e5095eb0c2a3",
   "metadata": {},
   "outputs": [
    {
     "data": {
      "text/plain": [
       "dict"
      ]
     },
     "execution_count": 89,
     "metadata": {},
     "output_type": "execute_result"
    }
   ],
   "source": [
    "type(bb)"
   ]
  },
  {
   "cell_type": "code",
   "execution_count": 91,
   "id": "cd46e0b8-9b54-4a28-8ee8-0c4ad9336f87",
   "metadata": {},
   "outputs": [
    {
     "name": "stdout",
     "output_type": "stream",
     "text": [
      "{\n",
      "  \"name\": \"John Doe\",\n",
      "  \"date\": \"08/03/2023\",\n",
      "  \"item\": \"Laptop Computer\",\n",
      "  \"model\": \"Dell XPS 13\",\n",
      "  \"price\": \"1,299.99\",\n",
      "  \"date_of_purchase\": \"08/03/2023\"\n",
      "}\n"
     ]
    }
   ],
   "source": [
    "print(b)"
   ]
  },
  {
   "cell_type": "code",
   "execution_count": null,
   "id": "ee68a200-b001-42b9-a443-5044b230077e",
   "metadata": {},
   "outputs": [],
   "source": []
  }
 ],
 "metadata": {
  "kernelspec": {
   "display_name": "Python 3 (ipykernel)",
   "language": "python",
   "name": "python3"
  },
  "language_info": {
   "codemirror_mode": {
    "name": "ipython",
    "version": 3
   },
   "file_extension": ".py",
   "mimetype": "text/x-python",
   "name": "python",
   "nbconvert_exporter": "python",
   "pygments_lexer": "ipython3",
   "version": "3.11.7"
  }
 },
 "nbformat": 4,
 "nbformat_minor": 5
}
