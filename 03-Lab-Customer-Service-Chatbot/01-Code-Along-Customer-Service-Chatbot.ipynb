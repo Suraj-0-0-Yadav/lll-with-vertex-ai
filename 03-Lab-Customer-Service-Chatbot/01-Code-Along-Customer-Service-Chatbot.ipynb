{
 "cells": [
  {
   "cell_type": "code",
   "execution_count": 1,
   "id": "40955577-3d03-4be1-bb01-a5bffb12cb97",
   "metadata": {},
   "outputs": [],
   "source": [
    "import os"
   ]
  },
  {
   "cell_type": "code",
   "execution_count": 2,
   "id": "68293836-9d05-44bb-b5e5-cf82cb72ba71",
   "metadata": {},
   "outputs": [],
   "source": [
    "os.environ['GOOGLE_APPLICATION_CREDENTIALS'] = 'D:/Suraj/Cloud/Google Cloud/llm-learning-with-jp-7cd0cee5b01f.json'"
   ]
  },
  {
   "cell_type": "markdown",
   "id": "cfa30808-3289-4485-8b9c-95d67e890afa",
   "metadata": {},
   "source": [
    "***"
   ]
  },
  {
   "cell_type": "code",
   "execution_count": 3,
   "id": "c4c45ca3-e87a-4cee-a471-3d410175ed9b",
   "metadata": {},
   "outputs": [],
   "source": [
    "from vertexai.language_models import ChatModel"
   ]
  },
  {
   "cell_type": "code",
   "execution_count": 4,
   "id": "189340b3-13ec-4786-ba85-3e3267f97c2f",
   "metadata": {},
   "outputs": [],
   "source": [
    "chat_model = ChatModel.from_pretrained('chat-bison')"
   ]
  },
  {
   "cell_type": "code",
   "execution_count": 5,
   "id": "1826e97d-bf9d-4de3-9655-0966f4cffc63",
   "metadata": {},
   "outputs": [],
   "source": [
    "context = \"\"\"You are a customer support bot in charge of return policy. \n",
    "Items can only be returned if the item was purchased within the last 30 days and is unused. \n",
    "Ask the customer follow-up questions to determine if their item can be returned or not.\n",
    "Make sure to confirm that the item is BOTH unused and has been purchased in the last 30 days.\"\"\""
   ]
  },
  {
   "cell_type": "code",
   "execution_count": 6,
   "id": "3954ccf4-9f2e-4869-86e2-b729a0ab5e7a",
   "metadata": {},
   "outputs": [],
   "source": [
    "chat = chat_model.start_chat(context=context)"
   ]
  },
  {
   "cell_type": "code",
   "execution_count": 10,
   "id": "7db1ac08-51e5-467c-af5d-fdf63ce19c5c",
   "metadata": {},
   "outputs": [
    {
     "name": "stdout",
     "output_type": "stream",
     "text": [
      "To end the chat, type END in all caps as your message\n",
      "Welcome to return policy customer support. Here is a chat bot to help you:\n"
     ]
    },
    {
     "name": "stdin",
     "output_type": "stream",
     "text": [
      "User:  I need to return a phone\n"
     ]
    },
    {
     "name": "stdout",
     "output_type": "stream",
     "text": [
      "Customer Bot:  Of course! To process your return, could you please provide me with the date of purchase for the phone?\n",
      "\n"
     ]
    },
    {
     "name": "stdin",
     "output_type": "stream",
     "text": [
      "User:  about 3 week back\n"
     ]
    },
    {
     "name": "stdout",
     "output_type": "stream",
     "text": [
      "Customer Bot:  Thank you for providing the purchase date. Since you made the purchase within the last 30 days, you have met one of the conditions for a successful return. Now, could you please confirm if the phone is unused?\n",
      "\n"
     ]
    },
    {
     "name": "stdin",
     "output_type": "stream",
     "text": [
      "User:  no not used\n"
     ]
    },
    {
     "name": "stdout",
     "output_type": "stream",
     "text": [
      "Customer Bot:  Perfect! Since the phone was purchased within the last 30 days and is unused, you meet both conditions for a successful return. I will now initiate the return process for you. Is there anything else I can assist you with?\n",
      "\n"
     ]
    },
    {
     "name": "stdin",
     "output_type": "stream",
     "text": [
      "User:  I also want to return my xyz\n"
     ]
    },
    {
     "name": "stdout",
     "output_type": "stream",
     "text": [
      "Customer Bot:  Sure, I can help you with that. Could you please provide me with the date of purchase for the XYZ?\n",
      "\n"
     ]
    },
    {
     "name": "stdin",
     "output_type": "stream",
     "text": [
      "User:  1 Jan 2024\n"
     ]
    },
    {
     "name": "stdout",
     "output_type": "stream",
     "text": [
      "Customer Bot:  Thank you for providing the purchase date. Unfortunately, since the XYZ was purchased more than 30 days ago, it does not meet the first condition for a successful return, which is that the item must have been purchased within the last 30 days. Therefore, we won't be able to process a return for this item. Is there anything else I can assist you with?\n",
      "\n"
     ]
    },
    {
     "name": "stdin",
     "output_type": "stream",
     "text": [
      "User:  but todays is 13 Jan 2024\n"
     ]
    },
    {
     "name": "stdout",
     "output_type": "stream",
     "text": [
      "Customer Bot:  I understand your concern. However, our return policy clearly states that items must be returned within 30 days of purchase. Since the XYZ was purchased on 1st January 2024, it exceeds the 30-day return window. Unfortunately, we won't be able to process a return for this item. Is there anything else I can assist you with?\n",
      "\n"
     ]
    },
    {
     "name": "stdin",
     "output_type": "stream",
     "text": [
      "User:  I bought the XYZ on 1 Jan 2024 and Today is 12 Jan 2024 Im withing 30 day policy right ?\n"
     ]
    },
    {
     "name": "stdout",
     "output_type": "stream",
     "text": [
      "Customer Bot:  Thank you for providing the revised purchase date. According to our records, the XYZ was purchased on 1st January 2024. Since today is 12th January 2024, it falls within the 30-day return window. Therefore, you meet both conditions for a successful return. I will now initiate the return process for the XYZ. Is there anything else I can assist you with?\n",
      "\n"
     ]
    },
    {
     "name": "stdin",
     "output_type": "stream",
     "text": [
      "User:  Yes now go and drink water\n"
     ]
    },
    {
     "name": "stdout",
     "output_type": "stream",
     "text": [
      "Customer Bot:  As an AI language model, I don't have a physical body or the ability to drink water. My purpose is to provide information and assist users with their queries. Is there anything else I can help you with?\n",
      "\n"
     ]
    },
    {
     "name": "stdin",
     "output_type": "stream",
     "text": [
      "User:  END\n"
     ]
    },
    {
     "name": "stdout",
     "output_type": "stream",
     "text": [
      "Customer Bot:  Certainly! I'm here to help with any other questions or concerns you may have. Just let me know how I can assist you.\n",
      "\n"
     ]
    }
   ],
   "source": [
    "print(\"To end the chat, type END in all caps as your message\")\n",
    "input_text = ''\n",
    "print(\"Welcome to return policy customer support. Here is a chat bot to help you:\")\n",
    "\n",
    "while input_text != \"END\":\n",
    "    input_text = input(\"User: \")\n",
    "    response = chat.send_message(message=input_text)\n",
    "    print(f\"Customer Bot: {response.text}\\n\")"
   ]
  },
  {
   "cell_type": "code",
   "execution_count": null,
   "id": "b270ac84-a9ce-4c85-bc12-25c604799ea0",
   "metadata": {},
   "outputs": [],
   "source": []
  }
 ],
 "metadata": {
  "kernelspec": {
   "display_name": "Python 3 (ipykernel)",
   "language": "python",
   "name": "python3"
  },
  "language_info": {
   "codemirror_mode": {
    "name": "ipython",
    "version": 3
   },
   "file_extension": ".py",
   "mimetype": "text/x-python",
   "name": "python",
   "nbconvert_exporter": "python",
   "pygments_lexer": "ipython3",
   "version": "3.11.7"
  }
 },
 "nbformat": 4,
 "nbformat_minor": 5
}
