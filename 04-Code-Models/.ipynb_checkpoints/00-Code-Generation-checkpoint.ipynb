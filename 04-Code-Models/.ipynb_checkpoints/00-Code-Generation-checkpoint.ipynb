{
 "cells": [
  {
   "cell_type": "code",
   "execution_count": 1,
   "id": "e050ab13-7b3d-4531-83ad-288e586add5e",
   "metadata": {},
   "outputs": [],
   "source": [
    "import os"
   ]
  },
  {
   "cell_type": "code",
   "execution_count": 2,
   "id": "c79b2a0b-d8cc-45ca-9ab8-16321cf23ea2",
   "metadata": {},
   "outputs": [],
   "source": [
    "os.environ['GOOGLE_APPLICATION_CREDENTIALS'] = 'D:/Suraj/Cloud/Google Cloud/llm-learning-with-jp-7cd0cee5b01f.json'"
   ]
  },
  {
   "cell_type": "markdown",
   "id": "392956fd-4ad6-4c8c-a10a-da4c956e6911",
   "metadata": {},
   "source": [
    "***"
   ]
  },
  {
   "cell_type": "code",
   "execution_count": 3,
   "id": "6f3312f8-fd8c-4800-94e3-dcbdfe4b4217",
   "metadata": {},
   "outputs": [],
   "source": [
    "from vertexai.language_models import CodeGenerationModel"
   ]
  },
  {
   "cell_type": "code",
   "execution_count": 4,
   "id": "c48d1606-81e1-48e4-aaf1-10d4c5d35aa4",
   "metadata": {},
   "outputs": [],
   "source": [
    "code_generation_model = CodeGenerationModel.from_pretrained('code-bison')"
   ]
  },
  {
   "cell_type": "code",
   "execution_count": 5,
   "id": "ecc8d717-91ec-4062-bd22-7cd3fd71593a",
   "metadata": {},
   "outputs": [],
   "source": [
    "prefix = \"Write a Python function that prints a Christmas Tree with ASCII\""
   ]
  },
  {
   "cell_type": "code",
   "execution_count": 6,
   "id": "ea1e3547-405e-4c2a-93ab-5136d66c1007",
   "metadata": {},
   "outputs": [],
   "source": [
    "response = code_generation_model.predict(prefix=prefix,\n",
    "                                        temperature=0,          #DEFAULT\n",
    "                                        max_output_tokens=2048  #DEFAULT\n",
    "                                        )"
   ]
  },
  {
   "cell_type": "code",
   "execution_count": 7,
   "id": "d7984d81-0a6d-4ab7-a8ae-da6a876967ff",
   "metadata": {},
   "outputs": [
    {
     "name": "stdout",
     "output_type": "stream",
     "text": [
      "```python\n",
      "def print_christmas_tree(height):\n",
      "  \"\"\"Prints a Christmas tree with ASCII.\n",
      "\n",
      "  Args:\n",
      "    height: The height of the tree.\n",
      "  \"\"\"\n",
      "\n",
      "  # Create a list of the rows of the tree.\n",
      "  rows = []\n",
      "  for i in range(height):\n",
      "    # Create a row of the tree.\n",
      "    row = \" \" * (height - i - 1) + \"*\" * (2 * i + 1)\n",
      "    # Add the row to the list of rows.\n",
      "    rows.append(row)\n",
      "\n",
      "  # Print the rows of the tree.\n",
      "  for row in rows:\n",
      "    print(row)\n",
      "\n",
      "  # Print the trunk of the tree.\n",
      "  print(\" \" * (height - 1) + \"|\")\n",
      "```\n"
     ]
    }
   ],
   "source": [
    "print(response.text)"
   ]
  },
  {
   "cell_type": "code",
   "execution_count": 8,
   "id": "df2c1adc-05a7-4739-a504-a5b990a8730d",
   "metadata": {},
   "outputs": [],
   "source": [
    "prefix = \"Write a Python function that prints a Christmas Tree with ASCII. Do not call the function, \\\n",
    "          only reply with the function code.\"\n",
    "\n",
    "response = code_generation_model.predict(prefix=prefix,\n",
    "                                        temperature=0,          #DEFAULT\n",
    "                                        max_output_tokens=2048  #DEFAULT\n",
    "                                        )"
   ]
  },
  {
   "cell_type": "code",
   "execution_count": 9,
   "id": "63607d05-69ce-4af3-8ce9-eafc27ffa003",
   "metadata": {},
   "outputs": [
    {
     "name": "stdout",
     "output_type": "stream",
     "text": [
      "```python\n",
      "def print_christmas_tree(height):\n",
      "    \"\"\"Prints a Christmas tree with ASCII.\n",
      "\n",
      "    Args:\n",
      "        height (int): The height of the tree.\n",
      "    \"\"\"\n",
      "\n",
      "    # Create a list of the rows of the tree.\n",
      "    tree = []\n",
      "    for i in range(height):\n",
      "        # Create a row of the tree.\n",
      "        row = \" \" * (height - i - 1) + \"*\" * (2 * i + 1)\n",
      "        # Add the row to the list of rows.\n",
      "        tree.append(row)\n",
      "\n",
      "    # Create the trunk of the tree.\n",
      "    trunk = \" \" * (height - 1) + \"|\"\n",
      "\n",
      "    # Add the trunk to the list of rows.\n",
      "    tree.append(trunk)\n",
      "\n",
      "    # Print the tree.\n",
      "    for row in tree:\n",
      "        print(row)\n",
      "```\n"
     ]
    }
   ],
   "source": [
    "print(response.text)"
   ]
  },
  {
   "cell_type": "code",
   "execution_count": 10,
   "id": "f64ccd23-5c2f-4ef7-becb-9e8e9c0477be",
   "metadata": {},
   "outputs": [],
   "source": [
    "def print_christmas_tree(height):\n",
    "    \"\"\"Prints a Christmas tree with ASCII.\n",
    "\n",
    "    Args:\n",
    "        height (int): The height of the tree.\n",
    "    \"\"\"\n",
    "\n",
    "    # Create a list of the rows of the tree.\n",
    "    tree = []\n",
    "    for i in range(height):\n",
    "        # Create a row of the tree.\n",
    "        row = \" \" * (height - i - 1) + \"*\" * (2 * i + 1)\n",
    "        # Add the row to the list of rows.\n",
    "        tree.append(row)\n",
    "\n",
    "    # Create the trunk of the tree.\n",
    "    trunk = \" \" * (height - 1) + \"|\"\n",
    "\n",
    "    # Add the trunk to the list of rows.\n",
    "    tree.append(trunk)\n",
    "\n",
    "    # Print the tree.\n",
    "    for row in tree:\n",
    "        print(row)"
   ]
  },
  {
   "cell_type": "code",
   "execution_count": 11,
   "id": "0504188a-c0b4-4c48-a5be-a7d1d687606f",
   "metadata": {},
   "outputs": [
    {
     "name": "stdout",
     "output_type": "stream",
     "text": [
      "         *\n",
      "        ***\n",
      "       *****\n",
      "      *******\n",
      "     *********\n",
      "    ***********\n",
      "   *************\n",
      "  ***************\n",
      " *****************\n",
      "*******************\n",
      "         |\n"
     ]
    }
   ],
   "source": [
    "print_christmas_tree(10)"
   ]
  },
  {
   "cell_type": "code",
   "execution_count": 14,
   "id": "dff1038f-ab38-4bb3-ba95-895f82065367",
   "metadata": {},
   "outputs": [],
   "source": [
    "prefix = \"Write a Python function that prints a Christmas Tree with ASCII. Do not call the function, \\\n",
    "          only reply with the function code. I want onlt Python function dont include the code in ```python ```\"\n",
    "\n",
    "response = code_generation_model.predict(prefix=prefix,\n",
    "                                        temperature=0,          #DEFAULT\n",
    "                                        max_output_tokens=2048  #DEFAULT\n",
    "                                        )"
   ]
  },
  {
   "cell_type": "code",
   "execution_count": 25,
   "id": "b3449b7e-0ad0-44c2-90ae-58158d762eb7",
   "metadata": {},
   "outputs": [
    {
     "name": "stdout",
     "output_type": "stream",
     "text": [
      "def print_christmas_tree(height):\n",
      "  \"\"\"Prints a Christmas tree with ASCII.\n",
      "\n",
      "  Args:\n",
      "    height: The height of the tree.\n",
      "  \"\"\"\n",
      "\n",
      "  # Create a list of the rows of the tree.\n",
      "  rows = []\n",
      "  for i in range(height):\n",
      "    # Create a row of the tree.\n",
      "    row = \" \" * (height - i - 1) + \"*\" * (2 * i + 1)\n",
      "    # Add the row to the list of rows.\n",
      "    rows.append(row)\n",
      "\n",
      "  # Create the trunk of the tree.\n",
      "  trunk = \" \" * (height - 1) + \"|\"\n",
      "\n",
      "  # Add the trunk to the list of rows.\n",
      "  rows.append(trunk)\n",
      "\n",
      "  # Print the rows of the tree.\n",
      "  for row in rows:\n",
      "    print(row)\n"
     ]
    }
   ],
   "source": [
    "print(response.text.replace(\"```python\",\"\").replace(\"```\",\"\").strip())"
   ]
  },
  {
   "cell_type": "code",
   "execution_count": null,
   "id": "97959567-e53c-4443-844c-fafd60178e87",
   "metadata": {},
   "outputs": [],
   "source": []
  }
 ],
 "metadata": {
  "kernelspec": {
   "display_name": "Python 3 (ipykernel)",
   "language": "python",
   "name": "python3"
  },
  "language_info": {
   "codemirror_mode": {
    "name": "ipython",
    "version": 3
   },
   "file_extension": ".py",
   "mimetype": "text/x-python",
   "name": "python",
   "nbconvert_exporter": "python",
   "pygments_lexer": "ipython3",
   "version": "3.11.7"
  }
 },
 "nbformat": 4,
 "nbformat_minor": 5
}
