{
 "cells": [
  {
   "cell_type": "code",
   "execution_count": 1,
   "id": "811d1e20-c572-400c-8b4d-dcc22184b75b",
   "metadata": {},
   "outputs": [],
   "source": [
    "import os"
   ]
  },
  {
   "cell_type": "code",
   "execution_count": 2,
   "id": "d736c611-1809-4124-bde9-ba752e0e28d5",
   "metadata": {},
   "outputs": [],
   "source": [
    "os.environ['GOOGLE_APPLICATION_CREDENTIALS'] = 'D:/Suraj/Cloud/Google Cloud/llm-learning-with-jp-7cd0cee5b01f.json'"
   ]
  },
  {
   "cell_type": "markdown",
   "id": "29089818-08d6-4ef9-ad1e-6c0e11ad5f2c",
   "metadata": {},
   "source": [
    "***"
   ]
  },
  {
   "cell_type": "code",
   "execution_count": 3,
   "id": "449944c5-d80a-44fa-a034-100ec011bd58",
   "metadata": {},
   "outputs": [],
   "source": [
    "from vertexai.language_models import CodeGenerationModel"
   ]
  },
  {
   "cell_type": "code",
   "execution_count": 4,
   "id": "81846d1b-f0d6-475a-9f4e-a253cdf9927f",
   "metadata": {},
   "outputs": [],
   "source": [
    "code_complete = CodeGenerationModel.from_pretrained(\"code-gecko\")"
   ]
  },
  {
   "cell_type": "code",
   "execution_count": 5,
   "id": "7669d32a-01c1-4e93-b3e5-3b6c91b14f3d",
   "metadata": {},
   "outputs": [],
   "source": [
    "prefix = \"\"\"\n",
    "def get_minimum_value(number_list):\n",
    "\"\"\""
   ]
  },
  {
   "cell_type": "code",
   "execution_count": 6,
   "id": "60348351-6bed-4c36-aaa6-51279f0102bf",
   "metadata": {},
   "outputs": [
    {
     "data": {
      "text/plain": [
       "    return min(number_list)"
      ]
     },
     "execution_count": 6,
     "metadata": {},
     "output_type": "execute_result"
    }
   ],
   "source": [
    "code_complete.predict(prefix=prefix)"
   ]
  },
  {
   "cell_type": "code",
   "execution_count": null,
   "id": "f4150683-769b-4f18-8871-0f1b87278d28",
   "metadata": {},
   "outputs": [],
   "source": []
  },
  {
   "cell_type": "markdown",
   "id": "b1a1856f-ca9b-4b1c-b843-9f2621e11540",
   "metadata": {},
   "source": [
    "We can use an optional suffix. For code completion, suffix represents the end of a piece of meaningful programming code. The model attempts to fill in the code in between the prefix and suffix."
   ]
  },
  {
   "cell_type": "code",
   "execution_count": 14,
   "id": "ec7719e6-7c2d-43d9-88e4-c3b28bdb4b2b",
   "metadata": {},
   "outputs": [],
   "source": [
    "suffix = \"\"\"\n",
    "    return number_list\n",
    "\"\"\""
   ]
  },
  {
   "cell_type": "code",
   "execution_count": 15,
   "id": "74563532-06a0-4b1b-a20a-d634267358a0",
   "metadata": {},
   "outputs": [],
   "source": [
    "response = code_complete.predict(prefix=prefix,\n",
    "                     suffix=suffix)"
   ]
  },
  {
   "cell_type": "code",
   "execution_count": 16,
   "id": "21aa6e2b-bf08-4e28-8479-a653508262e8",
   "metadata": {},
   "outputs": [
    {
     "data": {
      "text/plain": [
       "    minimum_value = number_list[0]\n",
       "    for number in number_list:\n",
       "        if number < minimum_value:\n",
       "            minimum_value = number"
      ]
     },
     "execution_count": 16,
     "metadata": {},
     "output_type": "execute_result"
    }
   ],
   "source": [
    "response"
   ]
  },
  {
   "cell_type": "code",
   "execution_count": 17,
   "id": "424e6614-8faa-424c-8b57-52e06373f950",
   "metadata": {},
   "outputs": [
    {
     "name": "stdout",
     "output_type": "stream",
     "text": [
      "\n",
      "def get_minimum_value(number_list):\n",
      "    minimum_value = number_list[0]\n",
      "    for number in number_list:\n",
      "        if number < minimum_value:\n",
      "            minimum_value = number\n",
      "    return number_list\n",
      "\n"
     ]
    }
   ],
   "source": [
    "print(prefix + response.text + suffix)"
   ]
  },
  {
   "cell_type": "code",
   "execution_count": null,
   "id": "7768ef25-f9a4-4815-b36b-a9e9d62c904d",
   "metadata": {},
   "outputs": [],
   "source": []
  }
 ],
 "metadata": {
  "kernelspec": {
   "display_name": "Python 3 (ipykernel)",
   "language": "python",
   "name": "python3"
  },
  "language_info": {
   "codemirror_mode": {
    "name": "ipython",
    "version": 3
   },
   "file_extension": ".py",
   "mimetype": "text/x-python",
   "name": "python",
   "nbconvert_exporter": "python",
   "pygments_lexer": "ipython3",
   "version": "3.11.7"
  }
 },
 "nbformat": 4,
 "nbformat_minor": 5
}
