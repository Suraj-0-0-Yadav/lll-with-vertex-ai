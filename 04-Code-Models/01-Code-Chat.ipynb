{
 "cells": [
  {
   "cell_type": "code",
   "execution_count": 1,
   "id": "fbca00c2-3b62-4be4-b5e3-b8d7341dc4df",
   "metadata": {},
   "outputs": [],
   "source": [
    "import os"
   ]
  },
  {
   "cell_type": "code",
   "execution_count": 2,
   "id": "6a726c64-b91e-4248-aa6b-49707707edf2",
   "metadata": {},
   "outputs": [],
   "source": [
    "os.environ['GOOGLE_APPLICATION_CREDENTIALS'] = 'D:/Suraj/Cloud/Google Cloud/llm-learning-with-jp-7cd0cee5b01f.json'"
   ]
  },
  {
   "cell_type": "markdown",
   "id": "73f63aa8-75df-4d12-9a50-c167d14398f7",
   "metadata": {},
   "source": [
    "***"
   ]
  },
  {
   "cell_type": "code",
   "execution_count": 3,
   "id": "142c4c56-0abd-4c5f-8284-bf7dd9df046a",
   "metadata": {},
   "outputs": [],
   "source": [
    "from vertexai.language_models import CodeChatModel"
   ]
  },
  {
   "cell_type": "code",
   "execution_count": 4,
   "id": "1fc62399-a0bf-4773-a554-bd9635107598",
   "metadata": {},
   "outputs": [],
   "source": [
    "codechat_model = CodeChatModel.from_pretrained('codechat-bison')"
   ]
  },
  {
   "cell_type": "code",
   "execution_count": 5,
   "id": "dad6dd96-2863-4370-ac88-ccb0b2242771",
   "metadata": {},
   "outputs": [],
   "source": [
    "code_chat = codechat_model.start_chat()"
   ]
  },
  {
   "cell_type": "code",
   "execution_count": 7,
   "id": "45f130e2-1eb9-48a7-9103-dbb959e31ac1",
   "metadata": {},
   "outputs": [
    {
     "data": {
      "text/plain": [
       " ```python\n",
       "def find_smallest_number(list1):\n",
       "    smallest = list1[0]\n",
       "    for num in list1:\n",
       "        if num < smallest:\n",
       "            smallest = num\n",
       "    return smallest\n",
       "```"
      ]
     },
     "execution_count": 7,
     "metadata": {},
     "output_type": "execute_result"
    }
   ],
   "source": [
    "code_chat.send_message(\"Write a Python function that can calculate the smallest number in a list.Return only the Python function\")"
   ]
  },
  {
   "cell_type": "code",
   "execution_count": 8,
   "id": "5a9e9937-5b76-4729-a154-33dc7fa2d7e9",
   "metadata": {},
   "outputs": [
    {
     "data": {
      "text/plain": [
       "[ChatMessage(content='Write a Python function that can calculate the smallest number in a list', author='user'),\n",
       " ChatMessage(content=' ```python\\ndef find_smallest_number(list1):\\n    smallest = list1[0]\\n    for num in list1:\\n        if num < smallest:\\n            smallest = num\\n    return smallest\\n\\n# Example\\nlist1 = [10, 20, 4, 5, 6, 7, 8, 9]\\nprint(\"Smallest number in the list:\", find_smallest_number(list1))\\n```\\n\\nOutput:\\n\\n```\\nSmallest number in the list: 4\\n```', author='bot'),\n",
       " ChatMessage(content='Write a Python function that can calculate the smallest number in a list.Return only the Python function', author='user'),\n",
       " ChatMessage(content=' ```python\\ndef find_smallest_number(list1):\\n    smallest = list1[0]\\n    for num in list1:\\n        if num < smallest:\\n            smallest = num\\n    return smallest\\n```', author='bot')]"
      ]
     },
     "execution_count": 8,
     "metadata": {},
     "output_type": "execute_result"
    }
   ],
   "source": [
    "code_chat.message_history"
   ]
  },
  {
   "cell_type": "code",
   "execution_count": 9,
   "id": "ec435e8c-34d8-4c90-aff5-40a3198ac06e",
   "metadata": {},
   "outputs": [
    {
     "data": {
      "text/plain": [
       " ```python\n",
       "def find_smallest_number(list1, list2):\n",
       "    smallest = min(list1 + list2)\n",
       "    return smallest\n",
       "\n",
       "# Example\n",
       "list1 = [10, 20, 4, 5, 6, 7, 8, 9]\n",
       "list2 = [3, 11, 12, 13, 14, 15, 16, 17]\n",
       "print(\"Smallest number between the two lists:\", find_smallest_number(list1, list2))\n",
       "```\n",
       "\n",
       "Output:\n",
       "\n",
       "```\n",
       "Smallest number between the two lists: 3\n",
       "```"
      ]
     },
     "execution_count": 9,
     "metadata": {},
     "output_type": "execute_result"
    }
   ],
   "source": [
    "code_chat.send_message(\"Now update the function so that its the smallest value between two lists\")"
   ]
  },
  {
   "cell_type": "code",
   "execution_count": 10,
   "id": "1bfcca4f-83ab-4d34-82ab-fe0d851a1041",
   "metadata": {},
   "outputs": [
    {
     "data": {
      "text/plain": [
       " ```python\n",
       "def find_smallest_number(list1, list2):\n",
       "    smallest = min(list1 + list2)\n",
       "    return smallest\n",
       "```"
      ]
     },
     "execution_count": 10,
     "metadata": {},
     "output_type": "execute_result"
    }
   ],
   "source": [
    "code_chat.send_message(\"I want only Python function\")"
   ]
  },
  {
   "cell_type": "code",
   "execution_count": 11,
   "id": "a92147fc-f756-4d94-99e2-53c2b372812e",
   "metadata": {},
   "outputs": [
    {
     "data": {
      "text/plain": [
       " The + operator is used to concatenate two lists in Python. In this case, the `list1 + list2` expression creates a new list that contains all the elements from both `list1` and `list2`. The `min()` function then finds the smallest number in the concatenated list."
      ]
     },
     "execution_count": 11,
     "metadata": {},
     "output_type": "execute_result"
    }
   ],
   "source": [
    "code_chat.send_message(\"I'm confused by the + there, how does that work?\")"
   ]
  },
  {
   "cell_type": "code",
   "execution_count": 12,
   "id": "5102974a-b0d2-4aad-bdb5-78edfcddd7dd",
   "metadata": {},
   "outputs": [
    {
     "data": {
      "text/plain": [
       " The + operator is used to concatenate two lists in Python. In this case, the `list1 + list2` expression creates a new list that contains all the elements from both `list1` and `list2`. The `min()` function then finds the smallest number in the concatenated list.\n",
       "\n",
       "Here's an example to illustrate how it works:\n",
       "\n",
       "```python\n",
       "list1 = [1, 2, 3]\n",
       "list2 = [4, 5, 6]\n",
       "\n",
       "# Concatenate the two lists\n",
       "list3 = list1 + list2\n",
       "\n",
       "# Find the smallest number in the concatenated list\n",
       "smallest = min(list3)\n",
       "\n",
       "# Print the smallest number\n",
       "print(smallest)\n",
       "```\n",
       "\n",
       "Output:\n",
       "\n",
       "```\n",
       "1\n",
       "```\n",
       "\n",
       "In this example, the `list1 + list2` expression creates a new list `list3` that contains all the elements from both `list1` and `list2`. The `min()` function then finds the smallest number in `list3`, which is 1."
      ]
     },
     "execution_count": 12,
     "metadata": {},
     "output_type": "execute_result"
    }
   ],
   "source": [
    "code_chat.send_message(\"I'm confused by the + there, how does that work? Provide the answer in detail with example\")"
   ]
  },
  {
   "cell_type": "markdown",
   "id": "4d1efe02-2183-4148-9420-8e7c27989bea",
   "metadata": {},
   "source": [
    "***"
   ]
  },
  {
   "cell_type": "code",
   "execution_count": 18,
   "id": "8fb5b184-953e-42be-84fc-ca98a775b3e6",
   "metadata": {},
   "outputs": [
    {
     "data": {
      "text/plain": [
       "ChatMessage(content='Write a Python function that can calculate the smallest number in a list', author='user')"
      ]
     },
     "execution_count": 18,
     "metadata": {},
     "output_type": "execute_result"
    }
   ],
   "source": [
    "code_chat.message_history[0]"
   ]
  },
  {
   "cell_type": "code",
   "execution_count": 19,
   "id": "ff0c950d-bed9-4833-9e0b-fd79f81a8326",
   "metadata": {},
   "outputs": [
    {
     "data": {
      "text/plain": [
       "'Write a Python function that can calculate the smallest number in a list'"
      ]
     },
     "execution_count": 19,
     "metadata": {},
     "output_type": "execute_result"
    }
   ],
   "source": [
    "code_chat.message_history[0].content"
   ]
  },
  {
   "cell_type": "code",
   "execution_count": 20,
   "id": "d32c5952-635a-4fbf-a648-f1578e79dc33",
   "metadata": {},
   "outputs": [
    {
     "data": {
      "text/plain": [
       "'user'"
      ]
     },
     "execution_count": 20,
     "metadata": {},
     "output_type": "execute_result"
    }
   ],
   "source": [
    "code_chat.message_history[0].author"
   ]
  },
  {
   "cell_type": "code",
   "execution_count": 24,
   "id": "39027c62-d96e-417d-bd05-4c04bca86990",
   "metadata": {},
   "outputs": [
    {
     "name": "stdout",
     "output_type": "stream",
     "text": [
      "user : Write a Python function that can calculate the smallest number in a list\n",
      "\n",
      "bot :  ```python\n",
      "def find_smallest_number(list1):\n",
      "    smallest = list1[0]\n",
      "    for num in list1:\n",
      "        if num < smallest:\n",
      "            smallest = num\n",
      "    return smallest\n",
      "\n",
      "# Example\n",
      "list1 = [10, 20, 4, 5, 6, 7, 8, 9]\n",
      "print(\"Smallest number in the list:\", find_smallest_number(list1))\n",
      "```\n",
      "\n",
      "Output:\n",
      "\n",
      "```\n",
      "Smallest number in the list: 4\n",
      "```\n",
      "\n",
      "____________________________________________________________________________________________________\n",
      "\n",
      "user : Write a Python function that can calculate the smallest number in a list.Return only the Python function\n",
      "\n",
      "bot :  ```python\n",
      "def find_smallest_number(list1):\n",
      "    smallest = list1[0]\n",
      "    for num in list1:\n",
      "        if num < smallest:\n",
      "            smallest = num\n",
      "    return smallest\n",
      "```\n",
      "\n",
      "____________________________________________________________________________________________________\n",
      "\n",
      "user : Now update the function so that its the smallest value between two lists\n",
      "\n",
      "bot :  ```python\n",
      "def find_smallest_number(list1, list2):\n",
      "    smallest = min(list1 + list2)\n",
      "    return smallest\n",
      "\n",
      "# Example\n",
      "list1 = [10, 20, 4, 5, 6, 7, 8, 9]\n",
      "list2 = [3, 11, 12, 13, 14, 15, 16, 17]\n",
      "print(\"Smallest number between the two lists:\", find_smallest_number(list1, list2))\n",
      "```\n",
      "\n",
      "Output:\n",
      "\n",
      "```\n",
      "Smallest number between the two lists: 3\n",
      "```\n",
      "\n",
      "____________________________________________________________________________________________________\n",
      "\n",
      "user : I want only Python function\n",
      "\n",
      "bot :  ```python\n",
      "def find_smallest_number(list1, list2):\n",
      "    smallest = min(list1 + list2)\n",
      "    return smallest\n",
      "```\n",
      "\n",
      "____________________________________________________________________________________________________\n",
      "\n",
      "user : I'm confused by the + there, how does that work?\n",
      "\n",
      "bot :  The + operator is used to concatenate two lists in Python. In this case, the `list1 + list2` expression creates a new list that contains all the elements from both `list1` and `list2`. The `min()` function then finds the smallest number in the concatenated list.\n",
      "\n",
      "____________________________________________________________________________________________________\n",
      "\n",
      "user : I'm confused by the + there, how does that work? Provide the answer in detail with example\n",
      "\n",
      "bot :  The + operator is used to concatenate two lists in Python. In this case, the `list1 + list2` expression creates a new list that contains all the elements from both `list1` and `list2`. The `min()` function then finds the smallest number in the concatenated list.\n",
      "\n",
      "Here's an example to illustrate how it works:\n",
      "\n",
      "```python\n",
      "list1 = [1, 2, 3]\n",
      "list2 = [4, 5, 6]\n",
      "\n",
      "# Concatenate the two lists\n",
      "list3 = list1 + list2\n",
      "\n",
      "# Find the smallest number in the concatenated list\n",
      "smallest = min(list3)\n",
      "\n",
      "# Print the smallest number\n",
      "print(smallest)\n",
      "```\n",
      "\n",
      "Output:\n",
      "\n",
      "```\n",
      "1\n",
      "```\n",
      "\n",
      "In this example, the `list1 + list2` expression creates a new list `list3` that contains all the elements from both `list1` and `list2`. The `min()` function then finds the smallest number in `list3`, which is 1.\n",
      "\n",
      "____________________________________________________________________________________________________\n",
      "\n"
     ]
    }
   ],
   "source": [
    "for i in range(len(code_chat.message_history)):\n",
    "    msg = code_chat.message_history[i]\n",
    "    print(f\"{msg.author} : {msg.content}\\n\")\n",
    "\n",
    "    if msg.author == 'bot':\n",
    "        print(\"__\"*50)\n",
    "        print()"
   ]
  },
  {
   "cell_type": "code",
   "execution_count": null,
   "id": "c9e96707-6917-4726-9d85-1a7743b90026",
   "metadata": {},
   "outputs": [],
   "source": []
  }
 ],
 "metadata": {
  "kernelspec": {
   "display_name": "Python 3 (ipykernel)",
   "language": "python",
   "name": "python3"
  },
  "language_info": {
   "codemirror_mode": {
    "name": "ipython",
    "version": 3
   },
   "file_extension": ".py",
   "mimetype": "text/x-python",
   "name": "python",
   "nbconvert_exporter": "python",
   "pygments_lexer": "ipython3",
   "version": "3.11.7"
  }
 },
 "nbformat": 4,
 "nbformat_minor": 5
}
