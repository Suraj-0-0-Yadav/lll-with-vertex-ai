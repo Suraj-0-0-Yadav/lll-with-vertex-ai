{
 "cells": [
  {
   "cell_type": "code",
   "execution_count": 1,
   "id": "6bfe4b55-41d8-4a76-aa44-884480d9d2cc",
   "metadata": {},
   "outputs": [],
   "source": [
    "import os"
   ]
  },
  {
   "cell_type": "code",
   "execution_count": 2,
   "id": "6dc41a2b-47de-4d03-b5e6-a9dc4cdcf33c",
   "metadata": {},
   "outputs": [],
   "source": [
    "os.environ['GOOGLE_APPLICATION_CREDENTIALS'] = 'D:/Suraj/Cloud/Google Cloud/llm-learning-with-jp-7cd0cee5b01f.json'"
   ]
  },
  {
   "cell_type": "code",
   "execution_count": 3,
   "id": "5db42620-c1e1-416a-b020-ab7b5d932a44",
   "metadata": {},
   "outputs": [],
   "source": [
    "from vertexai.language_models import TextGenerationModel, ChatModel, InputOutputTextPair"
   ]
  },
  {
   "cell_type": "markdown",
   "id": "0a724ee9-b307-46a3-92f8-76d7ab978820",
   "metadata": {},
   "source": [
    "***"
   ]
  },
  {
   "cell_type": "code",
   "execution_count": 4,
   "id": "706929c6-718a-41e7-899d-07d4d7a8e147",
   "metadata": {},
   "outputs": [],
   "source": [
    "model_name = 'text-bison'"
   ]
  },
  {
   "cell_type": "code",
   "execution_count": 5,
   "id": "4a294f3a-044d-4804-887c-049178724e5c",
   "metadata": {},
   "outputs": [],
   "source": [
    "model = TextGenerationModel.from_pretrained(model_name)"
   ]
  },
  {
   "cell_type": "code",
   "execution_count": 28,
   "id": "1ccea09b-3ab5-4e66-8556-14a5a53062b4",
   "metadata": {},
   "outputs": [],
   "source": [
    "prompt = \"\"\" Given a category, create a list of 3 examples.\n",
    "Input: Car Brands\n",
    "Output: 1. Tesla 2. Toyota 3. Pontiac\n",
    "\n",
    "Input: Car Brands\n",
    "Output: 1. Tesla 2. Toyota 3. Pontiac\n",
    "\n",
    "Input: {0}\n",
    "Output: \n",
    "\"\"\""
   ]
  },
  {
   "cell_type": "code",
   "execution_count": 29,
   "id": "65209809-a29e-48c8-865c-f9c09d25e596",
   "metadata": {},
   "outputs": [
    {
     "name": "stdout",
     "output_type": "stream",
     "text": [
      " Given a category, create a list of 3 examples.\n",
      "Input: Car Brands\n",
      "Output: 1. Tesla 2. Toyota 3. Pontiac\n",
      "\n",
      "Input: Car Brands\n",
      "Output: 1. Tesla 2. Toyota 3. Pontiac\n",
      "\n",
      "Input: Fruits\n",
      "Output: \n",
      "\n"
     ]
    }
   ],
   "source": [
    "print(prompt.format(\"Fruits\"))"
   ]
  },
  {
   "cell_type": "code",
   "execution_count": 24,
   "id": "bbb96916-e1ec-4a81-be7e-5a0069ca20e4",
   "metadata": {},
   "outputs": [
    {
     "data": {
      "text/plain": [
       " 1. Apple\n",
       "2. Orange\n",
       "3. Banana"
      ]
     },
     "execution_count": 24,
     "metadata": {},
     "output_type": "execute_result"
    }
   ],
   "source": [
    "model.predict(prompt = prompt.format(\"Fruits\"))"
   ]
  },
  {
   "cell_type": "code",
   "execution_count": 31,
   "id": "09b9f73e-eb58-4c78-9f67-35165fe2370d",
   "metadata": {},
   "outputs": [
    {
     "data": {
      "text/plain": [
       " 1. Fridge\n",
       "2. Stove\n",
       "3. Microwave"
      ]
     },
     "execution_count": 31,
     "metadata": {},
     "output_type": "execute_result"
    }
   ],
   "source": [
    "model.predict(prompt = prompt.format(\"Kitchen\"))"
   ]
  },
  {
   "cell_type": "code",
   "execution_count": 25,
   "id": "4534b82f-73b8-45a7-a128-1c8a3ab33a23",
   "metadata": {},
   "outputs": [
    {
     "data": {
      "text/plain": [
       " 1. Apple\n",
       "2. Orange\n",
       "3. Banana"
      ]
     },
     "execution_count": 25,
     "metadata": {},
     "output_type": "execute_result"
    }
   ],
   "source": [
    "model.predict(prompt = prompt.format(\"Fruits\"),\n",
    "              stop_sequences=['Input:'])"
   ]
  },
  {
   "cell_type": "code",
   "execution_count": 32,
   "id": "18e12ac8-2dce-4d15-819e-d51841dc0389",
   "metadata": {},
   "outputs": [],
   "source": [
    "response = model.predict(prompt = prompt.format(\"Fruits\"),\n",
    "                         stop_sequences=['Input:']).text"
   ]
  },
  {
   "cell_type": "code",
   "execution_count": 33,
   "id": "85f7ba74-6eb6-4e76-b8bf-bb804e9e1a69",
   "metadata": {},
   "outputs": [
    {
     "data": {
      "text/plain": [
       "' 1. Apple\\n2. Orange\\n3. Banana'"
      ]
     },
     "execution_count": 33,
     "metadata": {},
     "output_type": "execute_result"
    }
   ],
   "source": [
    "response"
   ]
  },
  {
   "cell_type": "code",
   "execution_count": 41,
   "id": "26ab978d-22c7-4674-812c-1fc19faf119d",
   "metadata": {},
   "outputs": [
    {
     "data": {
      "text/plain": [
       " {\n",
       "  'appliances': [\n",
       "    'Fridge',\n",
       "    'Stove',\n",
       "    'Microwave'\n",
       "  ]\n",
       "}"
      ]
     },
     "execution_count": 41,
     "metadata": {},
     "output_type": "execute_result"
    }
   ],
   "source": [
    "model.predict(prompt=f\"\"\"\n",
    "A Text is provided to you below, extract all the keywords name and return them in JSON format.\n",
    "I want only json nothing else\n",
    "Text : {response}\n",
    "JSON : {{\n",
    "  'fruits': [\n",
    "    'Apple',\n",
    "    'Orange',\n",
    "    'Banana'\n",
    "  ]\n",
    "}}\n",
    "\n",
    "Text :  1. Fridge\\n2. Stove\\n3. Microwave\n",
    "JSON : \n",
    "\"\"\")\n"
   ]
  },
  {
   "cell_type": "markdown",
   "id": "5dab564a-f454-4823-9788-a7d671aeff26",
   "metadata": {},
   "source": [
    "***\n",
    "***\n",
    "## Chat Model"
   ]
  },
  {
   "cell_type": "code",
   "execution_count": 42,
   "id": "20842830-565c-487e-9059-32e4bc99676d",
   "metadata": {},
   "outputs": [],
   "source": [
    "chat_model = ChatModel.from_pretrained('chat-bison')"
   ]
  },
  {
   "cell_type": "code",
   "execution_count": 43,
   "id": "b39de2c7-6896-48da-83a6-03196c774f21",
   "metadata": {},
   "outputs": [],
   "source": [
    "pair_one = InputOutputTextPair(input_text='Car Brands',\n",
    "                               output_text='1. Tesla 2. Toyota 3. Pontiac')\n",
    "\n",
    "pair_two = InputOutputTextPair(input_text='Fruits',\n",
    "                               output_text='1. Apple 2. Strawberry 3. Pear')"
   ]
  },
  {
   "cell_type": "code",
   "execution_count": 44,
   "id": "691f3b4a-16d9-45f2-9a87-ffcfa301930c",
   "metadata": {},
   "outputs": [],
   "source": [
    "chat = chat_model.start_chat(context='Given a category, create a list of 3 examples.',\n",
    "                             examples=[pair_one,pair_two])"
   ]
  },
  {
   "cell_type": "code",
   "execution_count": 45,
   "id": "56a0a1cd-ddf3-4097-bcc8-2f7a0c5f5fb6",
   "metadata": {},
   "outputs": [
    {
     "data": {
      "text/plain": [
       " 1. Broccoli\n",
       "2. Carrot\n",
       "3. Cucumber"
      ]
     },
     "execution_count": 45,
     "metadata": {},
     "output_type": "execute_result"
    }
   ],
   "source": [
    "chat.send_message('Vegetables')"
   ]
  },
  {
   "cell_type": "code",
   "execution_count": null,
   "id": "07c66ac1-2fe4-4480-9a41-f84c60b722f5",
   "metadata": {},
   "outputs": [],
   "source": []
  },
  {
   "cell_type": "code",
   "execution_count": null,
   "id": "75e1f744-617b-4118-a09b-fd4f9985e50e",
   "metadata": {},
   "outputs": [],
   "source": []
  },
  {
   "cell_type": "code",
   "execution_count": null,
   "id": "bdd1acbd-a7f8-4108-a428-9d5b64edcedb",
   "metadata": {},
   "outputs": [],
   "source": []
  },
  {
   "cell_type": "code",
   "execution_count": null,
   "id": "c7484c8f-9511-4259-beef-a88dfc57f138",
   "metadata": {},
   "outputs": [],
   "source": []
  },
  {
   "cell_type": "code",
   "execution_count": null,
   "id": "df4768ef-c62d-4839-b8cf-280fe27b803f",
   "metadata": {},
   "outputs": [],
   "source": []
  },
  {
   "cell_type": "code",
   "execution_count": null,
   "id": "701534e1-fe28-4d9c-9916-7f5e0b9ec44e",
   "metadata": {},
   "outputs": [],
   "source": []
  },
  {
   "cell_type": "code",
   "execution_count": null,
   "id": "b65652a0-8760-443c-83c5-7d33d666ea83",
   "metadata": {},
   "outputs": [],
   "source": []
  },
  {
   "cell_type": "code",
   "execution_count": null,
   "id": "aee0a8e4-8b1e-4aa6-8e8b-44769f34f96f",
   "metadata": {},
   "outputs": [],
   "source": []
  },
  {
   "cell_type": "code",
   "execution_count": null,
   "id": "723c67aa-a756-4664-899c-db8f4c999917",
   "metadata": {},
   "outputs": [],
   "source": []
  },
  {
   "cell_type": "code",
   "execution_count": null,
   "id": "38b0bc03-668a-4a64-894c-74b3c3adcbcb",
   "metadata": {},
   "outputs": [],
   "source": []
  },
  {
   "cell_type": "code",
   "execution_count": null,
   "id": "fc45262a-1534-41db-acc1-643e544f3c08",
   "metadata": {},
   "outputs": [],
   "source": []
  },
  {
   "cell_type": "code",
   "execution_count": null,
   "id": "c5ef27b7-81ed-4dda-a28c-8f5a02fe37d9",
   "metadata": {},
   "outputs": [],
   "source": []
  },
  {
   "cell_type": "code",
   "execution_count": null,
   "id": "a47b1778-ab8d-4953-bdf4-182ca2a50080",
   "metadata": {},
   "outputs": [],
   "source": []
  }
 ],
 "metadata": {
  "kernelspec": {
   "display_name": "Python 3 (ipykernel)",
   "language": "python",
   "name": "python3"
  },
  "language_info": {
   "codemirror_mode": {
    "name": "ipython",
    "version": 3
   },
   "file_extension": ".py",
   "mimetype": "text/x-python",
   "name": "python",
   "nbconvert_exporter": "python",
   "pygments_lexer": "ipython3",
   "version": "3.11.7"
  }
 },
 "nbformat": 4,
 "nbformat_minor": 5
}
