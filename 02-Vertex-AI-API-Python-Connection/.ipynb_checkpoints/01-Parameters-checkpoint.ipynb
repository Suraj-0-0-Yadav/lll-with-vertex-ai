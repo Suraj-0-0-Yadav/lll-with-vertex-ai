{
 "cells": [
  {
   "cell_type": "code",
   "execution_count": 17,
   "id": "8034fb77-9556-4a65-bdd8-713c58ea6f6f",
   "metadata": {},
   "outputs": [],
   "source": [
    "import os"
   ]
  },
  {
   "cell_type": "code",
   "execution_count": 18,
   "id": "cfd980b1-932f-4978-af04-61b7345f4612",
   "metadata": {},
   "outputs": [],
   "source": [
    "os.environ['GOOGLE_APPLICATION_CREDENTIALS'] = 'D:/Suraj/Cloud/Google Cloud/llm-learning-with-jp-7cd0cee5b01f.json'"
   ]
  },
  {
   "cell_type": "code",
   "execution_count": null,
   "id": "36361e3c-802b-41c4-80fc-c46d782dda2d",
   "metadata": {},
   "outputs": [],
   "source": []
  },
  {
   "cell_type": "code",
   "execution_count": 19,
   "id": "df6579da-a3f6-467a-92b5-ad3d1a03cb27",
   "metadata": {},
   "outputs": [],
   "source": [
    "from vertexai.language_models import TextGenerationModel, ChatModel"
   ]
  },
  {
   "cell_type": "code",
   "execution_count": 6,
   "id": "c5324172-2d6b-44ef-8b65-e1bdb8358ea7",
   "metadata": {},
   "outputs": [],
   "source": [
    "model_name = 'text-bison'\n",
    "model = TextGenerationModel.from_pretrained(model_name)"
   ]
  },
  {
   "cell_type": "code",
   "execution_count": 7,
   "id": "2fcd75d4-d9e2-4afd-bd63-3edbc87f19bb",
   "metadata": {},
   "outputs": [
    {
     "data": {
      "text/plain": [
       " In the realm of code, where logic thrives,\n",
       "There dwells a language that truly strives,\n",
       "With syntax so clear, yet oh so sly,\n",
       "Python, the master, let's give it a try.\n",
       "\n",
       "With indentation, its power takes flight,\n",
       "A simple rule, yet it shines so bright,\n",
       "Blocks of code, neatly aligned,\n",
       "A visual delight, to the programmer's mind.\n",
       "\n",
       "But beware, dear coder, of its subtle might,\n",
       "For Python's got tricks, both day and night,\n",
       "Indentation's magic, a double-edged sword,\n",
       "One misplaced space, and"
      ]
     },
     "execution_count": 7,
     "metadata": {},
     "output_type": "execute_result"
    }
   ],
   "source": [
    "model.predict(prompt=\"Write a funny poem about python programming in sync.\")"
   ]
  },
  {
   "cell_type": "markdown",
   "id": "df2b8fd1-5b61-41d2-8330-7ce40acc0dd3",
   "metadata": {},
   "source": [
    "### max_output_tokens"
   ]
  },
  {
   "cell_type": "code",
   "execution_count": 8,
   "id": "58fb5d3a-9f57-4eeb-938d-480050627910",
   "metadata": {},
   "outputs": [
    {
     "data": {
      "text/plain": [
       " In the realm of code, where logic thrives,"
      ]
     },
     "execution_count": 8,
     "metadata": {},
     "output_type": "execute_result"
    }
   ],
   "source": [
    "model.predict(prompt=\"Write a funny poem about python programming in sync.\",\n",
    "             max_output_tokens=10)"
   ]
  },
  {
   "cell_type": "code",
   "execution_count": 9,
   "id": "b402f606-3883-4db9-aefc-2480e79d5171",
   "metadata": {},
   "outputs": [
    {
     "data": {
      "text/plain": [
       " In the realm of code, where logic thrives,\n",
       "A language dwells, where magic survives.\n",
       "Python it's called, a serpent of might,\n",
       "With syntax so sleek, it's a programmer's delight.\n",
       "\n",
       "In the land of Python, where dreams take flight,\n",
       "Indentation reigns, a guiding light.\n",
       "Each level of code, a story untold,\n",
       "A tale of logic, both new and old.\n",
       "\n",
       "With variables aplenty, like names in a play,\n",
       "Python embraces them all, in its own unique way.\n",
       "Strings, numbers, and lists, oh, what a feast!\n",
       "Python juggles them all, like a circus beast.\n",
       "\n",
       "Functions arise, like actors on stage,\n",
       "Performing their tasks, with precision and grace.\n",
       "Parameters they accept, like gifts from above,\n",
       "Returning their results, with unwavering love.\n",
       "\n",
       "Loops unfurl, like waves on the shore,\n",
       "Repeating their actions, forever and more.\n",
       "While loops and for loops, they dance and they twirl,\n",
       "Guiding the program, through its digital world.\n",
       "\n",
       "Conditionals stand tall, like sentries on guard,\n",
       "Evaluating expressions, with wisdom so hard.\n",
       "If statements and else, they ponder and choose,\n",
       "Directing the flow, like a river's muse.\n",
       "\n",
       "Modules emerge, like chapters in a book,\n",
       "Encapsulating code, with an organized look.\n",
       "Importing them all, like gathering friends,\n",
       "Python unites them, to achieve its ends.\n",
       "\n",
       "Classes take shape, like blueprints of might,\n",
       "Defining objects, with attributes so bright.\n",
       "Methods they possess, like tools in a shed,\n",
       "Performing their tasks, with grace in their tread.\n",
       "\n",
       "Inheritance flows, like a river so grand,\n",
       "Passing down traits, from parent to child, hand in hand.\n",
       "Polymorphism reigns, with its shapeshifting art,\n",
       "Objects adapting, to play any part.\n",
       "\n",
       "Exceptions arise, like unexpected guests,\n",
       "Disrupting the flow, putting code to the test.\n",
       "Try and except, they catch and they mend,\n",
       "Ensuring the program, will reach its intended end.\n",
       "\n",
       "With decorators adorned, like jewels on a crown,\n",
       "Functions enhanced, with powers renowned.\n",
       "@symbols they wear, like badges of fame,\n",
       "Transforming their code, with a magical flame.\n",
       "\n",
       "Generators yield, like fountains of data,\n",
       "Producing values, one by one, never to saturate.\n",
       "Iterators traverse, like explorers so bold,\n",
       "Unveiling the secrets, that data may hold.\n",
       "\n",
       "Concurrency emerges, like a symphony's beat,\n",
       "Tasks running in parallel, a harmonious feat.\n",
       "Threads and processes, they dance and they weave,\n",
       "Executing code, with a rhythm so sleek.\n",
       "\n",
       "Asynchronous programming, a dance so divine,\n",
       "Awaiting events, with patience sublime.\n",
       "Callbacks and promises, they whisper and wait,\n",
       "Responding to triggers, with code so elate.\n",
       "\n",
       "The Zen of Python, a philosophy so wise,\n",
       "Guiding the coders, to reach for the skies.\n",
       "Simplicity, readability, and efficiency,\n",
       "The pillars of Python, a programmer's odyssey.\n",
       "\n",
       "So raise your voice, in praise of Python's might,\n",
       "A language so versatile, a programmer's delight.\n",
       "With its power and grace, it conquers the code,\n",
       "Python, the serpent, forever bestowed."
      ]
     },
     "execution_count": 9,
     "metadata": {},
     "output_type": "execute_result"
    }
   ],
   "source": [
    "model.predict(prompt=\"Write a very long and funny poem about python programming in sync.\",\n",
    "              max_output_tokens=2048)"
   ]
  },
  {
   "cell_type": "code",
   "execution_count": 10,
   "id": "455ee674-c3d4-423c-9684-1e844e955fb6",
   "metadata": {},
   "outputs": [
    {
     "data": {
      "text/plain": [
       " **अजगर की दुनिया में**\n",
       "\n",
       "अजगर की दुनिया में, सब कुछ है मजेदार,\n",
       "कोडिंग सीखना है यहां, बिल्कुल भी ना दुश्वार।\n",
       "\n",
       "चलते हैं हम आज, अजगर की सैर करवाने,\n",
       "देखेंगे हम, इसके अद्भुत कारनामे।\n",
       "\n",
       "सबसे पहले, हम सीखेंगे, कैसे लिखते हैं कोड,\n",
       "फिर देखेंगे, कैसे चलता है, यह अद्भुत रोड।\n",
       "\n",
       "अजगर की ताकत है, बहुत ही जबरदस्त,\n",
       "यह कर सकता है, कुछ भी, जो तुम चाहो, बिल्कुल सटीक।\n",
       "\n",
       "चाहे वेबसाइट बनानी हो, या फिर कोई ऐप,\n",
       "अजगर से सब कुछ हो सकता है, बिल्कुल आसान और सटीक।\n",
       "\n",
       "तो चलो, शुरू करते हैं, अजगर की यात्रा,\n",
       "और सीखते हैं, इसके अद्भुत गुणों को, बिल्कुल बिना किसी बाधा।\n",
       "\n",
       "**अजगर की ताकत**\n",
       "\n",
       "अजगर की ताकत है, बहुत ही जबरदस्त,\n",
       "यह कर सकता है, कुछ भी, जो तुम चाहो, बिल्कुल सटीक।\n",
       "\n",
       "चाहे वेबसाइट बनानी हो, या फिर कोई ऐप,\n",
       "अजगर से सब कुछ हो सकता है, बिल्कुल आसान और सटीक।\n",
       "\n",
       "तो चलो, शुरू करते हैं, अजगर की यात्रा,\n",
       "और सीखते हैं, इसके अद्भुत गुणों को, बिल्कुल बिना किसी बाधा।\n",
       "\n",
       "**अजगर की कमजोरी**\n",
       "\n",
       "अजगर की कमजोरी है, यह है थोड़ा धीमा,\n",
       "लेकिन यह भी है, बहुत ही विश्वसनीय, बिल्कुल बिना किसी डर के।\n",
       "\n",
       "तो अगर तुम चाहते हो, एक विश्वसनीय भाषा,\n",
       "तो अजगर है तुम्हारे लिए, सबसे अच्छा विकल्प, बिल्कुल बिना किसी संदेह के।\n",
       "\n",
       "**अजगर का भविष्य**\n",
       "\n",
       "अजगर का भविष्य है, बहुत ही उज्ज्वल,\n",
       "यह बनने जा रहा है, दुनिया की सबसे लोकप्रिय भाषा, बिल्कुल बिना किसी संदेह के।\n",
       "\n",
       "तो अगर तुम सीखना चाहते हो, एक शक्तिशाली भाषा,\n",
       "तो अजगर है तुम्हारे लिए, सबसे अच्छा विकल्प, बिल्कुल बिना किसी संदेह के।\n",
       "\n",
       "**अजगर की दुनिया में, सब कुछ है मजेदार,\n",
       "कोडिंग सीखना है यहां, बिल्कुल भी ना दुश्वार।**"
      ]
     },
     "execution_count": 10,
     "metadata": {},
     "output_type": "execute_result"
    }
   ],
   "source": [
    "model.predict(prompt=\"Write a very long and funny poem about python programming in sync and in hindi\",\n",
    "              max_output_tokens=2048)"
   ]
  },
  {
   "cell_type": "markdown",
   "id": "cd34e42b-2a54-4313-a2ce-26d5989b108b",
   "metadata": {},
   "source": [
    "***"
   ]
  },
  {
   "cell_type": "markdown",
   "id": "cb85ae24-42a5-4cd1-a35d-d946525fa3d4",
   "metadata": {},
   "source": [
    "***"
   ]
  },
  {
   "cell_type": "code",
   "execution_count": 11,
   "id": "c118e284-f297-496c-9b28-563c18651817",
   "metadata": {},
   "outputs": [],
   "source": [
    "chat_model = ChatModel.from_pretrained('chat-bison')"
   ]
  },
  {
   "cell_type": "code",
   "execution_count": 12,
   "id": "f6cd1df8-7ec1-4048-82e8-8e080ad6229a",
   "metadata": {},
   "outputs": [],
   "source": [
    "chat = chat_model.start_chat()"
   ]
  },
  {
   "cell_type": "code",
   "execution_count": 13,
   "id": "58145f7c-7aea-437c-982d-98aec6afb450",
   "metadata": {},
   "outputs": [
    {
     "data": {
      "text/plain": [
       " **शीत ऋतु**\n",
       "\n",
       "शीत"
      ]
     },
     "execution_count": 13,
     "metadata": {},
     "output_type": "execute_result"
    }
   ],
   "source": [
    "chat.send_message(message=\"Write a poem about winter in hindi\",\n",
    "                  max_output_tokens=10)"
   ]
  },
  {
   "cell_type": "code",
   "execution_count": 14,
   "id": "d74e60b5-8d0a-4674-b76a-03a3679aa109",
   "metadata": {},
   "outputs": [
    {
     "data": {
      "text/plain": [
       " **शीत ऋतु**\n",
       "\n",
       "शीत ऋतु आ गई है,\n",
       "ठंडी हवाएँ चल रही हैं।\n",
       "पेड़ों पर पत्ते झड़ गए हैं,\n",
       "और जमीन पर बर्फ जम गई है।\n",
       "\n",
       "लोग अपने घरों में दुबके हुए हैं,\n",
       "और अलाव जलाकर खुद को गर्म रख रहे हैं।\n",
       "बच्चे बाहर बर्फ में खेल रहे हैं,\n",
       "और बर्फ के गोले बना रहे हैं।\n",
       "\n",
       "शीत ऋतु बहुत खूबसूरत है,\n",
       "लेकिन यह बहुत ठंडी भी है।\n",
       "इस मौसम में हमें बहुत सावधान रहना चाहिए,\n",
       "और खुद को गर्म रखना चाहिए।\n",
       "\n",
       "शीत ऋतु में हम कई तरह के पकवान बना सकते हैं,\n",
       "जैसे कि गाजर का हलवा, गुड़ की खीर, और मूंगफली की चिक्की।\n",
       "ये पकवान हमें ठंड से बचाते हैं,\n",
       "और हमें गर्माहट देते हैं।\n",
       "\n",
       "शीत ऋतु बहुत ही खास मौसम है,\n",
       "और हमें इसका आनंद लेना चाहिए।\n",
       "इस मौसम में हम अपने परिवार और दोस्तों के साथ मिलकर,\n",
       "कई तरह की मस्ती कर सकते हैं।\n",
       "\n",
       "तो आइए, शीत ऋतु का स्वागत करें,\n",
       "और इसका आनंद लें।"
      ]
     },
     "execution_count": 14,
     "metadata": {},
     "output_type": "execute_result"
    }
   ],
   "source": [
    "chat.send_message(message=\"Write a poem about winter in hindi\",\n",
    "                  max_output_tokens=1024)"
   ]
  },
  {
   "cell_type": "code",
   "execution_count": 16,
   "id": "cc9da2c1-6f8e-48ed-92e0-1a6d0a7e825e",
   "metadata": {},
   "outputs": [
    {
     "data": {
      "text/plain": [
       " **शीत ऋतु**\n",
       "\n",
       "शीत ऋतु आ गई है,\n",
       "ठंडी हवाएँ चल रही हैं।\n",
       "पेड़ों पर पत्ते झड़ गए हैं,\n",
       "और जमीन पर बर्फ जम गई है।\n",
       "\n",
       "लोग अपने घरों में दुबके हुए हैं,\n",
       "और अलाव जलाकर खुद को गर्म रख रहे हैं।\n",
       "बच्चे बाहर बर्फ में खेल रहे हैं,\n",
       "और बर्फ के गोले बना रहे हैं।\n",
       "\n",
       "शीत ऋतु बहुत खूबसूरत है,\n",
       "लेकिन यह बहुत ठंडी भी है।\n",
       "इस मौसम में हमें बहुत सावधान रहना चाहिए,\n",
       "और खुद को गर्म रखना चाहिए।\n",
       "\n",
       "शीत ऋतु में हम कई तरह के पकवान बना सकते हैं,\n",
       "जैसे कि गाजर का हलवा, गुड़ की खीर, और मूंगफली की चिक्की।\n",
       "ये पकवान हमें ठंड से बचाते हैं,\n",
       "और हमें गर्माहट देते हैं।\n",
       "\n",
       "शीत ऋतु बहुत ही खास मौसम है,\n",
       "और हमें इसका आनंद लेना चाहिए।\n",
       "इस मौसम में हम अपने परिवार और दोस्तों के साथ मिलकर,\n",
       "कई तरह की मस्ती कर सकते हैं।\n",
       "\n",
       "तो आइए, शीत ऋतु का स्वागत करें,\n",
       "और इसका आनंद लें।"
      ]
     },
     "execution_count": 16,
     "metadata": {},
     "output_type": "execute_result"
    }
   ],
   "source": [
    "chat.send_message(message=\"Write a poem about winter in hindi in sync.\",\n",
    "                  max_output_tokens=1024)"
   ]
  },
  {
   "cell_type": "markdown",
   "id": "88a08cc4-4a33-433b-9dd3-4f7691514cad",
   "metadata": {},
   "source": [
    "### temperature "
   ]
  },
  {
   "cell_type": "code",
   "execution_count": 22,
   "id": "97130efa-13d4-455b-a7d3-7568224d1d35",
   "metadata": {},
   "outputs": [],
   "source": [
    "model_name = 'text-bison'\n",
    "model = TextGenerationModel.from_pretrained(model_name)"
   ]
  },
  {
   "cell_type": "code",
   "execution_count": 23,
   "id": "2156f871-4eeb-4d64-8012-76ec7ae0af82",
   "metadata": {},
   "outputs": [],
   "source": [
    "prompt = \"Continue this story: 'I was walking and then most peculier thing happened...' \""
   ]
  },
  {
   "cell_type": "code",
   "execution_count": 26,
   "id": "34659704-b0e7-4899-a48a-d26f47f6029d",
   "metadata": {},
   "outputs": [
    {
     "data": {
      "text/plain": [
       " I was walking home from school one day when the most peculiar thing happened. I was walking down the street, minding my own business, when I saw a strange man standing on the corner. He was wearing a long black coat and a hat, and he had a long white beard. He was staring at me, and I felt a chill run down my spine.\n",
       "\n",
       "I quickened my pace, but the man didn't move. He just kept staring at me. I started to feel really scared, and I broke into a run. I ran as fast as I could, but the man didn't follow me. He just stood there, watching me go.\n",
       "\n",
       "I finally reached my house and ran inside. I slammed the door shut and leaned against it, trying to catch my breath. I was so scared, I didn't know what to do.\n",
       "\n",
       "I told my parents what had happened, and they called the police. The police came and searched the area, but they couldn't find the man. They said that he must have been a figment of my imagination.\n",
       "\n",
       "But I know what I saw. I saw a strange man standing on the corner, and he was staring at me. I don't know who he was or what he wanted, but I'm glad I got away.\n",
       "\n",
       "I never saw the man again, but I never forgot him either. I often think about him, and I wonder what he was doing that day. Was he waiting for me? Was he trying to tell me something? I don't know, but I'll never forget the strange man on the corner."
      ]
     },
     "execution_count": 26,
     "metadata": {},
     "output_type": "execute_result"
    }
   ],
   "source": [
    "model.predict(prompt=prompt,\n",
    "              max_output_tokens=1024,\n",
    "              temperature=0.0)"
   ]
  },
  {
   "cell_type": "code",
   "execution_count": 27,
   "id": "767f97bb-f371-418f-95de-e046d7a0c0c8",
   "metadata": {},
   "outputs": [
    {
     "data": {
      "text/plain": [
       " As I was taking a leisure walk through the park, something most peculiar caught my eye. A squirrel, usually known for its agility and quick movements, seemed to be frozen in place. It stood still, its tail erect and its beady eyes fixated on a particular spot in the distance.\n",
       "\n",
       "Curiosity piqued, I cautiously approached the squirrel, maintaining a respectful distance to avoid startling it. As I drew closer, I noticed that the creature's gaze was directed towards a small, glowing orb that hovered several feet above the ground. The orb emitted a soft, ethereal light, creating a surreal atmosphere in the otherwise peaceful park.\n",
       "\n",
       "Intrigued and compelled, I decided to sit on a nearby bench and observe the scene further. Minutes turned into what felt like an eternity as I witnessed the squirrel and the glowing orb engaged in a peculiar dance. The orb would slowly drift in one direction, only to be followed by the squirrel's unwavering gaze. it was a mesmerizing, unspoken communication between two vastly different beings.\n",
       "\n",
       "A hushed sense of awe settled upon the park as more and more people noticed the strange phenomenon. Some took out their phones to capture the moment, while others stood in silence, transfixed by this spectacle unfolding before their eyes. The squirrel, seemingly oblivious to the attention it had drawn, remained focused on the luminous orb.\n",
       "\n",
       "Eventually, the orb began to move higher into the sky, ascending beyond the reach of the treetops. The squirrel's gaze followed until the orb became a mere speck in the distance. After several moments, the squirrel shook itself, perhaps awoken from a trance, and scurried back into the safety of the trees.\n",
       "\n",
       "Left alone with the memory of this extraordinary occurrence. I walked back home pondering the implications of what I had just witnessed. Was it mere chance or something extraordinary a glimpse into another realm, a communication beyond our understanding? Whatever the truth may be, the frozen squirrel and the glowing orb had left an indelible mark on my perception of the world, reminding me that sometimes, the most magical encounters can occur in the most unexpected places."
      ]
     },
     "execution_count": 27,
     "metadata": {},
     "output_type": "execute_result"
    }
   ],
   "source": [
    "model.predict(prompt=prompt,\n",
    "              max_output_tokens=1024,\n",
    "              temperature=1.0)"
   ]
  },
  {
   "cell_type": "code",
   "execution_count": 29,
   "id": "4f4d682f-518f-4597-b96b-71b8cdfbabe2",
   "metadata": {},
   "outputs": [
    {
     "data": {
      "text/plain": [
       " I was walking along the bustling city streets, lost in my thoughts, when suddenly, the most peculiar thing happened. Time seemed to slow down, and the world around me took on a surreal quality. It was as if I had stepped into a parallel dimension, where the laws of physics and reality themselves were twisted and distorted.\n",
       "\n",
       "As I continued walking, I noticed that the buildings around me began to morph and change their shapes. They seemed to come alive, pulsating with vibrant colors and emitting strange, ethereal sounds. The pavement below my feet transformed into a kaleidoscope of patterns and textures, each step feeling like I was navigating through a surreal art installation.\n",
       "\n",
       "Amidst this extraordinary scene, I encountered a group of people who were equally bewildered. They were walking in slow motion, their movements fluid and dreamlike. Their conversation echoed around me, their voices weaving in and out of existence like whispers carried by the wind.\n",
       "\n",
       "Intrigued and yet slightly unnerved, I continued my journey through this extraordinary realm. Time continued to warp and bend, and the boundaries of reality seemed to dissolve. It was as if I had entered a dream, a place where anything was possible and the impossible became real.\n",
       "\n",
       "As I finally emerged from this surreal experience, the world snapped back to its familiar state. The buildings stood still, the pavement reverted to its concrete grey, and the people moved at a normal pace. But even as I returned to reality, the memory of  that peculiar moment lingered in my mind, leaving me with a sense of wonder and a curiosity to explore the hidden mysteries that might exist just beyond the edge of perception."
      ]
     },
     "execution_count": 29,
     "metadata": {},
     "output_type": "execute_result"
    }
   ],
   "source": [
    "model.predict(prompt=prompt,\n",
    "              max_output_tokens=1024,\n",
    "              temperature=1.0)"
   ]
  },
  {
   "cell_type": "markdown",
   "id": "2b77bc90-af75-4908-b300-d536d81ee77b",
   "metadata": {},
   "source": [
    "### top-K\n",
    "Range - [1,40] <br>\n",
    "Default - 40"
   ]
  },
  {
   "cell_type": "code",
   "execution_count": 30,
   "id": "7d2961fe-45c7-4532-aede-2dd034433e5f",
   "metadata": {},
   "outputs": [],
   "source": [
    "model_name = 'text-bison'\n",
    "model = TextGenerationModel.from_pretrained(model_name)"
   ]
  },
  {
   "cell_type": "code",
   "execution_count": 31,
   "id": "4733a942-ec17-4ec0-91d4-6151d75ffb4d",
   "metadata": {},
   "outputs": [],
   "source": [
    "prompt = \"Plan a trip to Rome\""
   ]
  },
  {
   "cell_type": "code",
   "execution_count": 32,
   "id": "e727d93f-77ff-4bc6-b323-f7c351789d0c",
   "metadata": {},
   "outputs": [
    {
     "data": {
      "text/plain": [
       " **Day 1: Arrival in Rome**\n",
       "\n",
       "* Arrive at Rome's Fiumicino Airport (FCO) and take the Leonardo Express train to Termini Station.\n",
       "* Check in to your hotel in the city center.\n",
       "* Enjoy a leisurely dinner at a traditional Italian restaurant.\n",
       "\n",
       "**Day 2: Ancient Rome**\n",
       "\n",
       "* Visit the Colosseum, the largest amphitheater ever built.\n",
       "* Explore the Roman Forum, the center of ancient Roman life.\n",
       "* See the Palatine Hill, one of the seven hills of Rome and the site of the imperial palaces.\n",
       "\n",
       "**Day 3: Vatican City**\n",
       "\n",
       "* Visit the Vatican City, the smallest country in the world.\n",
       "* See the Sistine Chapel, Michelangelo's masterpiece.\n",
       "* Visit St. Peter's Basilica, the largest church in the world.\n",
       "\n",
       "**Day 4: Trastevere**\n",
       "\n",
       "* Explore the Trastevere neighborhood, known for its charming streets and lively atmosphere.\n",
       "* Visit the Piazza Navona, one of the most beautiful squares in Rome.\n",
       "* Enjoy a traditional Roman pizza at a restaurant in Trastevere.\n",
       "\n",
       "**Day 5: Appian Way**\n",
       "\n",
       "* Take a walk along the Appian Way, an ancient Roman road.\n",
       "* Visit the Catacombs of Rome, underground burial chambers.\n",
       "* See the Circus Maximus, the largest stadium in ancient Rome.\n",
       "\n",
       "**Day 6: Day Trip to Pompeii**\n",
       "\n",
       "* Take a day trip to Pompeii, an ancient Roman city that was buried by a volcanic eruption.\n",
       "* Explore the ruins of the city, including the temples, theaters, and baths.\n",
       "* Learn about the lives of the people who lived in Pompeii before the eruption.\n",
       "\n",
       "**Day 7: Departure from Rome**\n",
       "\n",
       "* Check out of your hotel and take the Leonardo Express train back to Fiumicino Airport (FCO).\n",
       "* Depart from Rome."
      ]
     },
     "execution_count": 32,
     "metadata": {},
     "output_type": "execute_result"
    }
   ],
   "source": [
    "model.predict(prompt=prompt,\n",
    "              max_output_tokens=1024,\n",
    "              top_k=1,\n",
    "              temperature=0.1)"
   ]
  },
  {
   "cell_type": "code",
   "execution_count": 33,
   "id": "0625414e-b34f-4fa3-9b3f-70ce08fa66e7",
   "metadata": {},
   "outputs": [
    {
     "data": {
      "text/plain": [
       " **Day 1: Arrival**\n",
       "\n",
       "* Arrive at Rome Fiumicino Airport (FCO)\n",
       "* Take the Leonardo Express train to Termini Station (32 minutes)\n",
       "* Check in to your hotel in the city center\n",
       "* Go for a walk around the Piazza Navona and admire the Trevi Fountain\n",
       "* Have dinner at a traditional Italian restaurant\n",
       "\n",
       "**Day 2: Ancient Rome**\n",
       "\n",
       "* Visit the Colosseum, the largest amphitheater ever built\n",
       "* Explore the Roman Forum, the center of ancient Rome\n",
       "* See the Pantheon, a perfectly preserved ancient temple\n",
       "* Have dinner in Trastevere, a lively neighborhood with many restaurants and bars\n",
       "\n",
       "**Day 3: Vatican City**\n",
       "\n",
       "* Visit the Vatican City, the smallest country in the world\n",
       "* See the Sistine Chapel, Michelangelo's masterpiece\n",
       "* Visit St. Peter's Basilica, the largest church in the world\n",
       "* Have dinner in the Prati district, near the Vatican City\n",
       "\n",
       "**Day 4: Day Trip to Pompeii**\n",
       "\n",
       "* Take a day trip to Pompeii, an ancient Roman city that was buried by a volcanic eruption in 79 AD\n",
       "* Explore the ruins of the city, including the baths, temples, and theaters\n",
       "* Have lunch at a restaurant in Pompeii\n",
       "* Return to Rome in the evening\n",
       "\n",
       "**Day 5: Departure**\n",
       "\n",
       "* Check out of your hotel\n",
       "* Take the Leonardo Express train back to Fiumicino Airport (FCO)\n",
       "* Depart from Rome"
      ]
     },
     "execution_count": 33,
     "metadata": {},
     "output_type": "execute_result"
    }
   ],
   "source": [
    "model.predict(prompt=prompt,\n",
    "              max_output_tokens=1024,\n",
    "              top_k=1,\n",
    "              temperature=1.0)"
   ]
  },
  {
   "cell_type": "markdown",
   "id": "dc4cffbe-b4be-4499-a6b0-47df382eaf58",
   "metadata": {},
   "source": [
    "### top-p\n",
    "\n",
    "Range - [0-1] <br>\n",
    "Default - 0.95"
   ]
  },
  {
   "cell_type": "code",
   "execution_count": 34,
   "id": "05dda6ff-3203-4cfd-b4d4-430ffe7ccd77",
   "metadata": {},
   "outputs": [],
   "source": [
    "import textwrap"
   ]
  },
  {
   "cell_type": "code",
   "execution_count": 35,
   "id": "0509d5f4-46e8-4538-adc8-4c4622ab3141",
   "metadata": {},
   "outputs": [],
   "source": [
    "def nice_print(dictionary):\n",
    "    for key, value in dictionary.items():\n",
    "        print(f\"{key}:\")\n",
    "        print(\"\\n\".join(textwrap.wrap(value,width=120)))\n",
    "        print(\"-\"*120)"
   ]
  },
  {
   "cell_type": "code",
   "execution_count": 43,
   "id": "5b348c3b-a476-4828-8bf7-249a213e9ff7",
   "metadata": {},
   "outputs": [
    {
     "name": "stdout",
     "output_type": "stream",
     "text": [
      "Top p 0.95:\n",
      "In a small town nestled amidst rolling hills, a peculiar incident unfolded one fateful night. It all began when a group\n",
      "of friends decided to embark on a daring adventure. They had heard tales of an abandoned mansion on the outskirts of\n",
      "town, rumored to be\n",
      "------------------------------------------------------------------------------------------------------------------------\n",
      "Top p 0.5:\n",
      "In a small town nestled amidst rolling hills, a peculiar incident unfolded one fateful night. It all began when a group\n",
      "of friends decided to embark on a daring adventure. They had heard tales of an abandoned mansion on the outskirts of\n",
      "town, rumored to be\n",
      "------------------------------------------------------------------------------------------------------------------------\n",
      "Top p 0.2:\n",
      "In a small town nestled amidst rolling hills, a peculiar incident unfolded one fateful night. It all began when a group\n",
      "of friends decided to embark on a daring adventure. They had heard tales of an abandoned mansion on the outskirts of\n",
      "town, rumored to be\n",
      "------------------------------------------------------------------------------------------------------------------------\n",
      "Top p 0.05:\n",
      "In a small town nestled amidst rolling hills, a peculiar incident unfolded one fateful night. It all began when a group\n",
      "of friends decided to embark on a daring adventure. They had heard tales of an abandoned mansion on the outskirts of\n",
      "town, rumored to be\n",
      "------------------------------------------------------------------------------------------------------------------------\n"
     ]
    }
   ],
   "source": [
    "nice_print(\n",
    "    {\n",
    "        f\"Top p {top_p}\": model.predict(\n",
    "            prompt = \"\"\"Tell me a crazy story: \"\"\".strip(),\n",
    "            max_output_tokens = 50,\n",
    "            top_p=top_p,\n",
    "            temperature = 0.1\n",
    "        ).text\n",
    "        .strip()\n",
    "        for top_p in [0.95, 0.5, 0.2, 0.05]\n",
    "    }\n",
    ")"
   ]
  },
  {
   "cell_type": "code",
   "execution_count": 42,
   "id": "66bda96e-4b11-4414-8598-73142d62be55",
   "metadata": {},
   "outputs": [
    {
     "name": "stdout",
     "output_type": "stream",
     "text": [
      "Top p 0.95:\n",
      "Once upon a time, in a small town called Whistlebrook, where the air was filled with laughter and secrets, lived a\n",
      "charismatic clockmaker named Eli. Eli had a gift for creating intricate timepieces that seemed to capture the essence of\n",
      "magic. Each\n",
      "------------------------------------------------------------------------------------------------------------------------\n",
      "Top p 0.5:\n",
      "In a remote village on the outskirts of the Amazon rainforest, there lived a curious young woman named Elara. Her\n",
      "village was renowned for its strict adherence to tradition and rigid social norms, but Elara's insatiable curiosity and\n",
      "yearning for adventure set her\n",
      "------------------------------------------------------------------------------------------------------------------------\n",
      "Top p 0.2:\n",
      "Once upon a time, in a small town called Whistlebrook, where the air was filled with laughter and secrets, lived a\n",
      "charismatic clockmaker named Eli. Eli had a gift for creating intricate timepieces that seemed to capture the essence of\n",
      "magic. Each\n",
      "------------------------------------------------------------------------------------------------------------------------\n",
      "Top p 0.05:\n",
      "In a remote village on the outskirts of the Amazon rainforest, there lived a curious young woman named Elara. Her\n",
      "village was renowned for its strict adherence to tradition and rigid social norms, but Elara's insatiable curiosity and\n",
      "yearning for adventure set her\n",
      "------------------------------------------------------------------------------------------------------------------------\n"
     ]
    }
   ],
   "source": [
    "nice_print(\n",
    "    {\n",
    "        f\"Top p {top_p}\": model.predict(\n",
    "            prompt = \"\"\"Tell me a crazy story: \"\"\".strip(),\n",
    "            max_output_tokens = 50,\n",
    "            top_p=top_p,\n",
    "            temperature = 1.0\n",
    "        ).text.strip()\n",
    "        for top_p in [0.95, 0.5, 0.2,0.05]\n",
    "    }\n",
    ")"
   ]
  },
  {
   "cell_type": "code",
   "execution_count": 46,
   "id": "a5efe65c-bcf6-494e-9eb3-508ea4b85740",
   "metadata": {},
   "outputs": [
    {
     "name": "stdout",
     "output_type": "stream",
     "text": [
      "Top p 0.95:\n",
      "The temperature of boiling water at sea level is 100 degrees Celsius (212 degrees Fahrenheit).\n",
      "------------------------------------------------------------------------------------------------------------------------\n",
      "Top p 0.5:\n",
      "The temperature of boiling water at sea level is 100 degrees Celsius (212 degrees Fahrenheit).\n",
      "------------------------------------------------------------------------------------------------------------------------\n",
      "Top p 0.2:\n",
      "The temperature of boiling water at sea level is 100 degrees Celsius (212 degrees Fahrenheit).\n",
      "------------------------------------------------------------------------------------------------------------------------\n",
      "Top p 0.1:\n",
      "The temperature of boiling water at sea level is 100 degrees Celsius (212 degrees Fahrenheit).\n",
      "------------------------------------------------------------------------------------------------------------------------\n",
      "Top p 0.01:\n",
      "The temperature of boiling water at sea level is 100 degrees Celsius (212 degrees Fahrenheit).\n",
      "------------------------------------------------------------------------------------------------------------------------\n",
      "Top p 0.001:\n",
      "The temperature of boiling water at sea level is 100 degrees Celsius (212 degrees Fahrenheit).\n",
      "------------------------------------------------------------------------------------------------------------------------\n"
     ]
    }
   ],
   "source": [
    "nice_print(\n",
    "    {\n",
    "        f\"Top p {top_p}\": model.predict(\n",
    "            prompt = \"\"\"Temperature of boiling water is: \"\"\".strip(),\n",
    "            max_output_tokens = 50,\n",
    "            top_p=top_p,\n",
    "            temperature = 1.0\n",
    "        ).text.strip()\n",
    "        for top_p in [0.95, 0.5, 0.2, 0.1, 0.01, 0.001]\n",
    "    }\n",
    ")"
   ]
  },
  {
   "cell_type": "markdown",
   "id": "c0ad2359-a0d2-4cf8-aab3-2fa3aa0d5c2a",
   "metadata": {},
   "source": [
    "### stop sequence"
   ]
  },
  {
   "cell_type": "code",
   "execution_count": 49,
   "id": "2c4a38c4-2844-439e-9028-f400d30eac91",
   "metadata": {},
   "outputs": [
    {
     "data": {
      "text/plain": [
       " **Vegetables:**\n",
       "\n",
       "1. Asparagus\n",
       "2. Bell peppers\n",
       "3. Broccoli\n",
       "4. Brussels sprouts\n",
       "5. Cabbage\n",
       "6. Carrots\n",
       "7. Cauliflower\n",
       "8. Celery\n",
       "9. Corn\n",
       "10. Cucumbers\n",
       "11. Eggplant\n",
       "12. Garlic\n",
       "13. Green beans\n",
       "14. Kale\n",
       "15. Lettuce\n",
       "16. Mushrooms\n",
       "17. Onions\n",
       "18. Peas\n",
       "19. Potatoes\n",
       "20. Radishes\n",
       "21. Spinach\n",
       "22. Squash\n",
       "23. Tomatoes\n",
       "24. Turnips\n",
       "25. Zucchini"
      ]
     },
     "execution_count": 49,
     "metadata": {},
     "output_type": "execute_result"
    }
   ],
   "source": [
    "model.predict(prompt=\"Create a numbered list of vegetables: \")"
   ]
  },
  {
   "cell_type": "code",
   "execution_count": 50,
   "id": "40ffba30-cccb-49a4-87ab-c13af06bde02",
   "metadata": {},
   "outputs": [
    {
     "data": {
      "text/plain": [
       " **Vegetables:**\n",
       "\n",
       "1. Asparagus\n",
       "2. Bell peppers\n",
       "3. Broccoli\n"
      ]
     },
     "execution_count": 50,
     "metadata": {},
     "output_type": "execute_result"
    }
   ],
   "source": [
    "model.predict(prompt=\"Create a numbered list of vegetables: \",\n",
    "              stop_sequences=['4.'])"
   ]
  },
  {
   "cell_type": "code",
   "execution_count": 51,
   "id": "cf3af4fc-9f4a-413e-a514-49311739d370",
   "metadata": {},
   "outputs": [
    {
     "data": {
      "text/plain": [
       " Hydrogen, Helium, Lithium, Beryllium, Boron, Carbon, Nitrogen, Oxygen, Fluorine, Neon, Sodium, Magnesium, Aluminum, Silicon, Phosphorus"
      ]
     },
     "execution_count": 51,
     "metadata": {},
     "output_type": "execute_result"
    }
   ],
   "source": [
    "model.predict(prompt=\"Write 15 element comma separated name from periodic table: \")"
   ]
  },
  {
   "cell_type": "code",
   "execution_count": 52,
   "id": "56a7a2fb-3f03-422a-82a2-4b1b8947a5ff",
   "metadata": {},
   "outputs": [
    {
     "data": {
      "text/plain": [
       " Hydrogen"
      ]
     },
     "execution_count": 52,
     "metadata": {},
     "output_type": "execute_result"
    }
   ],
   "source": [
    "model.predict(prompt=\"Write 15 element comma separated name from periodic table: \",\n",
    "              stop_sequences=[','])"
   ]
  },
  {
   "cell_type": "markdown",
   "id": "918ea05b-e4ce-4b3b-957e-7aa01a705684",
   "metadata": {},
   "source": [
    "***\n",
    "***"
   ]
  },
  {
   "cell_type": "code",
   "execution_count": null,
   "id": "fd559edc-7870-4490-88f8-ade2bcee420d",
   "metadata": {},
   "outputs": [],
   "source": []
  },
  {
   "cell_type": "code",
   "execution_count": null,
   "id": "ae136b73-0aa5-491e-a7ea-868fc246b31b",
   "metadata": {},
   "outputs": [],
   "source": []
  }
 ],
 "metadata": {
  "kernelspec": {
   "display_name": "Python 3 (ipykernel)",
   "language": "python",
   "name": "python3"
  },
  "language_info": {
   "codemirror_mode": {
    "name": "ipython",
    "version": 3
   },
   "file_extension": ".py",
   "mimetype": "text/x-python",
   "name": "python",
   "nbconvert_exporter": "python",
   "pygments_lexer": "ipython3",
   "version": "3.11.7"
  }
 },
 "nbformat": 4,
 "nbformat_minor": 5
}
