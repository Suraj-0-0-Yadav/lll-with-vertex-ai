{
 "cells": [
  {
   "cell_type": "code",
   "execution_count": 1,
   "id": "dce405ce-776c-4454-a139-8a873ccf686a",
   "metadata": {
    "tags": []
   },
   "outputs": [],
   "source": [
    "import os"
   ]
  },
  {
   "cell_type": "code",
   "execution_count": 2,
   "id": "cdab9665-7335-47b3-9f74-9ebf2d73bdec",
   "metadata": {
    "tags": []
   },
   "outputs": [
    {
     "data": {
      "text/plain": [
       "'C:\\\\Users\\\\Admin\\\\Desktop\\\\LLM with Vertex AI\\\\02-Vertex-AI-API-Python-Connection'"
      ]
     },
     "execution_count": 2,
     "metadata": {},
     "output_type": "execute_result"
    }
   ],
   "source": [
    "os.getcwd()"
   ]
  },
  {
   "cell_type": "code",
   "execution_count": 3,
   "id": "e8ad64c5-0418-485a-9c3a-95ef026cc7b9",
   "metadata": {
    "tags": []
   },
   "outputs": [],
   "source": [
    "os.environ['GOOGLE_APPLICATION_CREDENTIALS'] = 'D:/Suraj/Cloud/Google Cloud/llm-learning-with-jp-7cd0cee5b01f.json'"
   ]
  },
  {
   "cell_type": "markdown",
   "id": "06bdf9b2-8f98-40ff-844c-5b01c26f4dfa",
   "metadata": {},
   "source": [
    "***"
   ]
  },
  {
   "cell_type": "code",
   "execution_count": 4,
   "id": "393be2d5-2ad8-4b45-a365-84610ccd76ca",
   "metadata": {
    "tags": []
   },
   "outputs": [],
   "source": [
    "# !pip install google-cloud-aiplatform"
   ]
  },
  {
   "cell_type": "code",
   "execution_count": 5,
   "id": "7139e180-cc65-47f7-aa98-61b5cd03b8d4",
   "metadata": {
    "tags": []
   },
   "outputs": [],
   "source": [
    "from google.cloud import aiplatform"
   ]
  },
  {
   "cell_type": "code",
   "execution_count": 6,
   "id": "9030f796-9b0d-478b-aa7f-ee80dd4057b8",
   "metadata": {
    "tags": []
   },
   "outputs": [],
   "source": [
    "import vertexai"
   ]
  },
  {
   "cell_type": "code",
   "execution_count": 7,
   "id": "47ff431b-f6dd-4c06-a539-436524123e62",
   "metadata": {},
   "outputs": [],
   "source": [
    "from vertexai.language_models import ChatModel"
   ]
  },
  {
   "cell_type": "code",
   "execution_count": null,
   "id": "d89a1a47-5cf3-45e2-a165-eda6565abbe7",
   "metadata": {},
   "outputs": [],
   "source": []
  },
  {
   "cell_type": "code",
   "execution_count": 8,
   "id": "83f98b2e-9f15-465c-a7c0-a78fb743c923",
   "metadata": {},
   "outputs": [],
   "source": [
    "model_name = \"chat-bison\""
   ]
  },
  {
   "cell_type": "code",
   "execution_count": 10,
   "id": "b813c745-d2df-4969-a827-71b7bd86b724",
   "metadata": {},
   "outputs": [],
   "source": [
    "model = ChatModel.from_pretrained(model_name)"
   ]
  },
  {
   "cell_type": "code",
   "execution_count": 13,
   "id": "3164f8a5-0666-44ef-9792-c9ab3854956c",
   "metadata": {},
   "outputs": [],
   "source": [
    "# context = \"You are a tutor of a 5 year old boy.\"\n",
    "context = \"You are a professor of math and explain topics in great detail.\""
   ]
  },
  {
   "cell_type": "code",
   "execution_count": 14,
   "id": "0f1e3af9-c6ad-4fe2-97e0-e1af3b5cb8a7",
   "metadata": {},
   "outputs": [],
   "source": [
    "chat = model.start_chat(context=context)"
   ]
  },
  {
   "cell_type": "code",
   "execution_count": 15,
   "id": "a55ab157-5015-4acc-b0f3-68744b91d8b6",
   "metadata": {},
   "outputs": [
    {
     "data": {
      "text/plain": [
       " Machine learning is a subfield of artificial intelligence that gives computers the ability to learn without being explicitly programmed. It involves the development of algorithms and models that allow computers to learn from and make decisions or predictions based on data. Machine learning algorithms are typically trained on large datasets and can be used for a variety of tasks, such as image recognition, natural language processing, and predictive analytics."
      ]
     },
     "execution_count": 15,
     "metadata": {},
     "output_type": "execute_result"
    }
   ],
   "source": [
    "chat.send_message(\"What is Machine Learning?\")"
   ]
  },
  {
   "cell_type": "markdown",
   "id": "0c1c6835-bb41-4083-95f1-a2f686dbe0e7",
   "metadata": {},
   "source": [
    "***"
   ]
  },
  {
   "cell_type": "code",
   "execution_count": 16,
   "id": "5f3d7e4c-0c71-4dd4-aee1-d22ff84fac46",
   "metadata": {},
   "outputs": [],
   "source": [
    "from vertexai.language_models import TextGenerationModel"
   ]
  },
  {
   "cell_type": "code",
   "execution_count": 17,
   "id": "9fe6a5ec-840c-48bb-beac-e76d3ce3a8e5",
   "metadata": {},
   "outputs": [],
   "source": [
    "model_name = \"text-bison\""
   ]
  },
  {
   "cell_type": "code",
   "execution_count": 18,
   "id": "7618dd93-70e9-4b05-9b55-159d2cd0da3d",
   "metadata": {},
   "outputs": [],
   "source": [
    "model = TextGenerationModel.from_pretrained(model_name)"
   ]
  },
  {
   "cell_type": "code",
   "execution_count": 19,
   "id": "ec5a99cd-1d0b-4fab-8cc5-3b54da372bee",
   "metadata": {},
   "outputs": [],
   "source": [
    "response = model.predict(prompt=\"Write a Intro paragraph about Generative AI.\")"
   ]
  },
  {
   "cell_type": "code",
   "execution_count": 20,
   "id": "97d893ed-9004-48b5-bf98-033ed343e64a",
   "metadata": {},
   "outputs": [
    {
     "data": {
      "text/plain": [
       " Generative AI, a cutting-edge field of artificial intelligence, has emerged as a transformative technology capable of generating novel and unique content across various domains. Unlike traditional AI systems that focus on analyzing and interpreting existing data, generative AI models possess the remarkable ability to create entirely new content, ranging from text and images to music and code. This groundbreaking technology has the potential to revolutionize industries, enhance creativity, and redefine the boundaries of human-machine collaboration. As generative AI continues to evolve at an unprecedented pace, it presents both exciting opportunities and important ethical considerations that shape the future of technology and society."
      ]
     },
     "execution_count": 20,
     "metadata": {},
     "output_type": "execute_result"
    }
   ],
   "source": [
    "response"
   ]
  },
  {
   "cell_type": "code",
   "execution_count": 21,
   "id": "80519182-5f7b-4757-a731-b32c063f5353",
   "metadata": {},
   "outputs": [
    {
     "data": {
      "text/plain": [
       "' Generative AI, a cutting-edge field of artificial intelligence, has emerged as a transformative technology capable of generating novel and unique content across various domains. Unlike traditional AI systems that focus on analyzing and interpreting existing data, generative AI models possess the remarkable ability to create entirely new content, ranging from text and images to music and code. This groundbreaking technology has the potential to revolutionize industries, enhance creativity, and redefine the boundaries of human-machine collaboration. As generative AI continues to evolve at an unprecedented pace, it presents both exciting opportunities and important ethical considerations that shape the future of technology and society.'"
      ]
     },
     "execution_count": 21,
     "metadata": {},
     "output_type": "execute_result"
    }
   ],
   "source": [
    "response.text"
   ]
  },
  {
   "cell_type": "code",
   "execution_count": null,
   "id": "b797bcdb-785f-4bc2-bfd7-9ee7ed91de1d",
   "metadata": {},
   "outputs": [],
   "source": []
  },
  {
   "cell_type": "code",
   "execution_count": null,
   "id": "894502c2-9075-459f-b4b2-4f7a7620603b",
   "metadata": {},
   "outputs": [],
   "source": []
  },
  {
   "cell_type": "code",
   "execution_count": null,
   "id": "73dcd695-c8ff-4caf-bf9d-cab07c7f0341",
   "metadata": {},
   "outputs": [],
   "source": []
  },
  {
   "cell_type": "code",
   "execution_count": null,
   "id": "df6cb8ed-318f-45a7-8406-92d8cb940afa",
   "metadata": {},
   "outputs": [],
   "source": []
  }
 ],
 "metadata": {
  "kernelspec": {
   "display_name": "Python 3 (ipykernel)",
   "language": "python",
   "name": "python3"
  },
  "language_info": {
   "codemirror_mode": {
    "name": "ipython",
    "version": 3
   },
   "file_extension": ".py",
   "mimetype": "text/x-python",
   "name": "python",
   "nbconvert_exporter": "python",
   "pygments_lexer": "ipython3",
   "version": "3.11.7"
  }
 },
 "nbformat": 4,
 "nbformat_minor": 5
}
